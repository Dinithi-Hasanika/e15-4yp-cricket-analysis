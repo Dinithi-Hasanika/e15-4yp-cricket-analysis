{
 "cells": [
  {
   "cell_type": "code",
   "execution_count": 1,
   "metadata": {},
   "outputs": [],
   "source": [
    "import numpy as np\n",
    "import pandas as pd\n",
    "import matplotlib.pyplot as plt\n",
    "import seaborn as sns\n",
    "%matplotlib inline"
   ]
  },
  {
   "cell_type": "code",
   "execution_count": 2,
   "metadata": {},
   "outputs": [],
   "source": [
    "#load data file\n",
    "data = pd.read_csv('bdesh.csv')"
   ]
  },
  {
   "cell_type": "code",
   "execution_count": 3,
   "metadata": {},
   "outputs": [
    {
     "data": {
      "text/html": [
       "<div>\n",
       "<style scoped>\n",
       "    .dataframe tbody tr th:only-of-type {\n",
       "        vertical-align: middle;\n",
       "    }\n",
       "\n",
       "    .dataframe tbody tr th {\n",
       "        vertical-align: top;\n",
       "    }\n",
       "\n",
       "    .dataframe thead th {\n",
       "        text-align: right;\n",
       "    }\n",
       "</style>\n",
       "<table border=\"1\" class=\"dataframe\">\n",
       "  <thead>\n",
       "    <tr style=\"text-align: right;\">\n",
       "      <th></th>\n",
       "      <th>p1</th>\n",
       "      <th>p1-s</th>\n",
       "      <th>p2</th>\n",
       "      <th>p2-s</th>\n",
       "      <th>p3</th>\n",
       "      <th>p3-s</th>\n",
       "      <th>p4</th>\n",
       "      <th>p4-s</th>\n",
       "      <th>p5</th>\n",
       "      <th>p5-s</th>\n",
       "      <th>...</th>\n",
       "      <th>p7</th>\n",
       "      <th>p7-s</th>\n",
       "      <th>p8</th>\n",
       "      <th>p8-s</th>\n",
       "      <th>p9</th>\n",
       "      <th>p9-s</th>\n",
       "      <th>p10</th>\n",
       "      <th>p10-s</th>\n",
       "      <th>p11</th>\n",
       "      <th>p11-s</th>\n",
       "    </tr>\n",
       "  </thead>\n",
       "  <tbody>\n",
       "    <tr>\n",
       "      <th>0</th>\n",
       "      <td>Anamul Haque</td>\n",
       "      <td>29</td>\n",
       "      <td>Tamim Iqbal</td>\n",
       "      <td>19</td>\n",
       "      <td>Soumya Sarkar</td>\n",
       "      <td>28</td>\n",
       "      <td>Mahmudullah</td>\n",
       "      <td>23</td>\n",
       "      <td>Shakib Al Hasan</td>\n",
       "      <td>63</td>\n",
       "      <td>...</td>\n",
       "      <td>Sabbir Rahman</td>\n",
       "      <td>3</td>\n",
       "      <td>Mashrafe Mortaza</td>\n",
       "      <td>14</td>\n",
       "      <td>Mushfiqur Rahim</td>\n",
       "      <td>3</td>\n",
       "      <td>Rubel Hossain</td>\n",
       "      <td>0</td>\n",
       "      <td>Taskin Ahmed</td>\n",
       "      <td>1</td>\n",
       "    </tr>\n",
       "    <tr>\n",
       "      <th>1</th>\n",
       "      <td>Tamim Iqbal</td>\n",
       "      <td>0</td>\n",
       "      <td>Anamul Haque</td>\n",
       "      <td>29</td>\n",
       "      <td>Soumya Sarkar</td>\n",
       "      <td>25</td>\n",
       "      <td>Mominul Haque</td>\n",
       "      <td>1</td>\n",
       "      <td>Mahmudullah</td>\n",
       "      <td>28</td>\n",
       "      <td>...</td>\n",
       "      <td>Mushfiqur Rahim</td>\n",
       "      <td>36</td>\n",
       "      <td>Sabbir Rahman</td>\n",
       "      <td>53</td>\n",
       "      <td>Mashrafe Mortaza</td>\n",
       "      <td>7</td>\n",
       "      <td>Rubel Hossain</td>\n",
       "      <td>0</td>\n",
       "      <td>Taskin Ahmed</td>\n",
       "      <td>0</td>\n",
       "    </tr>\n",
       "    <tr>\n",
       "      <th>2</th>\n",
       "      <td>Tamim Iqbal</td>\n",
       "      <td>2</td>\n",
       "      <td>Imrul Kayes</td>\n",
       "      <td>2</td>\n",
       "      <td>Soumya Sarkar</td>\n",
       "      <td>40</td>\n",
       "      <td>Mahmudullah</td>\n",
       "      <td>103</td>\n",
       "      <td>Shakib Al Hasan</td>\n",
       "      <td>2</td>\n",
       "      <td>...</td>\n",
       "      <td>Sabbir Rahman</td>\n",
       "      <td>14</td>\n",
       "      <td>Mashrafe Mortaza</td>\n",
       "      <td>6</td>\n",
       "      <td>Arafat Sunny</td>\n",
       "      <td>3</td>\n",
       "      <td>Rubel Hossain</td>\n",
       "      <td>0</td>\n",
       "      <td>Taskin Ahmed</td>\n",
       "      <td>0</td>\n",
       "    </tr>\n",
       "    <tr>\n",
       "      <th>3</th>\n",
       "      <td>Tamim Iqbal</td>\n",
       "      <td>13</td>\n",
       "      <td>Imrul Kayes</td>\n",
       "      <td>2</td>\n",
       "      <td>Soumya Sarkar</td>\n",
       "      <td>51</td>\n",
       "      <td>Mahmudullah</td>\n",
       "      <td>128</td>\n",
       "      <td>Shakib Al Hasan</td>\n",
       "      <td>23</td>\n",
       "      <td>...</td>\n",
       "      <td>Sabbir Rahman</td>\n",
       "      <td>40</td>\n",
       "      <td>Nasir Hossain</td>\n",
       "      <td>11</td>\n",
       "      <td>Rubel Hossain</td>\n",
       "      <td>0</td>\n",
       "      <td>Taijul Islam</td>\n",
       "      <td>0</td>\n",
       "      <td>Taskin Ahmed</td>\n",
       "      <td>0</td>\n",
       "    </tr>\n",
       "    <tr>\n",
       "      <th>4</th>\n",
       "      <td>Tamim Iqbal</td>\n",
       "      <td>25</td>\n",
       "      <td>Imrul Kayes</td>\n",
       "      <td>5</td>\n",
       "      <td>Soumya Sarkar</td>\n",
       "      <td>29</td>\n",
       "      <td>Mahmudullah</td>\n",
       "      <td>21</td>\n",
       "      <td>Shakib Al Hasan</td>\n",
       "      <td>10</td>\n",
       "      <td>...</td>\n",
       "      <td>Sabbir Rahman</td>\n",
       "      <td>30</td>\n",
       "      <td>Nasir Hossain</td>\n",
       "      <td>35</td>\n",
       "      <td>Mashrafe Mortaza</td>\n",
       "      <td>1</td>\n",
       "      <td>Rubel Hossain</td>\n",
       "      <td>0</td>\n",
       "      <td>Taskin Ahmed</td>\n",
       "      <td>0</td>\n",
       "    </tr>\n",
       "  </tbody>\n",
       "</table>\n",
       "<p>5 rows × 22 columns</p>\n",
       "</div>"
      ],
      "text/plain": [
       "             p1  p1-s            p2  p2-s             p3  p3-s             p4  \\\n",
       "0  Anamul Haque    29   Tamim Iqbal    19  Soumya Sarkar    28    Mahmudullah   \n",
       "1   Tamim Iqbal     0  Anamul Haque    29  Soumya Sarkar    25  Mominul Haque   \n",
       "2   Tamim Iqbal     2   Imrul Kayes     2  Soumya Sarkar    40    Mahmudullah   \n",
       "3   Tamim Iqbal    13   Imrul Kayes     2  Soumya Sarkar    51    Mahmudullah   \n",
       "4   Tamim Iqbal    25   Imrul Kayes     5  Soumya Sarkar    29    Mahmudullah   \n",
       "\n",
       "   p4-s               p5  p5-s  ...               p7  p7-s                p8  \\\n",
       "0    23  Shakib Al Hasan    63  ...    Sabbir Rahman     3  Mashrafe Mortaza   \n",
       "1     1      Mahmudullah    28  ...  Mushfiqur Rahim    36     Sabbir Rahman   \n",
       "2   103  Shakib Al Hasan     2  ...    Sabbir Rahman    14  Mashrafe Mortaza   \n",
       "3   128  Shakib Al Hasan    23  ...    Sabbir Rahman    40     Nasir Hossain   \n",
       "4    21  Shakib Al Hasan    10  ...    Sabbir Rahman    30     Nasir Hossain   \n",
       "\n",
       "   p8-s                p9  p9-s            p10  p10-s           p11  p11-s  \n",
       "0    14   Mushfiqur Rahim     3  Rubel Hossain      0  Taskin Ahmed      1  \n",
       "1    53  Mashrafe Mortaza     7  Rubel Hossain      0  Taskin Ahmed      0  \n",
       "2     6      Arafat Sunny     3  Rubel Hossain      0  Taskin Ahmed      0  \n",
       "3    11     Rubel Hossain     0   Taijul Islam      0  Taskin Ahmed      0  \n",
       "4    35  Mashrafe Mortaza     1  Rubel Hossain      0  Taskin Ahmed      0  \n",
       "\n",
       "[5 rows x 22 columns]"
      ]
     },
     "execution_count": 3,
     "metadata": {},
     "output_type": "execute_result"
    }
   ],
   "source": [
    "data.head()"
   ]
  },
  {
   "cell_type": "code",
   "execution_count": 4,
   "metadata": {},
   "outputs": [],
   "source": [
    "players = ['p1','p2','p3','p4','p5','p6','p7','p8','p9','p10','p11']\n",
    "player_scores = ['p1-s','p2-s','p3-s','p4-s','p5-s','p6-s','p7-s','p8-s','p9-s','p10-s','p11-s']"
   ]
  },
  {
   "cell_type": "code",
   "execution_count": 5,
   "metadata": {},
   "outputs": [],
   "source": [
    "x = set()"
   ]
  },
  {
   "cell_type": "code",
   "execution_count": 6,
   "metadata": {},
   "outputs": [],
   "source": [
    "for i in players:\n",
    "    for j in range(len(data[i].unique())):\n",
    "        x.add(data[i].unique()[j])"
   ]
  },
  {
   "cell_type": "code",
   "execution_count": 7,
   "metadata": {},
   "outputs": [
    {
     "name": "stdout",
     "output_type": "stream",
     "text": [
      "{'Shakib Al Hasan', 'Abul Hasan', 'Imrul Kayes', 'Fazle Mahmud', 'Jubair Hossain', 'Nasir Hossain', 'Tamim Iqbal', 'Mohammad Mithun', 'Abu Jayed', 'Mosaddek Hossain', 'Mominul Haque', 'Najmul Hossain Shanto', 'Rubel Hossain', 'Soumya Sarkar', 'Subashis Roy', 'Sabbir Rahman', 'Anamul Haque', 'Mushfiqur Rahim', 'Liton Das', 'Sunzamul Islam', 'Mohammad Saifuddin', 'Afif Hossain', 'Mohammad Naim', 'Mashrafe Mortaza', 'Mustafizur Rahman', 'Taijul Islam', 'Shafiul Islam', 'Al-Amin Hossain', 'Nazmul Islam', 'Abu Hider', 'Mehidy Hasan Miraz', 'Mahmudullah', 'Tanbir Hayder', 'Nurul Hasan', 'Arafat Sunny', 'Mosharraf Hossain', 'Taskin Ahmed', 'Ariful Haque'}\n"
     ]
    }
   ],
   "source": [
    "print(x)"
   ]
  },
  {
   "cell_type": "code",
   "execution_count": 8,
   "metadata": {},
   "outputs": [
    {
     "data": {
      "text/plain": [
       "38"
      ]
     },
     "execution_count": 8,
     "metadata": {},
     "output_type": "execute_result"
    }
   ],
   "source": [
    "len(x)"
   ]
  },
  {
   "cell_type": "code",
   "execution_count": 9,
   "metadata": {},
   "outputs": [
    {
     "name": "stdout",
     "output_type": "stream",
     "text": [
      "['Shakib Al Hasan', 'Abul Hasan', 'Imrul Kayes', 'Fazle Mahmud', 'Jubair Hossain', 'Nasir Hossain', 'Tamim Iqbal', 'Mohammad Mithun', 'Abu Jayed', 'Mosaddek Hossain', 'Mominul Haque', 'Najmul Hossain Shanto', 'Rubel Hossain', 'Soumya Sarkar', 'Subashis Roy', 'Sabbir Rahman', 'Anamul Haque', 'Mushfiqur Rahim', 'Liton Das', 'Sunzamul Islam', 'Mohammad Saifuddin', 'Afif Hossain', 'Mohammad Naim', 'Mashrafe Mortaza', 'Mustafizur Rahman', 'Taijul Islam', 'Shafiul Islam', 'Al-Amin Hossain', 'Nazmul Islam', 'Abu Hider', 'Mehidy Hasan Miraz', 'Mahmudullah', 'Tanbir Hayder', 'Nurul Hasan', 'Arafat Sunny', 'Mosharraf Hossain', 'Taskin Ahmed', 'Ariful Haque']\n"
     ]
    }
   ],
   "source": [
    "unique_list = list(x)\n",
    "print(unique_list)    "
   ]
  },
  {
   "cell_type": "code",
   "execution_count": 10,
   "metadata": {},
   "outputs": [],
   "source": [
    "column_names = [\"player_name\", \"sum\", \"avg\"]\n",
    "\n",
    "result = pd.DataFrame(columns = column_names)"
   ]
  },
  {
   "cell_type": "code",
   "execution_count": 11,
   "metadata": {},
   "outputs": [
    {
     "name": "stdout",
     "output_type": "stream",
     "text": [
      "Shakib Al Hasan  : sum= 2221  , count= 61  , average= 36.41\n",
      "Abul Hasan  : sum= 7  , count= 2  , average= 3.5\n",
      "Imrul Kayes  : sum= 1038  , count= 24  , average= 43.25\n",
      "Fazle Mahmud  : sum= 0  , count= 2  , average= 0.0\n",
      "Jubair Hossain  : sum= 5  , count= 1  , average= 5.0\n",
      "Nasir Hossain  : sum= 237  , count= 23  , average= 10.3\n",
      "Tamim Iqbal  : sum= 2977  , count= 68  , average= 43.78\n",
      "Mohammad Mithun  : sum= 549  , count= 25  , average= 21.96\n",
      "Abu Jayed  : sum= 0  , count= 2  , average= 0.0\n",
      "Mosaddek Hossain  : sum= 549  , count= 33  , average= 16.64\n",
      "Mominul Haque  : sum= 15  , count= 3  , average= 5.0\n",
      "Najmul Hossain Shanto  : sum= 55  , count= 5  , average= 11.0\n",
      "Rubel Hossain  : sum= 57  , count= 45  , average= 1.27\n",
      "Soumya Sarkar  : sum= 1698  , count= 50  , average= 33.96\n",
      "Subashis Roy  : sum= 1  , count= 1  , average= 1.0\n",
      "Sabbir Rahman  : sum= 1200  , count= 57  , average= 21.05\n",
      "Anamul Haque  : sum= 160  , count= 10  , average= 16.0\n",
      "Mushfiqur Rahim  : sum= 2942  , count= 75  , average= 39.23\n",
      "Liton Das  : sum= 1079  , count= 36  , average= 29.97\n",
      "Sunzamul Islam  : sum= 19  , count= 3  , average= 6.33\n",
      "Mohammad Saifuddin  : sum= 290  , count= 22  , average= 13.18\n",
      "Afif Hossain  : sum= 7  , count= 1  , average= 7.0\n",
      "Mohammad Naim  : sum= 0  , count= 1  , average= 0.0\n",
      "Mashrafe Mortaza  : sum= 441  , count= 73  , average= 6.04\n",
      "Mustafizur Rahman  : sum= 77  , count= 55  , average= 1.4\n",
      "Taijul Islam  : sum= 63  , count= 8  , average= 7.88\n",
      "Shafiul Islam  : sum= 10  , count= 8  , average= 1.25\n",
      "Al-Amin Hossain  : sum= 1  , count= 4  , average= 0.25\n",
      "Nazmul Islam  : sum= 7  , count= 5  , average= 1.4\n",
      "Abu Hider  : sum= 1  , count= 2  , average= 0.5\n",
      "Mehidy Hasan Miraz  : sum= 379  , count= 38  , average= 9.97\n",
      "Mahmudullah  : sum= 1824  , count= 74  , average= 24.65\n",
      "Tanbir Hayder  : sum= 5  , count= 2  , average= 2.5\n",
      "Nurul Hasan  : sum= 68  , count= 2  , average= 34.0\n",
      "Arafat Sunny  : sum= 38  , count= 8  , average= 4.75\n",
      "Mosharraf Hossain  : sum= 11  , count= 2  , average= 5.5\n",
      "Taskin Ahmed  : sum= 41  , count= 26  , average= 1.58\n",
      "Ariful Haque  : sum= 0  , count= 1  , average= 0.0\n",
      "{'Shakib Al Hasan': 36.41, 'Abul Hasan': 3.5, 'Imrul Kayes': 43.25, 'Fazle Mahmud': 0.0, 'Jubair Hossain': 5.0, 'Nasir Hossain': 10.3, 'Tamim Iqbal': 43.78, 'Mohammad Mithun': 21.96, 'Abu Jayed': 0.0, 'Mosaddek Hossain': 16.64, 'Mominul Haque': 5.0, 'Najmul Hossain Shanto': 11.0, 'Rubel Hossain': 1.27, 'Soumya Sarkar': 33.96, 'Subashis Roy': 1.0, 'Sabbir Rahman': 21.05, 'Anamul Haque': 16.0, 'Mushfiqur Rahim': 39.23, 'Liton Das': 29.97, 'Sunzamul Islam': 6.33, 'Mohammad Saifuddin': 13.18, 'Afif Hossain': 7.0, 'Mohammad Naim': 0.0, 'Mashrafe Mortaza': 6.04, 'Mustafizur Rahman': 1.4, 'Taijul Islam': 7.88, 'Shafiul Islam': 1.25, 'Al-Amin Hossain': 0.25, 'Nazmul Islam': 1.4, 'Abu Hider': 0.5, 'Mehidy Hasan Miraz': 9.97, 'Mahmudullah': 24.65, 'Tanbir Hayder': 2.5, 'Nurul Hasan': 34.0, 'Arafat Sunny': 4.75, 'Mosharraf Hossain': 5.5, 'Taskin Ahmed': 1.58, 'Ariful Haque': 0.0}\n"
     ]
    }
   ],
   "source": [
    "dictionary = dict()\n",
    "\n",
    "for indx, name in enumerate(unique_list):\n",
    "    count = 0\n",
    "    sum = 0\n",
    "    for index, row in data.iterrows():\n",
    "        for ind, p in enumerate(players):\n",
    "                if(data.iloc[index][p] == name ):\n",
    "#                     print(name)\n",
    "                    sum = sum + data.iloc[index][player_scores[ind]] \n",
    "                    count += 1\n",
    "    avg = round((sum/count),2)\n",
    "    print(name,\" : sum=\",sum,\" , count=\",count,\" , average=\",round(avg,2))    \n",
    "    dictionary[name] = avg\n",
    "    result = result.append({'player_name':name, 'sum':sum, 'avg':avg}, ignore_index=True)\n",
    "    \n",
    "print(dictionary)"
   ]
  },
  {
   "cell_type": "code",
   "execution_count": 12,
   "metadata": {},
   "outputs": [],
   "source": [
    "# 2 grams - find beautiful combinations"
   ]
  },
  {
   "cell_type": "code",
   "execution_count": 26,
   "metadata": {},
   "outputs": [],
   "source": [
    "#load data file\n",
    "data2grams = pd.read_csv('bdesh2grams.csv')"
   ]
  },
  {
   "cell_type": "code",
   "execution_count": 27,
   "metadata": {},
   "outputs": [
    {
     "data": {
      "text/html": [
       "<div>\n",
       "<style scoped>\n",
       "    .dataframe tbody tr th:only-of-type {\n",
       "        vertical-align: middle;\n",
       "    }\n",
       "\n",
       "    .dataframe tbody tr th {\n",
       "        vertical-align: top;\n",
       "    }\n",
       "\n",
       "    .dataframe thead th {\n",
       "        text-align: right;\n",
       "    }\n",
       "</style>\n",
       "<table border=\"1\" class=\"dataframe\">\n",
       "  <thead>\n",
       "    <tr style=\"text-align: right;\">\n",
       "      <th></th>\n",
       "      <th>player-1</th>\n",
       "      <th>player-2</th>\n",
       "      <th>avg</th>\n",
       "    </tr>\n",
       "  </thead>\n",
       "  <tbody>\n",
       "    <tr>\n",
       "      <th>0</th>\n",
       "      <td>Mosharraf Hossain</td>\n",
       "      <td>Nurul Hasan</td>\n",
       "      <td>0.0</td>\n",
       "    </tr>\n",
       "    <tr>\n",
       "      <th>1</th>\n",
       "      <td>Abu Hider</td>\n",
       "      <td>Mosharraf Hossain</td>\n",
       "      <td>0.0</td>\n",
       "    </tr>\n",
       "    <tr>\n",
       "      <th>2</th>\n",
       "      <td>Nazmul Islam</td>\n",
       "      <td>Mosharraf Hossain</td>\n",
       "      <td>0.0</td>\n",
       "    </tr>\n",
       "    <tr>\n",
       "      <th>3</th>\n",
       "      <td>Nasir Hossain</td>\n",
       "      <td>Mosharraf Hossain</td>\n",
       "      <td>0.0</td>\n",
       "    </tr>\n",
       "    <tr>\n",
       "      <th>4</th>\n",
       "      <td>Mosharraf Hossain</td>\n",
       "      <td>Taskin Ahmed</td>\n",
       "      <td>6.0</td>\n",
       "    </tr>\n",
       "  </tbody>\n",
       "</table>\n",
       "</div>"
      ],
      "text/plain": [
       "            player-1           player-2  avg\n",
       "0  Mosharraf Hossain        Nurul Hasan  0.0\n",
       "1          Abu Hider  Mosharraf Hossain  0.0\n",
       "2       Nazmul Islam  Mosharraf Hossain  0.0\n",
       "3      Nasir Hossain  Mosharraf Hossain  0.0\n",
       "4  Mosharraf Hossain       Taskin Ahmed  6.0"
      ]
     },
     "execution_count": 27,
     "metadata": {},
     "output_type": "execute_result"
    }
   ],
   "source": [
    "data2grams.head()"
   ]
  },
  {
   "cell_type": "code",
   "execution_count": 28,
   "metadata": {},
   "outputs": [
    {
     "data": {
      "text/plain": [
       "(703, 3)"
      ]
     },
     "execution_count": 28,
     "metadata": {},
     "output_type": "execute_result"
    }
   ],
   "source": [
    "data2grams.shape"
   ]
  },
  {
   "cell_type": "code",
   "execution_count": 29,
   "metadata": {},
   "outputs": [],
   "source": [
    "data2grams = data2grams[data2grams.avg != 0.0]"
   ]
  },
  {
   "cell_type": "code",
   "execution_count": 30,
   "metadata": {},
   "outputs": [
    {
     "data": {
      "text/html": [
       "<div>\n",
       "<style scoped>\n",
       "    .dataframe tbody tr th:only-of-type {\n",
       "        vertical-align: middle;\n",
       "    }\n",
       "\n",
       "    .dataframe tbody tr th {\n",
       "        vertical-align: top;\n",
       "    }\n",
       "\n",
       "    .dataframe thead th {\n",
       "        text-align: right;\n",
       "    }\n",
       "</style>\n",
       "<table border=\"1\" class=\"dataframe\">\n",
       "  <thead>\n",
       "    <tr style=\"text-align: right;\">\n",
       "      <th></th>\n",
       "      <th>player-1</th>\n",
       "      <th>player-2</th>\n",
       "      <th>avg</th>\n",
       "    </tr>\n",
       "  </thead>\n",
       "  <tbody>\n",
       "    <tr>\n",
       "      <th>4</th>\n",
       "      <td>Mosharraf Hossain</td>\n",
       "      <td>Taskin Ahmed</td>\n",
       "      <td>6.0</td>\n",
       "    </tr>\n",
       "    <tr>\n",
       "      <th>7</th>\n",
       "      <td>Mosharraf Hossain</td>\n",
       "      <td>Mushfiqur Rahim</td>\n",
       "      <td>17.5</td>\n",
       "    </tr>\n",
       "    <tr>\n",
       "      <th>10</th>\n",
       "      <td>Mashrafe Mortaza</td>\n",
       "      <td>Mosharraf Hossain</td>\n",
       "      <td>7.0</td>\n",
       "    </tr>\n",
       "    <tr>\n",
       "      <th>12</th>\n",
       "      <td>Mosharraf Hossain</td>\n",
       "      <td>Mosaddek Hossain</td>\n",
       "      <td>7.5</td>\n",
       "    </tr>\n",
       "    <tr>\n",
       "      <th>19</th>\n",
       "      <td>Mahmudullah</td>\n",
       "      <td>Mosharraf Hossain</td>\n",
       "      <td>34.0</td>\n",
       "    </tr>\n",
       "  </tbody>\n",
       "</table>\n",
       "</div>"
      ],
      "text/plain": [
       "             player-1           player-2   avg\n",
       "4   Mosharraf Hossain       Taskin Ahmed   6.0\n",
       "7   Mosharraf Hossain    Mushfiqur Rahim  17.5\n",
       "10   Mashrafe Mortaza  Mosharraf Hossain   7.0\n",
       "12  Mosharraf Hossain   Mosaddek Hossain   7.5\n",
       "19        Mahmudullah  Mosharraf Hossain  34.0"
      ]
     },
     "execution_count": 30,
     "metadata": {},
     "output_type": "execute_result"
    }
   ],
   "source": [
    "data2grams.head()"
   ]
  },
  {
   "cell_type": "code",
   "execution_count": 31,
   "metadata": {},
   "outputs": [
    {
     "data": {
      "text/plain": [
       "(375, 3)"
      ]
     },
     "execution_count": 31,
     "metadata": {},
     "output_type": "execute_result"
    }
   ],
   "source": [
    "data2grams.shape"
   ]
  },
  {
   "cell_type": "code",
   "execution_count": 32,
   "metadata": {},
   "outputs": [],
   "source": [
    "data2grams = data2grams.reset_index(drop=True)"
   ]
  },
  {
   "cell_type": "code",
   "execution_count": 33,
   "metadata": {},
   "outputs": [
    {
     "data": {
      "text/html": [
       "<div>\n",
       "<style scoped>\n",
       "    .dataframe tbody tr th:only-of-type {\n",
       "        vertical-align: middle;\n",
       "    }\n",
       "\n",
       "    .dataframe tbody tr th {\n",
       "        vertical-align: top;\n",
       "    }\n",
       "\n",
       "    .dataframe thead th {\n",
       "        text-align: right;\n",
       "    }\n",
       "</style>\n",
       "<table border=\"1\" class=\"dataframe\">\n",
       "  <thead>\n",
       "    <tr style=\"text-align: right;\">\n",
       "      <th></th>\n",
       "      <th>player-1</th>\n",
       "      <th>player-2</th>\n",
       "      <th>avg</th>\n",
       "    </tr>\n",
       "  </thead>\n",
       "  <tbody>\n",
       "    <tr>\n",
       "      <th>0</th>\n",
       "      <td>Mosharraf Hossain</td>\n",
       "      <td>Taskin Ahmed</td>\n",
       "      <td>6.0</td>\n",
       "    </tr>\n",
       "    <tr>\n",
       "      <th>1</th>\n",
       "      <td>Mosharraf Hossain</td>\n",
       "      <td>Mushfiqur Rahim</td>\n",
       "      <td>17.5</td>\n",
       "    </tr>\n",
       "    <tr>\n",
       "      <th>2</th>\n",
       "      <td>Mashrafe Mortaza</td>\n",
       "      <td>Mosharraf Hossain</td>\n",
       "      <td>7.0</td>\n",
       "    </tr>\n",
       "    <tr>\n",
       "      <th>3</th>\n",
       "      <td>Mosharraf Hossain</td>\n",
       "      <td>Mosaddek Hossain</td>\n",
       "      <td>7.5</td>\n",
       "    </tr>\n",
       "    <tr>\n",
       "      <th>4</th>\n",
       "      <td>Mahmudullah</td>\n",
       "      <td>Mosharraf Hossain</td>\n",
       "      <td>34.0</td>\n",
       "    </tr>\n",
       "  </tbody>\n",
       "</table>\n",
       "</div>"
      ],
      "text/plain": [
       "            player-1           player-2   avg\n",
       "0  Mosharraf Hossain       Taskin Ahmed   6.0\n",
       "1  Mosharraf Hossain    Mushfiqur Rahim  17.5\n",
       "2   Mashrafe Mortaza  Mosharraf Hossain   7.0\n",
       "3  Mosharraf Hossain   Mosaddek Hossain   7.5\n",
       "4        Mahmudullah  Mosharraf Hossain  34.0"
      ]
     },
     "execution_count": 33,
     "metadata": {},
     "output_type": "execute_result"
    }
   ],
   "source": [
    "data2grams.head()"
   ]
  },
  {
   "cell_type": "code",
   "execution_count": 37,
   "metadata": {},
   "outputs": [],
   "source": [
    "new_column_names = [\"player-1\", \"player-2\", \"combined_avg\",\"sum_of_individual\"]\n",
    "\n",
    "bdesh_beautiful2grams = pd.DataFrame(columns = new_column_names)"
   ]
  },
  {
   "cell_type": "code",
   "execution_count": 38,
   "metadata": {},
   "outputs": [],
   "source": [
    "for index, row in data2grams.iterrows():\n",
    "    player1 = data2grams.iloc[index]['player-1']\n",
    "    player2 = data2grams.iloc[index]['player-2']\n",
    "    combined = data2grams.iloc[index]['avg']\n",
    "    individual_avg_sum = dictionary.get(player1)+dictionary.get(player2)\n",
    "    if(combined > individual_avg_sum):\n",
    "        bdesh_beautiful2grams = bdesh_beautiful2grams.append({'player-1':player1, 'player-2':player2, 'combined_avg': combined, 'sum_of_individual':individual_avg_sum}, ignore_index=True)"
   ]
  },
  {
   "cell_type": "code",
   "execution_count": 39,
   "metadata": {},
   "outputs": [
    {
     "data": {
      "text/html": [
       "<div>\n",
       "<style scoped>\n",
       "    .dataframe tbody tr th:only-of-type {\n",
       "        vertical-align: middle;\n",
       "    }\n",
       "\n",
       "    .dataframe tbody tr th {\n",
       "        vertical-align: top;\n",
       "    }\n",
       "\n",
       "    .dataframe thead th {\n",
       "        text-align: right;\n",
       "    }\n",
       "</style>\n",
       "<table border=\"1\" class=\"dataframe\">\n",
       "  <thead>\n",
       "    <tr style=\"text-align: right;\">\n",
       "      <th></th>\n",
       "      <th>player-1</th>\n",
       "      <th>player-2</th>\n",
       "      <th>combined_avg</th>\n",
       "      <th>sum_of_individual</th>\n",
       "    </tr>\n",
       "  </thead>\n",
       "  <tbody>\n",
       "    <tr>\n",
       "      <th>0</th>\n",
       "      <td>Mahmudullah</td>\n",
       "      <td>Mosharraf Hossain</td>\n",
       "      <td>34.0</td>\n",
       "      <td>30.15</td>\n",
       "    </tr>\n",
       "    <tr>\n",
       "      <th>1</th>\n",
       "      <td>Mosharraf Hossain</td>\n",
       "      <td>Tamim Iqbal</td>\n",
       "      <td>73.0</td>\n",
       "      <td>49.28</td>\n",
       "    </tr>\n",
       "    <tr>\n",
       "      <th>2</th>\n",
       "      <td>Shakib Al Hasan</td>\n",
       "      <td>Mosharraf Hossain</td>\n",
       "      <td>53.5</td>\n",
       "      <td>41.91</td>\n",
       "    </tr>\n",
       "    <tr>\n",
       "      <th>3</th>\n",
       "      <td>Mosharraf Hossain</td>\n",
       "      <td>Sabbir Rahman</td>\n",
       "      <td>47.0</td>\n",
       "      <td>26.55</td>\n",
       "    </tr>\n",
       "    <tr>\n",
       "      <th>4</th>\n",
       "      <td>Imrul Kayes</td>\n",
       "      <td>Mosharraf Hossain</td>\n",
       "      <td>119.0</td>\n",
       "      <td>48.75</td>\n",
       "    </tr>\n",
       "  </tbody>\n",
       "</table>\n",
       "</div>"
      ],
      "text/plain": [
       "            player-1           player-2  combined_avg  sum_of_individual\n",
       "0        Mahmudullah  Mosharraf Hossain          34.0              30.15\n",
       "1  Mosharraf Hossain        Tamim Iqbal          73.0              49.28\n",
       "2    Shakib Al Hasan  Mosharraf Hossain          53.5              41.91\n",
       "3  Mosharraf Hossain      Sabbir Rahman          47.0              26.55\n",
       "4        Imrul Kayes  Mosharraf Hossain         119.0              48.75"
      ]
     },
     "execution_count": 39,
     "metadata": {},
     "output_type": "execute_result"
    }
   ],
   "source": [
    "bdesh_beautiful2grams.head()"
   ]
  },
  {
   "cell_type": "code",
   "execution_count": 40,
   "metadata": {},
   "outputs": [
    {
     "data": {
      "text/plain": [
       "(177, 4)"
      ]
     },
     "execution_count": 40,
     "metadata": {},
     "output_type": "execute_result"
    }
   ],
   "source": [
    "bdesh_beautiful2grams.shape"
   ]
  },
  {
   "cell_type": "code",
   "execution_count": 41,
   "metadata": {},
   "outputs": [],
   "source": [
    "bdesh_beautiful2grams.to_csv('bdesh_beautiful2grams.csv')"
   ]
  },
  {
   "cell_type": "code",
   "execution_count": 42,
   "metadata": {},
   "outputs": [],
   "source": [
    "# 3 grams - find beautiful combinations"
   ]
  },
  {
   "cell_type": "code",
   "execution_count": 43,
   "metadata": {},
   "outputs": [],
   "source": [
    "#load data file\n",
    "data3grams = pd.read_csv('bdesh3grams.csv')"
   ]
  },
  {
   "cell_type": "code",
   "execution_count": 44,
   "metadata": {},
   "outputs": [
    {
     "data": {
      "text/html": [
       "<div>\n",
       "<style scoped>\n",
       "    .dataframe tbody tr th:only-of-type {\n",
       "        vertical-align: middle;\n",
       "    }\n",
       "\n",
       "    .dataframe tbody tr th {\n",
       "        vertical-align: top;\n",
       "    }\n",
       "\n",
       "    .dataframe thead th {\n",
       "        text-align: right;\n",
       "    }\n",
       "</style>\n",
       "<table border=\"1\" class=\"dataframe\">\n",
       "  <thead>\n",
       "    <tr style=\"text-align: right;\">\n",
       "      <th></th>\n",
       "      <th>player-1</th>\n",
       "      <th>player-2</th>\n",
       "      <th>player-3</th>\n",
       "      <th>avg</th>\n",
       "    </tr>\n",
       "  </thead>\n",
       "  <tbody>\n",
       "    <tr>\n",
       "      <th>0</th>\n",
       "      <td>Abu Hider</td>\n",
       "      <td>Mosharraf Hossain</td>\n",
       "      <td>Nurul Hasan</td>\n",
       "      <td>0.0</td>\n",
       "    </tr>\n",
       "    <tr>\n",
       "      <th>1</th>\n",
       "      <td>Nazmul Islam</td>\n",
       "      <td>Mosharraf Hossain</td>\n",
       "      <td>Nurul Hasan</td>\n",
       "      <td>0.0</td>\n",
       "    </tr>\n",
       "    <tr>\n",
       "      <th>2</th>\n",
       "      <td>Nasir Hossain</td>\n",
       "      <td>Mosharraf Hossain</td>\n",
       "      <td>Nurul Hasan</td>\n",
       "      <td>0.0</td>\n",
       "    </tr>\n",
       "    <tr>\n",
       "      <th>3</th>\n",
       "      <td>Taskin Ahmed</td>\n",
       "      <td>Mosharraf Hossain</td>\n",
       "      <td>Nurul Hasan</td>\n",
       "      <td>0.0</td>\n",
       "    </tr>\n",
       "    <tr>\n",
       "      <th>4</th>\n",
       "      <td>Mohammad Mithun</td>\n",
       "      <td>Mosharraf Hossain</td>\n",
       "      <td>Nurul Hasan</td>\n",
       "      <td>0.0</td>\n",
       "    </tr>\n",
       "  </tbody>\n",
       "</table>\n",
       "</div>"
      ],
      "text/plain": [
       "          player-1           player-2     player-3  avg\n",
       "0        Abu Hider  Mosharraf Hossain  Nurul Hasan  0.0\n",
       "1     Nazmul Islam  Mosharraf Hossain  Nurul Hasan  0.0\n",
       "2    Nasir Hossain  Mosharraf Hossain  Nurul Hasan  0.0\n",
       "3     Taskin Ahmed  Mosharraf Hossain  Nurul Hasan  0.0\n",
       "4  Mohammad Mithun  Mosharraf Hossain  Nurul Hasan  0.0"
      ]
     },
     "execution_count": 44,
     "metadata": {},
     "output_type": "execute_result"
    }
   ],
   "source": [
    "data3grams.head()"
   ]
  },
  {
   "cell_type": "code",
   "execution_count": 45,
   "metadata": {},
   "outputs": [
    {
     "data": {
      "text/plain": [
       "(8436, 4)"
      ]
     },
     "execution_count": 45,
     "metadata": {},
     "output_type": "execute_result"
    }
   ],
   "source": [
    "data3grams.shape"
   ]
  },
  {
   "cell_type": "code",
   "execution_count": 46,
   "metadata": {},
   "outputs": [],
   "source": [
    "data3grams = data3grams[data3grams.avg != 0.0]"
   ]
  },
  {
   "cell_type": "code",
   "execution_count": 47,
   "metadata": {},
   "outputs": [
    {
     "data": {
      "text/plain": [
       "(1970, 4)"
      ]
     },
     "execution_count": 47,
     "metadata": {},
     "output_type": "execute_result"
    }
   ],
   "source": [
    "data3grams.shape"
   ]
  },
  {
   "cell_type": "code",
   "execution_count": 48,
   "metadata": {},
   "outputs": [
    {
     "data": {
      "text/html": [
       "<div>\n",
       "<style scoped>\n",
       "    .dataframe tbody tr th:only-of-type {\n",
       "        vertical-align: middle;\n",
       "    }\n",
       "\n",
       "    .dataframe tbody tr th {\n",
       "        vertical-align: top;\n",
       "    }\n",
       "\n",
       "    .dataframe thead th {\n",
       "        text-align: right;\n",
       "    }\n",
       "</style>\n",
       "<table border=\"1\" class=\"dataframe\">\n",
       "  <thead>\n",
       "    <tr style=\"text-align: right;\">\n",
       "      <th></th>\n",
       "      <th>player-1</th>\n",
       "      <th>player-2</th>\n",
       "      <th>player-3</th>\n",
       "      <th>avg</th>\n",
       "    </tr>\n",
       "  </thead>\n",
       "  <tbody>\n",
       "    <tr>\n",
       "      <th>140</th>\n",
       "      <td>Mosharraf Hossain</td>\n",
       "      <td>Mushfiqur Rahim</td>\n",
       "      <td>Taskin Ahmed</td>\n",
       "      <td>18.0</td>\n",
       "    </tr>\n",
       "    <tr>\n",
       "      <th>143</th>\n",
       "      <td>Mashrafe Mortaza</td>\n",
       "      <td>Mosharraf Hossain</td>\n",
       "      <td>Taskin Ahmed</td>\n",
       "      <td>7.5</td>\n",
       "    </tr>\n",
       "    <tr>\n",
       "      <th>145</th>\n",
       "      <td>Mosharraf Hossain</td>\n",
       "      <td>Mosaddek Hossain</td>\n",
       "      <td>Taskin Ahmed</td>\n",
       "      <td>8.0</td>\n",
       "    </tr>\n",
       "    <tr>\n",
       "      <th>152</th>\n",
       "      <td>Mahmudullah</td>\n",
       "      <td>Mosharraf Hossain</td>\n",
       "      <td>Taskin Ahmed</td>\n",
       "      <td>34.5</td>\n",
       "    </tr>\n",
       "    <tr>\n",
       "      <th>153</th>\n",
       "      <td>Mosharraf Hossain</td>\n",
       "      <td>Tamim Iqbal</td>\n",
       "      <td>Taskin Ahmed</td>\n",
       "      <td>73.5</td>\n",
       "    </tr>\n",
       "  </tbody>\n",
       "</table>\n",
       "</div>"
      ],
      "text/plain": [
       "              player-1           player-2      player-3   avg\n",
       "140  Mosharraf Hossain    Mushfiqur Rahim  Taskin Ahmed  18.0\n",
       "143   Mashrafe Mortaza  Mosharraf Hossain  Taskin Ahmed   7.5\n",
       "145  Mosharraf Hossain   Mosaddek Hossain  Taskin Ahmed   8.0\n",
       "152        Mahmudullah  Mosharraf Hossain  Taskin Ahmed  34.5\n",
       "153  Mosharraf Hossain        Tamim Iqbal  Taskin Ahmed  73.5"
      ]
     },
     "execution_count": 48,
     "metadata": {},
     "output_type": "execute_result"
    }
   ],
   "source": [
    "data3grams.head()"
   ]
  },
  {
   "cell_type": "code",
   "execution_count": 49,
   "metadata": {},
   "outputs": [],
   "source": [
    "data3grams = data3grams.reset_index(drop=True)"
   ]
  },
  {
   "cell_type": "code",
   "execution_count": 50,
   "metadata": {},
   "outputs": [],
   "source": [
    "new_column_names = [\"player-1\", \"player-2\", \"player-3\", \"combined_avg\",\"sum_of_individual\"]\n",
    "\n",
    "bdesh_beautiful3grams = pd.DataFrame(columns = new_column_names)"
   ]
  },
  {
   "cell_type": "code",
   "execution_count": 53,
   "metadata": {},
   "outputs": [],
   "source": [
    "for index, row in data3grams.iterrows():\n",
    "    player1 = data3grams.iloc[index]['player-1']\n",
    "    player2 = data3grams.iloc[index]['player-2']\n",
    "    player3 = data3grams.iloc[index]['player-3']\n",
    "    combined = data3grams.iloc[index]['avg']\n",
    "    individual_avg_sum = dictionary.get(player1)+dictionary.get(player2)+dictionary.get(player3)\n",
    "    if(combined > individual_avg_sum):\n",
    "        bdesh_beautiful3grams = bdesh_beautiful3grams.append({'player-1':player1, 'player-2':player2,'player-3':player3, 'combined_avg': combined, 'sum_of_individual':individual_avg_sum}, ignore_index=True)"
   ]
  },
  {
   "cell_type": "code",
   "execution_count": 54,
   "metadata": {},
   "outputs": [
    {
     "data": {
      "text/html": [
       "<div>\n",
       "<style scoped>\n",
       "    .dataframe tbody tr th:only-of-type {\n",
       "        vertical-align: middle;\n",
       "    }\n",
       "\n",
       "    .dataframe tbody tr th {\n",
       "        vertical-align: top;\n",
       "    }\n",
       "\n",
       "    .dataframe thead th {\n",
       "        text-align: right;\n",
       "    }\n",
       "</style>\n",
       "<table border=\"1\" class=\"dataframe\">\n",
       "  <thead>\n",
       "    <tr style=\"text-align: right;\">\n",
       "      <th></th>\n",
       "      <th>player-1</th>\n",
       "      <th>player-2</th>\n",
       "      <th>player-3</th>\n",
       "      <th>combined_avg</th>\n",
       "      <th>sum_of_individual</th>\n",
       "    </tr>\n",
       "  </thead>\n",
       "  <tbody>\n",
       "    <tr>\n",
       "      <th>0</th>\n",
       "      <td>Mahmudullah</td>\n",
       "      <td>Mosharraf Hossain</td>\n",
       "      <td>Taskin Ahmed</td>\n",
       "      <td>34.5</td>\n",
       "      <td>31.73</td>\n",
       "    </tr>\n",
       "    <tr>\n",
       "      <th>1</th>\n",
       "      <td>Mosharraf Hossain</td>\n",
       "      <td>Tamim Iqbal</td>\n",
       "      <td>Taskin Ahmed</td>\n",
       "      <td>73.5</td>\n",
       "      <td>50.86</td>\n",
       "    </tr>\n",
       "    <tr>\n",
       "      <th>2</th>\n",
       "      <td>Shakib Al Hasan</td>\n",
       "      <td>Mosharraf Hossain</td>\n",
       "      <td>Taskin Ahmed</td>\n",
       "      <td>54.0</td>\n",
       "      <td>43.49</td>\n",
       "    </tr>\n",
       "    <tr>\n",
       "      <th>3</th>\n",
       "      <td>Mosharraf Hossain</td>\n",
       "      <td>Sabbir Rahman</td>\n",
       "      <td>Taskin Ahmed</td>\n",
       "      <td>47.5</td>\n",
       "      <td>28.13</td>\n",
       "    </tr>\n",
       "    <tr>\n",
       "      <th>4</th>\n",
       "      <td>Imrul Kayes</td>\n",
       "      <td>Mosharraf Hossain</td>\n",
       "      <td>Taskin Ahmed</td>\n",
       "      <td>120.0</td>\n",
       "      <td>50.33</td>\n",
       "    </tr>\n",
       "  </tbody>\n",
       "</table>\n",
       "</div>"
      ],
      "text/plain": [
       "            player-1           player-2      player-3  combined_avg  \\\n",
       "0        Mahmudullah  Mosharraf Hossain  Taskin Ahmed          34.5   \n",
       "1  Mosharraf Hossain        Tamim Iqbal  Taskin Ahmed          73.5   \n",
       "2    Shakib Al Hasan  Mosharraf Hossain  Taskin Ahmed          54.0   \n",
       "3  Mosharraf Hossain      Sabbir Rahman  Taskin Ahmed          47.5   \n",
       "4        Imrul Kayes  Mosharraf Hossain  Taskin Ahmed         120.0   \n",
       "\n",
       "   sum_of_individual  \n",
       "0              31.73  \n",
       "1              50.86  \n",
       "2              43.49  \n",
       "3              28.13  \n",
       "4              50.33  "
      ]
     },
     "execution_count": 54,
     "metadata": {},
     "output_type": "execute_result"
    }
   ],
   "source": [
    "bdesh_beautiful3grams.head()"
   ]
  },
  {
   "cell_type": "code",
   "execution_count": 55,
   "metadata": {},
   "outputs": [
    {
     "data": {
      "text/plain": [
       "(936, 5)"
      ]
     },
     "execution_count": 55,
     "metadata": {},
     "output_type": "execute_result"
    }
   ],
   "source": [
    "bdesh_beautiful3grams.shape"
   ]
  },
  {
   "cell_type": "code",
   "execution_count": 56,
   "metadata": {},
   "outputs": [],
   "source": [
    "bdesh_beautiful3grams.to_csv('bdesh_beautiful3grams.csv')"
   ]
  },
  {
   "cell_type": "code",
   "execution_count": 57,
   "metadata": {},
   "outputs": [],
   "source": [
    "# 4 grams - find beautiful combinations"
   ]
  },
  {
   "cell_type": "code",
   "execution_count": 59,
   "metadata": {},
   "outputs": [],
   "source": [
    "#load data file\n",
    "data4grams = pd.read_csv('bdesh4grams.csv')"
   ]
  },
  {
   "cell_type": "code",
   "execution_count": 60,
   "metadata": {},
   "outputs": [
    {
     "data": {
      "text/html": [
       "<div>\n",
       "<style scoped>\n",
       "    .dataframe tbody tr th:only-of-type {\n",
       "        vertical-align: middle;\n",
       "    }\n",
       "\n",
       "    .dataframe tbody tr th {\n",
       "        vertical-align: top;\n",
       "    }\n",
       "\n",
       "    .dataframe thead th {\n",
       "        text-align: right;\n",
       "    }\n",
       "</style>\n",
       "<table border=\"1\" class=\"dataframe\">\n",
       "  <thead>\n",
       "    <tr style=\"text-align: right;\">\n",
       "      <th></th>\n",
       "      <th>player-1</th>\n",
       "      <th>player-2</th>\n",
       "      <th>player-3</th>\n",
       "      <th>player-4</th>\n",
       "      <th>avg</th>\n",
       "    </tr>\n",
       "  </thead>\n",
       "  <tbody>\n",
       "    <tr>\n",
       "      <th>0</th>\n",
       "      <td>Nazmul Islam</td>\n",
       "      <td>Abu Hider</td>\n",
       "      <td>Mosharraf Hossain</td>\n",
       "      <td>Nurul Hasan</td>\n",
       "      <td>0.0</td>\n",
       "    </tr>\n",
       "    <tr>\n",
       "      <th>1</th>\n",
       "      <td>Abu Hider</td>\n",
       "      <td>Mosharraf Hossain</td>\n",
       "      <td>Nasir Hossain</td>\n",
       "      <td>Nurul Hasan</td>\n",
       "      <td>0.0</td>\n",
       "    </tr>\n",
       "    <tr>\n",
       "      <th>2</th>\n",
       "      <td>Taskin Ahmed</td>\n",
       "      <td>Abu Hider</td>\n",
       "      <td>Mosharraf Hossain</td>\n",
       "      <td>Nurul Hasan</td>\n",
       "      <td>0.0</td>\n",
       "    </tr>\n",
       "    <tr>\n",
       "      <th>3</th>\n",
       "      <td>Abu Hider</td>\n",
       "      <td>Mosharraf Hossain</td>\n",
       "      <td>Mohammad Mithun</td>\n",
       "      <td>Nurul Hasan</td>\n",
       "      <td>0.0</td>\n",
       "    </tr>\n",
       "    <tr>\n",
       "      <th>4</th>\n",
       "      <td>Mominul Haque</td>\n",
       "      <td>Abu Hider</td>\n",
       "      <td>Mosharraf Hossain</td>\n",
       "      <td>Nurul Hasan</td>\n",
       "      <td>0.0</td>\n",
       "    </tr>\n",
       "  </tbody>\n",
       "</table>\n",
       "</div>"
      ],
      "text/plain": [
       "        player-1           player-2           player-3     player-4  avg\n",
       "0   Nazmul Islam          Abu Hider  Mosharraf Hossain  Nurul Hasan  0.0\n",
       "1      Abu Hider  Mosharraf Hossain      Nasir Hossain  Nurul Hasan  0.0\n",
       "2   Taskin Ahmed          Abu Hider  Mosharraf Hossain  Nurul Hasan  0.0\n",
       "3      Abu Hider  Mosharraf Hossain    Mohammad Mithun  Nurul Hasan  0.0\n",
       "4  Mominul Haque          Abu Hider  Mosharraf Hossain  Nurul Hasan  0.0"
      ]
     },
     "execution_count": 60,
     "metadata": {},
     "output_type": "execute_result"
    }
   ],
   "source": [
    "data4grams.head()"
   ]
  },
  {
   "cell_type": "code",
   "execution_count": 61,
   "metadata": {},
   "outputs": [
    {
     "data": {
      "text/plain": [
       "(73815, 5)"
      ]
     },
     "execution_count": 61,
     "metadata": {},
     "output_type": "execute_result"
    }
   ],
   "source": [
    "data4grams.shape"
   ]
  },
  {
   "cell_type": "code",
   "execution_count": 62,
   "metadata": {},
   "outputs": [],
   "source": [
    "data4grams = data4grams[data4grams.avg != 0.0]"
   ]
  },
  {
   "cell_type": "code",
   "execution_count": 63,
   "metadata": {},
   "outputs": [
    {
     "data": {
      "text/plain": [
       "(5915, 5)"
      ]
     },
     "execution_count": 63,
     "metadata": {},
     "output_type": "execute_result"
    }
   ],
   "source": [
    "data4grams.shape"
   ]
  },
  {
   "cell_type": "code",
   "execution_count": 64,
   "metadata": {},
   "outputs": [],
   "source": [
    "data4grams = data4grams.reset_index(drop=True)"
   ]
  },
  {
   "cell_type": "code",
   "execution_count": 65,
   "metadata": {},
   "outputs": [],
   "source": [
    "new_column_names = [\"player-1\", \"player-2\", \"player-3\", \"player-4\", \"combined_avg\",\"sum_of_individual\"]\n",
    "\n",
    "bdesh_beautiful4grams = pd.DataFrame(columns = new_column_names)"
   ]
  },
  {
   "cell_type": "code",
   "execution_count": 66,
   "metadata": {},
   "outputs": [],
   "source": [
    "for index, row in data4grams.iterrows():\n",
    "    player1 = data4grams.iloc[index]['player-1']\n",
    "    player2 = data4grams.iloc[index]['player-2']\n",
    "    player3 = data4grams.iloc[index]['player-3']\n",
    "    player4 = data4grams.iloc[index]['player-4']\n",
    "    combined = data4grams.iloc[index]['avg']\n",
    "    individual_avg_sum = dictionary.get(player1)+dictionary.get(player2)+dictionary.get(player3)+dictionary.get(player4)\n",
    "    if(combined > individual_avg_sum):\n",
    "        bdesh_beautiful4grams = bdesh_beautiful4grams.append({'player-1':player1, 'player-2':player2,'player-3':player3, 'player-4':player4,'combined_avg': combined, 'sum_of_individual':individual_avg_sum}, ignore_index=True)"
   ]
  },
  {
   "cell_type": "code",
   "execution_count": 67,
   "metadata": {},
   "outputs": [
    {
     "data": {
      "text/html": [
       "<div>\n",
       "<style scoped>\n",
       "    .dataframe tbody tr th:only-of-type {\n",
       "        vertical-align: middle;\n",
       "    }\n",
       "\n",
       "    .dataframe tbody tr th {\n",
       "        vertical-align: top;\n",
       "    }\n",
       "\n",
       "    .dataframe thead th {\n",
       "        text-align: right;\n",
       "    }\n",
       "</style>\n",
       "<table border=\"1\" class=\"dataframe\">\n",
       "  <thead>\n",
       "    <tr style=\"text-align: right;\">\n",
       "      <th></th>\n",
       "      <th>player-1</th>\n",
       "      <th>player-2</th>\n",
       "      <th>player-3</th>\n",
       "      <th>player-4</th>\n",
       "      <th>combined_avg</th>\n",
       "      <th>sum_of_individual</th>\n",
       "    </tr>\n",
       "  </thead>\n",
       "  <tbody>\n",
       "    <tr>\n",
       "      <th>0</th>\n",
       "      <td>Imrul Kayes</td>\n",
       "      <td>Mosharraf Hossain</td>\n",
       "      <td>Mushfiqur Rahim</td>\n",
       "      <td>Taskin Ahmed</td>\n",
       "      <td>132.0</td>\n",
       "      <td>89.56</td>\n",
       "    </tr>\n",
       "    <tr>\n",
       "      <th>1</th>\n",
       "      <td>Mashrafe Mortaza</td>\n",
       "      <td>Mosharraf Hossain</td>\n",
       "      <td>Tamim Iqbal</td>\n",
       "      <td>Taskin Ahmed</td>\n",
       "      <td>75.0</td>\n",
       "      <td>56.90</td>\n",
       "    </tr>\n",
       "    <tr>\n",
       "      <th>2</th>\n",
       "      <td>Mashrafe Mortaza</td>\n",
       "      <td>Shakib Al Hasan</td>\n",
       "      <td>Mosharraf Hossain</td>\n",
       "      <td>Taskin Ahmed</td>\n",
       "      <td>55.5</td>\n",
       "      <td>49.53</td>\n",
       "    </tr>\n",
       "    <tr>\n",
       "      <th>3</th>\n",
       "      <td>Mashrafe Mortaza</td>\n",
       "      <td>Mosharraf Hossain</td>\n",
       "      <td>Sabbir Rahman</td>\n",
       "      <td>Taskin Ahmed</td>\n",
       "      <td>49.0</td>\n",
       "      <td>34.17</td>\n",
       "    </tr>\n",
       "    <tr>\n",
       "      <th>4</th>\n",
       "      <td>Mashrafe Mortaza</td>\n",
       "      <td>Imrul Kayes</td>\n",
       "      <td>Mosharraf Hossain</td>\n",
       "      <td>Taskin Ahmed</td>\n",
       "      <td>121.0</td>\n",
       "      <td>56.37</td>\n",
       "    </tr>\n",
       "  </tbody>\n",
       "</table>\n",
       "</div>"
      ],
      "text/plain": [
       "           player-1           player-2           player-3      player-4  \\\n",
       "0       Imrul Kayes  Mosharraf Hossain    Mushfiqur Rahim  Taskin Ahmed   \n",
       "1  Mashrafe Mortaza  Mosharraf Hossain        Tamim Iqbal  Taskin Ahmed   \n",
       "2  Mashrafe Mortaza    Shakib Al Hasan  Mosharraf Hossain  Taskin Ahmed   \n",
       "3  Mashrafe Mortaza  Mosharraf Hossain      Sabbir Rahman  Taskin Ahmed   \n",
       "4  Mashrafe Mortaza        Imrul Kayes  Mosharraf Hossain  Taskin Ahmed   \n",
       "\n",
       "   combined_avg  sum_of_individual  \n",
       "0         132.0              89.56  \n",
       "1          75.0              56.90  \n",
       "2          55.5              49.53  \n",
       "3          49.0              34.17  \n",
       "4         121.0              56.37  "
      ]
     },
     "execution_count": 67,
     "metadata": {},
     "output_type": "execute_result"
    }
   ],
   "source": [
    "bdesh_beautiful4grams.head()"
   ]
  },
  {
   "cell_type": "code",
   "execution_count": 68,
   "metadata": {},
   "outputs": [
    {
     "data": {
      "text/plain": [
       "(2831, 6)"
      ]
     },
     "execution_count": 68,
     "metadata": {},
     "output_type": "execute_result"
    }
   ],
   "source": [
    "bdesh_beautiful4grams.shape"
   ]
  },
  {
   "cell_type": "code",
   "execution_count": 69,
   "metadata": {},
   "outputs": [],
   "source": [
    "bdesh_beautiful4grams.to_csv('bdesh_beautiful4grams.csv')"
   ]
  },
  {
   "cell_type": "code",
   "execution_count": null,
   "metadata": {},
   "outputs": [],
   "source": []
  }
 ],
 "metadata": {
  "kernelspec": {
   "display_name": "Python 3",
   "language": "python",
   "name": "python3"
  },
  "language_info": {
   "codemirror_mode": {
    "name": "ipython",
    "version": 3
   },
   "file_extension": ".py",
   "mimetype": "text/x-python",
   "name": "python",
   "nbconvert_exporter": "python",
   "pygments_lexer": "ipython3",
   "version": "3.8.1"
  }
 },
 "nbformat": 4,
 "nbformat_minor": 4
}
