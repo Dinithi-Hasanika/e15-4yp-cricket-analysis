{
 "cells": [
  {
   "cell_type": "code",
   "execution_count": 1,
   "metadata": {},
   "outputs": [],
   "source": [
    "import numpy as np\n",
    "import pandas as pd\n",
    "import matplotlib.pyplot as plt\n",
    "import seaborn as sns\n",
    "%matplotlib inline"
   ]
  },
  {
   "cell_type": "code",
   "execution_count": 2,
   "metadata": {},
   "outputs": [],
   "source": [
    "#load data file\n",
    "data = pd.read_csv('pak.csv')"
   ]
  },
  {
   "cell_type": "code",
   "execution_count": 3,
   "metadata": {},
   "outputs": [
    {
     "data": {
      "text/html": [
       "<div>\n",
       "<style scoped>\n",
       "    .dataframe tbody tr th:only-of-type {\n",
       "        vertical-align: middle;\n",
       "    }\n",
       "\n",
       "    .dataframe tbody tr th {\n",
       "        vertical-align: top;\n",
       "    }\n",
       "\n",
       "    .dataframe thead th {\n",
       "        text-align: right;\n",
       "    }\n",
       "</style>\n",
       "<table border=\"1\" class=\"dataframe\">\n",
       "  <thead>\n",
       "    <tr style=\"text-align: right;\">\n",
       "      <th></th>\n",
       "      <th>p1</th>\n",
       "      <th>p1-s</th>\n",
       "      <th>p2</th>\n",
       "      <th>p2-s</th>\n",
       "      <th>p3</th>\n",
       "      <th>p3-s</th>\n",
       "      <th>p4</th>\n",
       "      <th>p4-s</th>\n",
       "      <th>p5</th>\n",
       "      <th>p5-s</th>\n",
       "      <th>...</th>\n",
       "      <th>p7</th>\n",
       "      <th>p7-s</th>\n",
       "      <th>p8</th>\n",
       "      <th>p8-s</th>\n",
       "      <th>p9</th>\n",
       "      <th>p9-s</th>\n",
       "      <th>p10</th>\n",
       "      <th>p10-s</th>\n",
       "      <th>p11</th>\n",
       "      <th>p11-s</th>\n",
       "    </tr>\n",
       "  </thead>\n",
       "  <tbody>\n",
       "    <tr>\n",
       "      <th>0</th>\n",
       "      <td>Mohammad Hafeez</td>\n",
       "      <td>0</td>\n",
       "      <td>Ahmed Shehzad</td>\n",
       "      <td>15</td>\n",
       "      <td>Younis Khan</td>\n",
       "      <td>9</td>\n",
       "      <td>Misbah-ul-Haq</td>\n",
       "      <td>58</td>\n",
       "      <td>Haris Sohail</td>\n",
       "      <td>23</td>\n",
       "      <td>...</td>\n",
       "      <td>Sarfaraz Ahmed</td>\n",
       "      <td>5</td>\n",
       "      <td>Shahid Afridi</td>\n",
       "      <td>67</td>\n",
       "      <td>Bilawal Bhatti</td>\n",
       "      <td>0</td>\n",
       "      <td>Ehsan Adil</td>\n",
       "      <td>6</td>\n",
       "      <td>Mohammad Irfan</td>\n",
       "      <td>1</td>\n",
       "    </tr>\n",
       "    <tr>\n",
       "      <th>1</th>\n",
       "      <td>Mohammad Hafeez</td>\n",
       "      <td>86</td>\n",
       "      <td>Ahmed Shehzad</td>\n",
       "      <td>55</td>\n",
       "      <td>Younis Khan</td>\n",
       "      <td>11</td>\n",
       "      <td>Misbah-ul-Haq</td>\n",
       "      <td>45</td>\n",
       "      <td>Shahid Afridi</td>\n",
       "      <td>11</td>\n",
       "      <td>...</td>\n",
       "      <td>Haris Sohail</td>\n",
       "      <td>6</td>\n",
       "      <td>Sarfaraz Ahmed</td>\n",
       "      <td>13</td>\n",
       "      <td>Bilawal Bhatti</td>\n",
       "      <td>9</td>\n",
       "      <td>Ehsan Adil</td>\n",
       "      <td>1</td>\n",
       "      <td>Mohammad Irfan</td>\n",
       "      <td>0</td>\n",
       "    </tr>\n",
       "    <tr>\n",
       "      <th>2</th>\n",
       "      <td>Ahmed Shehzad</td>\n",
       "      <td>47</td>\n",
       "      <td>Younis Khan</td>\n",
       "      <td>36</td>\n",
       "      <td>Haris Sohail</td>\n",
       "      <td>6</td>\n",
       "      <td>Misbah-ul-Haq</td>\n",
       "      <td>76</td>\n",
       "      <td>Sohaib Maqsood</td>\n",
       "      <td>0</td>\n",
       "      <td>...</td>\n",
       "      <td>Shahid Afridi</td>\n",
       "      <td>22</td>\n",
       "      <td>Wahab Riaz</td>\n",
       "      <td>4</td>\n",
       "      <td>Yasir Shah</td>\n",
       "      <td>13</td>\n",
       "      <td>Sohail Khan</td>\n",
       "      <td>7</td>\n",
       "      <td>Mohammad Irfan</td>\n",
       "      <td>1</td>\n",
       "    </tr>\n",
       "    <tr>\n",
       "      <th>3</th>\n",
       "      <td>Nasir Jamshed</td>\n",
       "      <td>0</td>\n",
       "      <td>Ahmed Shehzad</td>\n",
       "      <td>1</td>\n",
       "      <td>Younis Khan</td>\n",
       "      <td>0</td>\n",
       "      <td>Haris Sohail</td>\n",
       "      <td>0</td>\n",
       "      <td>Misbah-ul-Haq</td>\n",
       "      <td>7</td>\n",
       "      <td>...</td>\n",
       "      <td>Umar Akmal</td>\n",
       "      <td>59</td>\n",
       "      <td>Shahid Afridi</td>\n",
       "      <td>28</td>\n",
       "      <td>Wahab Riaz</td>\n",
       "      <td>3</td>\n",
       "      <td>Sohail Khan</td>\n",
       "      <td>1</td>\n",
       "      <td>Mohammad Irfan</td>\n",
       "      <td>2</td>\n",
       "    </tr>\n",
       "    <tr>\n",
       "      <th>4</th>\n",
       "      <td>Nasir Jamshed</td>\n",
       "      <td>1</td>\n",
       "      <td>Ahmed Shehzad</td>\n",
       "      <td>0</td>\n",
       "      <td>Haris Sohail</td>\n",
       "      <td>27</td>\n",
       "      <td>Misbah-ul-Haq</td>\n",
       "      <td>73</td>\n",
       "      <td>Umar Akmal</td>\n",
       "      <td>33</td>\n",
       "      <td>...</td>\n",
       "      <td>Sohaib Maqsood</td>\n",
       "      <td>21</td>\n",
       "      <td>Wahab Riaz</td>\n",
       "      <td>54</td>\n",
       "      <td>Sohail Khan</td>\n",
       "      <td>6</td>\n",
       "      <td>Rahat Ali</td>\n",
       "      <td>0</td>\n",
       "      <td>Mohammad Irfan</td>\n",
       "      <td>0</td>\n",
       "    </tr>\n",
       "  </tbody>\n",
       "</table>\n",
       "<p>5 rows × 22 columns</p>\n",
       "</div>"
      ],
      "text/plain": [
       "                p1  p1-s             p2  p2-s            p3  p3-s  \\\n",
       "0  Mohammad Hafeez     0  Ahmed Shehzad    15   Younis Khan     9   \n",
       "1  Mohammad Hafeez    86  Ahmed Shehzad    55   Younis Khan    11   \n",
       "2    Ahmed Shehzad    47    Younis Khan    36  Haris Sohail     6   \n",
       "3    Nasir Jamshed     0  Ahmed Shehzad     1   Younis Khan     0   \n",
       "4    Nasir Jamshed     1  Ahmed Shehzad     0  Haris Sohail    27   \n",
       "\n",
       "              p4  p4-s              p5  p5-s  ...              p7  p7-s  \\\n",
       "0  Misbah-ul-Haq    58    Haris Sohail    23  ...  Sarfaraz Ahmed     5   \n",
       "1  Misbah-ul-Haq    45   Shahid Afridi    11  ...    Haris Sohail     6   \n",
       "2  Misbah-ul-Haq    76  Sohaib Maqsood     0  ...   Shahid Afridi    22   \n",
       "3   Haris Sohail     0   Misbah-ul-Haq     7  ...      Umar Akmal    59   \n",
       "4  Misbah-ul-Haq    73      Umar Akmal    33  ...  Sohaib Maqsood    21   \n",
       "\n",
       "               p8  p8-s              p9  p9-s          p10  p10-s  \\\n",
       "0   Shahid Afridi    67  Bilawal Bhatti     0   Ehsan Adil      6   \n",
       "1  Sarfaraz Ahmed    13  Bilawal Bhatti     9   Ehsan Adil      1   \n",
       "2      Wahab Riaz     4      Yasir Shah    13  Sohail Khan      7   \n",
       "3   Shahid Afridi    28      Wahab Riaz     3  Sohail Khan      1   \n",
       "4      Wahab Riaz    54     Sohail Khan     6    Rahat Ali      0   \n",
       "\n",
       "              p11  p11-s  \n",
       "0  Mohammad Irfan      1  \n",
       "1  Mohammad Irfan      0  \n",
       "2  Mohammad Irfan      1  \n",
       "3  Mohammad Irfan      2  \n",
       "4  Mohammad Irfan      0  \n",
       "\n",
       "[5 rows x 22 columns]"
      ]
     },
     "execution_count": 3,
     "metadata": {},
     "output_type": "execute_result"
    }
   ],
   "source": [
    "data.head()"
   ]
  },
  {
   "cell_type": "code",
   "execution_count": 4,
   "metadata": {},
   "outputs": [],
   "source": [
    "players = ['p1','p2','p3','p4','p5','p6','p7','p8','p9','p10','p11']\n",
    "player_scores = ['p1-s','p2-s','p3-s','p4-s','p5-s','p6-s','p7-s','p8-s','p9-s','p10-s','p11-s']"
   ]
  },
  {
   "cell_type": "code",
   "execution_count": 5,
   "metadata": {},
   "outputs": [],
   "source": [
    "x = set()"
   ]
  },
  {
   "cell_type": "code",
   "execution_count": 6,
   "metadata": {},
   "outputs": [],
   "source": [
    "for i in players:\n",
    "    for j in range(len(data[i].unique())):\n",
    "        x.add(data[i].unique()[j])"
   ]
  },
  {
   "cell_type": "code",
   "execution_count": 7,
   "metadata": {},
   "outputs": [
    {
     "name": "stdout",
     "output_type": "stream",
     "text": [
      "{'Sohaib Maqsood', 'Ahmed Shehzad', 'Sarfaraz Ahmed', 'Anwar Ali', 'Bilal Asif', 'Junaid Khan', 'Mohammad Amir', 'Mohammad Sami', 'Babar Azam', 'Misbah-ul-Haq', 'Saad Ali', 'Zafar Gohar', 'Mohammad Abbas', 'Iftikhar Ahmed', 'Shaheen Shah Afridi', 'Mohammad Hasnain', 'Hammad Azam', 'Hussain Talat', 'Haris Sohail', 'Nasir Jamshed', 'Sharjeel Khan', 'Asad Shafiq', 'Mohammad Hafeez', 'Kamran Akmal', 'Faheem Ashraf', 'Ehsan Adil', 'Shahid Afridi', 'Shadab Khan', 'Younis Khan', 'Shoaib Malik', 'Yasir Shah', 'Wahab Riaz', 'Bilawal Bhatti', 'Zulfiqar Babar', 'Umar Akmal', 'Imad Wasim', 'Sami Aslam', 'Shah Afridi', 'Fawad Alam', 'Aamer Yamin', 'Rahat Ali', 'Mohammad Nawaz', 'Azhar Ali', 'Saad Nasim', 'Mohammad Irfan', 'Saeed Ajmal', 'Usman Shinwari', 'Fakhar Zaman', 'Rumman Raees', 'Imam-ul-Haq', 'Sohail Khan', 'Asif Ali', 'Umar Gul', 'Hasan Ali', 'Mohammad Rizwan', 'Umar Amin', 'Abid Ali', 'Shan Masood'}\n"
     ]
    }
   ],
   "source": [
    "print(x)"
   ]
  },
  {
   "cell_type": "code",
   "execution_count": 8,
   "metadata": {},
   "outputs": [
    {
     "data": {
      "text/plain": [
       "58"
      ]
     },
     "execution_count": 8,
     "metadata": {},
     "output_type": "execute_result"
    }
   ],
   "source": [
    "len(x)"
   ]
  },
  {
   "cell_type": "code",
   "execution_count": 9,
   "metadata": {},
   "outputs": [
    {
     "name": "stdout",
     "output_type": "stream",
     "text": [
      "['Sohaib Maqsood', 'Ahmed Shehzad', 'Sarfaraz Ahmed', 'Anwar Ali', 'Bilal Asif', 'Junaid Khan', 'Mohammad Amir', 'Mohammad Sami', 'Babar Azam', 'Misbah-ul-Haq', 'Saad Ali', 'Zafar Gohar', 'Mohammad Abbas', 'Iftikhar Ahmed', 'Shaheen Shah Afridi', 'Mohammad Hasnain', 'Hammad Azam', 'Hussain Talat', 'Haris Sohail', 'Nasir Jamshed', 'Sharjeel Khan', 'Asad Shafiq', 'Mohammad Hafeez', 'Kamran Akmal', 'Faheem Ashraf', 'Ehsan Adil', 'Shahid Afridi', 'Shadab Khan', 'Younis Khan', 'Shoaib Malik', 'Yasir Shah', 'Wahab Riaz', 'Bilawal Bhatti', 'Zulfiqar Babar', 'Umar Akmal', 'Imad Wasim', 'Sami Aslam', 'Shah Afridi', 'Fawad Alam', 'Aamer Yamin', 'Rahat Ali', 'Mohammad Nawaz', 'Azhar Ali', 'Saad Nasim', 'Mohammad Irfan', 'Saeed Ajmal', 'Usman Shinwari', 'Fakhar Zaman', 'Rumman Raees', 'Imam-ul-Haq', 'Sohail Khan', 'Asif Ali', 'Umar Gul', 'Hasan Ali', 'Mohammad Rizwan', 'Umar Amin', 'Abid Ali', 'Shan Masood']\n"
     ]
    }
   ],
   "source": [
    "unique_list = list(x)\n",
    "print(unique_list)    "
   ]
  },
  {
   "cell_type": "code",
   "execution_count": 10,
   "metadata": {},
   "outputs": [],
   "source": [
    "column_names = [\"player_name\", \"sum\", \"avg\"]\n",
    "\n",
    "result = pd.DataFrame(columns = column_names)"
   ]
  },
  {
   "cell_type": "code",
   "execution_count": 11,
   "metadata": {},
   "outputs": [
    {
     "name": "stdout",
     "output_type": "stream",
     "text": [
      "Sohaib Maqsood  : sum= 118  , count= 7  , average= 16.86\n",
      "Ahmed Shehzad  : sum= 597  , count= 24  , average= 24.88\n",
      "Sarfaraz Ahmed  : sum= 1821  , count= 78  , average= 23.35\n",
      "Anwar Ali  : sum= 110  , count= 12  , average= 9.17\n",
      "Bilal Asif  : sum= 40  , count= 3  , average= 13.33\n",
      "Junaid Khan  : sum= 12  , count= 27  , average= 0.44\n",
      "Mohammad Amir  : sum= 196  , count= 44  , average= 4.45\n",
      "Mohammad Sami  : sum= 0  , count= 2  , average= 0.0\n",
      "Babar Azam  : sum= 3174  , count= 70  , average= 45.34\n",
      "Misbah-ul-Haq  : sum= 388  , count= 8  , average= 48.5\n",
      "Saad Ali  : sum= 11  , count= 2  , average= 5.5\n",
      "Zafar Gohar  : sum= 15  , count= 1  , average= 15.0\n",
      "Mohammad Abbas  : sum= 0  , count= 3  , average= 0.0\n",
      "Iftikhar Ahmed  : sum= 68  , count= 4  , average= 17.0\n",
      "Shaheen Shah Afridi  : sum= 42  , count= 16  , average= 2.62\n",
      "Mohammad Hasnain  : sum= 28  , count= 5  , average= 5.6\n",
      "Hammad Azam  : sum= 0  , count= 2  , average= 0.0\n",
      "Hussain Talat  : sum= 2  , count= 1  , average= 2.0\n",
      "Haris Sohail  : sum= 1160  , count= 29  , average= 40.0\n",
      "Nasir Jamshed  : sum= 1  , count= 2  , average= 0.5\n",
      "Sharjeel Khan  : sum= 618  , count= 14  , average= 44.14\n",
      "Asad Shafiq  : sum= 96  , count= 6  , average= 16.0\n",
      "Mohammad Hafeez  : sum= 2059  , count= 63  , average= 32.68\n",
      "Kamran Akmal  : sum= 68  , count= 3  , average= 22.67\n",
      "Faheem Ashraf  : sum= 157  , count= 20  , average= 7.85\n",
      "Ehsan Adil  : sum= 22  , count= 4  , average= 5.5\n",
      "Shahid Afridi  : sum= 183  , count= 8  , average= 22.88\n",
      "Shadab Khan  : sum= 337  , count= 41  , average= 8.22\n",
      "Younis Khan  : sum= 102  , count= 6  , average= 17.0\n",
      "Shoaib Malik  : sum= 2014  , count= 68  , average= 29.62\n",
      "Yasir Shah  : sum= 127  , count= 23  , average= 5.52\n",
      "Wahab Riaz  : sum= 337  , count= 40  , average= 8.43\n",
      "Bilawal Bhatti  : sum= 9  , count= 2  , average= 4.5\n",
      "Zulfiqar Babar  : sum= 1  , count= 1  , average= 1.0\n",
      "Umar Akmal  : sum= 443  , count= 18  , average= 24.61\n",
      "Imad Wasim  : sum= 952  , count= 52  , average= 18.31\n",
      "Sami Aslam  : sum= 78  , count= 4  , average= 19.5\n",
      "Shah Afridi  : sum= 0  , count= 1  , average= 0.0\n",
      "Fawad Alam  : sum= 18  , count= 3  , average= 6.0\n",
      "Aamer Yamin  : sum= 95  , count= 4  , average= 23.75\n",
      "Rahat Ali  : sum= 8  , count= 12  , average= 0.67\n",
      "Mohammad Nawaz  : sum= 199  , count= 15  , average= 13.27\n",
      "Azhar Ali  : sum= 1347  , count= 38  , average= 35.45\n",
      "Saad Nasim  : sum= 99  , count= 3  , average= 33.0\n",
      "Mohammad Irfan  : sum= 9  , count= 21  , average= 0.43\n",
      "Saeed Ajmal  : sum= 0  , count= 2  , average= 0.0\n",
      "Usman Shinwari  : sum= 6  , count= 16  , average= 0.38\n",
      "Fakhar Zaman  : sum= 1866  , count= 43  , average= 43.4\n",
      "Rumman Raees  : sum= 27  , count= 9  , average= 3.0\n",
      "Imam-ul-Haq  : sum= 1631  , count= 35  , average= 46.6\n",
      "Sohail Khan  : sum= 21  , count= 7  , average= 3.0\n",
      "Asif Ali  : sum= 352  , count= 15  , average= 23.47\n",
      "Umar Gul  : sum= 6  , count= 5  , average= 1.2\n",
      "Hasan Ali  : sum= 278  , count= 50  , average= 5.56\n",
      "Mohammad Rizwan  : sum= 705  , count= 32  , average= 22.03\n",
      "Umar Amin  : sum= 2  , count= 1  , average= 2.0\n",
      "Abid Ali  : sum= 191  , count= 4  , average= 47.75\n",
      "Shan Masood  : sum= 111  , count= 5  , average= 22.2\n",
      "{'Sohaib Maqsood': 16.86, 'Ahmed Shehzad': 24.88, 'Sarfaraz Ahmed': 23.35, 'Anwar Ali': 9.17, 'Bilal Asif': 13.33, 'Junaid Khan': 0.44, 'Mohammad Amir': 4.45, 'Mohammad Sami': 0.0, 'Babar Azam': 45.34, 'Misbah-ul-Haq': 48.5, 'Saad Ali': 5.5, 'Zafar Gohar': 15.0, 'Mohammad Abbas': 0.0, 'Iftikhar Ahmed': 17.0, 'Shaheen Shah Afridi': 2.62, 'Mohammad Hasnain': 5.6, 'Hammad Azam': 0.0, 'Hussain Talat': 2.0, 'Haris Sohail': 40.0, 'Nasir Jamshed': 0.5, 'Sharjeel Khan': 44.14, 'Asad Shafiq': 16.0, 'Mohammad Hafeez': 32.68, 'Kamran Akmal': 22.67, 'Faheem Ashraf': 7.85, 'Ehsan Adil': 5.5, 'Shahid Afridi': 22.88, 'Shadab Khan': 8.22, 'Younis Khan': 17.0, 'Shoaib Malik': 29.62, 'Yasir Shah': 5.52, 'Wahab Riaz': 8.43, 'Bilawal Bhatti': 4.5, 'Zulfiqar Babar': 1.0, 'Umar Akmal': 24.61, 'Imad Wasim': 18.31, 'Sami Aslam': 19.5, 'Shah Afridi': 0.0, 'Fawad Alam': 6.0, 'Aamer Yamin': 23.75, 'Rahat Ali': 0.67, 'Mohammad Nawaz': 13.27, 'Azhar Ali': 35.45, 'Saad Nasim': 33.0, 'Mohammad Irfan': 0.43, 'Saeed Ajmal': 0.0, 'Usman Shinwari': 0.38, 'Fakhar Zaman': 43.4, 'Rumman Raees': 3.0, 'Imam-ul-Haq': 46.6, 'Sohail Khan': 3.0, 'Asif Ali': 23.47, 'Umar Gul': 1.2, 'Hasan Ali': 5.56, 'Mohammad Rizwan': 22.03, 'Umar Amin': 2.0, 'Abid Ali': 47.75, 'Shan Masood': 22.2}\n"
     ]
    }
   ],
   "source": [
    "dictionary = dict()\n",
    "\n",
    "for indx, name in enumerate(unique_list):\n",
    "    count = 0\n",
    "    sum = 0\n",
    "    for index, row in data.iterrows():\n",
    "        for ind, p in enumerate(players):\n",
    "                if(data.iloc[index][p] == name ):\n",
    "#                     print(name)\n",
    "                    sum = sum + data.iloc[index][player_scores[ind]] \n",
    "                    count += 1\n",
    "    avg = round((sum/count),2)\n",
    "    print(name,\" : sum=\",sum,\" , count=\",count,\" , average=\",round(avg,2))    \n",
    "    dictionary[name] = avg\n",
    "    result = result.append({'player_name':name, 'sum':sum, 'avg':avg}, ignore_index=True)\n",
    "    \n",
    "print(dictionary)"
   ]
  },
  {
   "cell_type": "code",
   "execution_count": 12,
   "metadata": {},
   "outputs": [],
   "source": [
    "# 2 grams - find beautiful combinations"
   ]
  },
  {
   "cell_type": "code",
   "execution_count": 13,
   "metadata": {},
   "outputs": [],
   "source": [
    "#load data file\n",
    "data2grams = pd.read_csv('pak2grams.csv')"
   ]
  },
  {
   "cell_type": "code",
   "execution_count": 14,
   "metadata": {},
   "outputs": [
    {
     "data": {
      "text/html": [
       "<div>\n",
       "<style scoped>\n",
       "    .dataframe tbody tr th:only-of-type {\n",
       "        vertical-align: middle;\n",
       "    }\n",
       "\n",
       "    .dataframe tbody tr th {\n",
       "        vertical-align: top;\n",
       "    }\n",
       "\n",
       "    .dataframe thead th {\n",
       "        text-align: right;\n",
       "    }\n",
       "</style>\n",
       "<table border=\"1\" class=\"dataframe\">\n",
       "  <thead>\n",
       "    <tr style=\"text-align: right;\">\n",
       "      <th></th>\n",
       "      <th>player-1</th>\n",
       "      <th>player-2</th>\n",
       "      <th>avg</th>\n",
       "    </tr>\n",
       "  </thead>\n",
       "  <tbody>\n",
       "    <tr>\n",
       "      <th>0</th>\n",
       "      <td>Iftikhar Ahmed</td>\n",
       "      <td>Shoaib Malik</td>\n",
       "      <td>18.50</td>\n",
       "    </tr>\n",
       "    <tr>\n",
       "      <th>1</th>\n",
       "      <td>Iftikhar Ahmed</td>\n",
       "      <td>Yasir Shah</td>\n",
       "      <td>21.00</td>\n",
       "    </tr>\n",
       "    <tr>\n",
       "      <th>2</th>\n",
       "      <td>Iftikhar Ahmed</td>\n",
       "      <td>Sarfaraz Ahmed</td>\n",
       "      <td>47.25</td>\n",
       "    </tr>\n",
       "    <tr>\n",
       "      <th>3</th>\n",
       "      <td>Iftikhar Ahmed</td>\n",
       "      <td>Umar Amin</td>\n",
       "      <td>0.00</td>\n",
       "    </tr>\n",
       "    <tr>\n",
       "      <th>4</th>\n",
       "      <td>Iftikhar Ahmed</td>\n",
       "      <td>Shadab Khan</td>\n",
       "      <td>30.00</td>\n",
       "    </tr>\n",
       "  </tbody>\n",
       "</table>\n",
       "</div>"
      ],
      "text/plain": [
       "         player-1        player-2    avg\n",
       "0  Iftikhar Ahmed    Shoaib Malik  18.50\n",
       "1  Iftikhar Ahmed      Yasir Shah  21.00\n",
       "2  Iftikhar Ahmed  Sarfaraz Ahmed  47.25\n",
       "3  Iftikhar Ahmed       Umar Amin   0.00\n",
       "4  Iftikhar Ahmed     Shadab Khan  30.00"
      ]
     },
     "execution_count": 14,
     "metadata": {},
     "output_type": "execute_result"
    }
   ],
   "source": [
    "data2grams.head()"
   ]
  },
  {
   "cell_type": "code",
   "execution_count": 15,
   "metadata": {},
   "outputs": [
    {
     "data": {
      "text/plain": [
       "(1653, 3)"
      ]
     },
     "execution_count": 15,
     "metadata": {},
     "output_type": "execute_result"
    }
   ],
   "source": [
    "data2grams.shape"
   ]
  },
  {
   "cell_type": "code",
   "execution_count": 16,
   "metadata": {},
   "outputs": [],
   "source": [
    "data2grams = data2grams[data2grams.avg != 0.0]"
   ]
  },
  {
   "cell_type": "code",
   "execution_count": 17,
   "metadata": {},
   "outputs": [
    {
     "data": {
      "text/plain": [
       "(683, 3)"
      ]
     },
     "execution_count": 17,
     "metadata": {},
     "output_type": "execute_result"
    }
   ],
   "source": [
    "data2grams.shape"
   ]
  },
  {
   "cell_type": "code",
   "execution_count": 18,
   "metadata": {},
   "outputs": [],
   "source": [
    "data2grams = data2grams.reset_index(drop=True)"
   ]
  },
  {
   "cell_type": "code",
   "execution_count": 19,
   "metadata": {},
   "outputs": [],
   "source": [
    "new_column_names = [\"player-1\", \"player-2\", \"combined_avg\",\"sum_of_individual\"]\n",
    "\n",
    "pak_beautiful2grams = pd.DataFrame(columns = new_column_names)"
   ]
  },
  {
   "cell_type": "code",
   "execution_count": 20,
   "metadata": {},
   "outputs": [],
   "source": [
    "for index, row in data2grams.iterrows():\n",
    "    player1 = data2grams.iloc[index]['player-1']\n",
    "    player2 = data2grams.iloc[index]['player-2']\n",
    "    combined = data2grams.iloc[index]['avg']\n",
    "    individual_avg_sum = dictionary.get(player1)+dictionary.get(player2)\n",
    "    if(combined > individual_avg_sum):\n",
    "        pak_beautiful2grams = pak_beautiful2grams.append({'player-1':player1, 'player-2':player2, 'combined_avg': combined, 'sum_of_individual':individual_avg_sum}, ignore_index=True)"
   ]
  },
  {
   "cell_type": "code",
   "execution_count": 21,
   "metadata": {},
   "outputs": [
    {
     "data": {
      "text/html": [
       "<div>\n",
       "<style scoped>\n",
       "    .dataframe tbody tr th:only-of-type {\n",
       "        vertical-align: middle;\n",
       "    }\n",
       "\n",
       "    .dataframe tbody tr th {\n",
       "        vertical-align: top;\n",
       "    }\n",
       "\n",
       "    .dataframe thead th {\n",
       "        text-align: right;\n",
       "    }\n",
       "</style>\n",
       "<table border=\"1\" class=\"dataframe\">\n",
       "  <thead>\n",
       "    <tr style=\"text-align: right;\">\n",
       "      <th></th>\n",
       "      <th>player-1</th>\n",
       "      <th>player-2</th>\n",
       "      <th>combined_avg</th>\n",
       "      <th>sum_of_individual</th>\n",
       "    </tr>\n",
       "  </thead>\n",
       "  <tbody>\n",
       "    <tr>\n",
       "      <th>0</th>\n",
       "      <td>Iftikhar Ahmed</td>\n",
       "      <td>Sarfaraz Ahmed</td>\n",
       "      <td>47.25</td>\n",
       "      <td>40.35</td>\n",
       "    </tr>\n",
       "    <tr>\n",
       "      <th>1</th>\n",
       "      <td>Iftikhar Ahmed</td>\n",
       "      <td>Shadab Khan</td>\n",
       "      <td>30.00</td>\n",
       "      <td>25.22</td>\n",
       "    </tr>\n",
       "    <tr>\n",
       "      <th>2</th>\n",
       "      <td>Iftikhar Ahmed</td>\n",
       "      <td>Wahab Riaz</td>\n",
       "      <td>27.75</td>\n",
       "      <td>25.43</td>\n",
       "    </tr>\n",
       "    <tr>\n",
       "      <th>3</th>\n",
       "      <td>Iftikhar Ahmed</td>\n",
       "      <td>Haris Sohail</td>\n",
       "      <td>78.00</td>\n",
       "      <td>57.00</td>\n",
       "    </tr>\n",
       "    <tr>\n",
       "      <th>4</th>\n",
       "      <td>Iftikhar Ahmed</td>\n",
       "      <td>Imad Wasim</td>\n",
       "      <td>44.00</td>\n",
       "      <td>35.31</td>\n",
       "    </tr>\n",
       "  </tbody>\n",
       "</table>\n",
       "</div>"
      ],
      "text/plain": [
       "         player-1        player-2  combined_avg  sum_of_individual\n",
       "0  Iftikhar Ahmed  Sarfaraz Ahmed         47.25              40.35\n",
       "1  Iftikhar Ahmed     Shadab Khan         30.00              25.22\n",
       "2  Iftikhar Ahmed      Wahab Riaz         27.75              25.43\n",
       "3  Iftikhar Ahmed    Haris Sohail         78.00              57.00\n",
       "4  Iftikhar Ahmed      Imad Wasim         44.00              35.31"
      ]
     },
     "execution_count": 21,
     "metadata": {},
     "output_type": "execute_result"
    }
   ],
   "source": [
    "pak_beautiful2grams.head()"
   ]
  },
  {
   "cell_type": "code",
   "execution_count": 22,
   "metadata": {},
   "outputs": [
    {
     "data": {
      "text/plain": [
       "(356, 4)"
      ]
     },
     "execution_count": 22,
     "metadata": {},
     "output_type": "execute_result"
    }
   ],
   "source": [
    "pak_beautiful2grams.shape"
   ]
  },
  {
   "cell_type": "code",
   "execution_count": 23,
   "metadata": {},
   "outputs": [],
   "source": [
    "pak_beautiful2grams.to_csv('pak_beautiful2grams.csv')"
   ]
  },
  {
   "cell_type": "code",
   "execution_count": 24,
   "metadata": {},
   "outputs": [],
   "source": [
    "# 3 grams - find beautiful combinations"
   ]
  },
  {
   "cell_type": "code",
   "execution_count": 25,
   "metadata": {},
   "outputs": [],
   "source": [
    "#load data file\n",
    "data3grams = pd.read_csv('pak3grams.csv')"
   ]
  },
  {
   "cell_type": "code",
   "execution_count": 26,
   "metadata": {},
   "outputs": [
    {
     "data": {
      "text/html": [
       "<div>\n",
       "<style scoped>\n",
       "    .dataframe tbody tr th:only-of-type {\n",
       "        vertical-align: middle;\n",
       "    }\n",
       "\n",
       "    .dataframe tbody tr th {\n",
       "        vertical-align: top;\n",
       "    }\n",
       "\n",
       "    .dataframe thead th {\n",
       "        text-align: right;\n",
       "    }\n",
       "</style>\n",
       "<table border=\"1\" class=\"dataframe\">\n",
       "  <thead>\n",
       "    <tr style=\"text-align: right;\">\n",
       "      <th></th>\n",
       "      <th>player-1</th>\n",
       "      <th>player-2</th>\n",
       "      <th>player-3</th>\n",
       "      <th>avg</th>\n",
       "    </tr>\n",
       "  </thead>\n",
       "  <tbody>\n",
       "    <tr>\n",
       "      <th>0</th>\n",
       "      <td>Iftikhar Ahmed</td>\n",
       "      <td>Shoaib Malik</td>\n",
       "      <td>Yasir Shah</td>\n",
       "      <td>34.0</td>\n",
       "    </tr>\n",
       "    <tr>\n",
       "      <th>1</th>\n",
       "      <td>Iftikhar Ahmed</td>\n",
       "      <td>Shoaib Malik</td>\n",
       "      <td>Sarfaraz Ahmed</td>\n",
       "      <td>63.5</td>\n",
       "    </tr>\n",
       "    <tr>\n",
       "      <th>2</th>\n",
       "      <td>Iftikhar Ahmed</td>\n",
       "      <td>Shoaib Malik</td>\n",
       "      <td>Umar Amin</td>\n",
       "      <td>0.0</td>\n",
       "    </tr>\n",
       "    <tr>\n",
       "      <th>3</th>\n",
       "      <td>Iftikhar Ahmed</td>\n",
       "      <td>Shoaib Malik</td>\n",
       "      <td>Shadab Khan</td>\n",
       "      <td>0.0</td>\n",
       "    </tr>\n",
       "    <tr>\n",
       "      <th>4</th>\n",
       "      <td>Iftikhar Ahmed</td>\n",
       "      <td>Shoaib Malik</td>\n",
       "      <td>Saad Ali</td>\n",
       "      <td>0.0</td>\n",
       "    </tr>\n",
       "  </tbody>\n",
       "</table>\n",
       "</div>"
      ],
      "text/plain": [
       "         player-1      player-2        player-3   avg\n",
       "0  Iftikhar Ahmed  Shoaib Malik      Yasir Shah  34.0\n",
       "1  Iftikhar Ahmed  Shoaib Malik  Sarfaraz Ahmed  63.5\n",
       "2  Iftikhar Ahmed  Shoaib Malik       Umar Amin   0.0\n",
       "3  Iftikhar Ahmed  Shoaib Malik     Shadab Khan   0.0\n",
       "4  Iftikhar Ahmed  Shoaib Malik        Saad Ali   0.0"
      ]
     },
     "execution_count": 26,
     "metadata": {},
     "output_type": "execute_result"
    }
   ],
   "source": [
    "data3grams.head()"
   ]
  },
  {
   "cell_type": "code",
   "execution_count": 27,
   "metadata": {},
   "outputs": [
    {
     "data": {
      "text/plain": [
       "(30856, 4)"
      ]
     },
     "execution_count": 27,
     "metadata": {},
     "output_type": "execute_result"
    }
   ],
   "source": [
    "data3grams.shape"
   ]
  },
  {
   "cell_type": "code",
   "execution_count": 28,
   "metadata": {},
   "outputs": [],
   "source": [
    "data3grams = data3grams[data3grams.avg != 0.0]"
   ]
  },
  {
   "cell_type": "code",
   "execution_count": 29,
   "metadata": {},
   "outputs": [
    {
     "data": {
      "text/plain": [
       "(3575, 4)"
      ]
     },
     "execution_count": 29,
     "metadata": {},
     "output_type": "execute_result"
    }
   ],
   "source": [
    "data3grams.shape"
   ]
  },
  {
   "cell_type": "code",
   "execution_count": 30,
   "metadata": {},
   "outputs": [],
   "source": [
    "data3grams = data3grams.reset_index(drop=True)"
   ]
  },
  {
   "cell_type": "code",
   "execution_count": 32,
   "metadata": {},
   "outputs": [],
   "source": [
    "new_column_names = [\"player-1\", \"player-2\", \"player-3\", \"combined_avg\",\"sum_of_individual\"]\n",
    "\n",
    "pak_beautiful3grams = pd.DataFrame(columns = new_column_names)"
   ]
  },
  {
   "cell_type": "code",
   "execution_count": 33,
   "metadata": {},
   "outputs": [],
   "source": [
    "for index, row in data3grams.iterrows():\n",
    "    player1 = data3grams.iloc[index]['player-1']\n",
    "    player2 = data3grams.iloc[index]['player-2']\n",
    "    player3 = data3grams.iloc[index]['player-3']\n",
    "    combined = data3grams.iloc[index]['avg']\n",
    "    individual_avg_sum = dictionary.get(player1)+dictionary.get(player2)+dictionary.get(player3)\n",
    "    if(combined > individual_avg_sum):\n",
    "        pak_beautiful3grams = pak_beautiful3grams.append({'player-1':player1, 'player-2':player2,'player-3':player3, 'combined_avg': combined, 'sum_of_individual':individual_avg_sum}, ignore_index=True)"
   ]
  },
  {
   "cell_type": "code",
   "execution_count": 34,
   "metadata": {},
   "outputs": [
    {
     "data": {
      "text/html": [
       "<div>\n",
       "<style scoped>\n",
       "    .dataframe tbody tr th:only-of-type {\n",
       "        vertical-align: middle;\n",
       "    }\n",
       "\n",
       "    .dataframe tbody tr th {\n",
       "        vertical-align: top;\n",
       "    }\n",
       "\n",
       "    .dataframe thead th {\n",
       "        text-align: right;\n",
       "    }\n",
       "</style>\n",
       "<table border=\"1\" class=\"dataframe\">\n",
       "  <thead>\n",
       "    <tr style=\"text-align: right;\">\n",
       "      <th></th>\n",
       "      <th>player-1</th>\n",
       "      <th>player-2</th>\n",
       "      <th>player-3</th>\n",
       "      <th>combined_avg</th>\n",
       "      <th>sum_of_individual</th>\n",
       "    </tr>\n",
       "  </thead>\n",
       "  <tbody>\n",
       "    <tr>\n",
       "      <th>0</th>\n",
       "      <td>Iftikhar Ahmed</td>\n",
       "      <td>Yasir Shah</td>\n",
       "      <td>Sarfaraz Ahmed</td>\n",
       "      <td>85.0</td>\n",
       "      <td>45.87</td>\n",
       "    </tr>\n",
       "    <tr>\n",
       "      <th>1</th>\n",
       "      <td>Iftikhar Ahmed</td>\n",
       "      <td>Anwar Ali</td>\n",
       "      <td>Yasir Shah</td>\n",
       "      <td>44.0</td>\n",
       "      <td>31.69</td>\n",
       "    </tr>\n",
       "    <tr>\n",
       "      <th>2</th>\n",
       "      <td>Iftikhar Ahmed</td>\n",
       "      <td>Wahab Riaz</td>\n",
       "      <td>Sarfaraz Ahmed</td>\n",
       "      <td>58.0</td>\n",
       "      <td>48.78</td>\n",
       "    </tr>\n",
       "    <tr>\n",
       "      <th>3</th>\n",
       "      <td>Iftikhar Ahmed</td>\n",
       "      <td>Haris Sohail</td>\n",
       "      <td>Sarfaraz Ahmed</td>\n",
       "      <td>93.5</td>\n",
       "      <td>80.35</td>\n",
       "    </tr>\n",
       "    <tr>\n",
       "      <th>4</th>\n",
       "      <td>Iftikhar Ahmed</td>\n",
       "      <td>Abid Ali</td>\n",
       "      <td>Sarfaraz Ahmed</td>\n",
       "      <td>125.0</td>\n",
       "      <td>88.10</td>\n",
       "    </tr>\n",
       "  </tbody>\n",
       "</table>\n",
       "</div>"
      ],
      "text/plain": [
       "         player-1      player-2        player-3  combined_avg  \\\n",
       "0  Iftikhar Ahmed    Yasir Shah  Sarfaraz Ahmed          85.0   \n",
       "1  Iftikhar Ahmed     Anwar Ali      Yasir Shah          44.0   \n",
       "2  Iftikhar Ahmed    Wahab Riaz  Sarfaraz Ahmed          58.0   \n",
       "3  Iftikhar Ahmed  Haris Sohail  Sarfaraz Ahmed          93.5   \n",
       "4  Iftikhar Ahmed      Abid Ali  Sarfaraz Ahmed         125.0   \n",
       "\n",
       "   sum_of_individual  \n",
       "0              45.87  \n",
       "1              31.69  \n",
       "2              48.78  \n",
       "3              80.35  \n",
       "4              88.10  "
      ]
     },
     "execution_count": 34,
     "metadata": {},
     "output_type": "execute_result"
    }
   ],
   "source": [
    "pak_beautiful3grams.head()"
   ]
  },
  {
   "cell_type": "code",
   "execution_count": 35,
   "metadata": {},
   "outputs": [
    {
     "data": {
      "text/plain": [
       "(1770, 5)"
      ]
     },
     "execution_count": 35,
     "metadata": {},
     "output_type": "execute_result"
    }
   ],
   "source": [
    "pak_beautiful3grams.shape"
   ]
  },
  {
   "cell_type": "code",
   "execution_count": 36,
   "metadata": {},
   "outputs": [],
   "source": [
    "pak_beautiful3grams.to_csv('pak_beautiful3grams.csv')"
   ]
  },
  {
   "cell_type": "code",
   "execution_count": 37,
   "metadata": {},
   "outputs": [],
   "source": [
    "# 4 grams - find beautiful combinations"
   ]
  },
  {
   "cell_type": "code",
   "execution_count": 38,
   "metadata": {},
   "outputs": [],
   "source": [
    "#load data file\n",
    "data4grams = pd.read_csv('pak4grams.csv')"
   ]
  },
  {
   "cell_type": "code",
   "execution_count": 39,
   "metadata": {},
   "outputs": [
    {
     "data": {
      "text/html": [
       "<div>\n",
       "<style scoped>\n",
       "    .dataframe tbody tr th:only-of-type {\n",
       "        vertical-align: middle;\n",
       "    }\n",
       "\n",
       "    .dataframe tbody tr th {\n",
       "        vertical-align: top;\n",
       "    }\n",
       "\n",
       "    .dataframe thead th {\n",
       "        text-align: right;\n",
       "    }\n",
       "</style>\n",
       "<table border=\"1\" class=\"dataframe\">\n",
       "  <thead>\n",
       "    <tr style=\"text-align: right;\">\n",
       "      <th></th>\n",
       "      <th>player-1</th>\n",
       "      <th>player-2</th>\n",
       "      <th>player-3</th>\n",
       "      <th>player-4</th>\n",
       "      <th>avg</th>\n",
       "    </tr>\n",
       "  </thead>\n",
       "  <tbody>\n",
       "    <tr>\n",
       "      <th>0</th>\n",
       "      <td>Iftikhar Ahmed</td>\n",
       "      <td>Shoaib Malik</td>\n",
       "      <td>Yasir Shah</td>\n",
       "      <td>Sarfaraz Ahmed</td>\n",
       "      <td>98.0</td>\n",
       "    </tr>\n",
       "    <tr>\n",
       "      <th>1</th>\n",
       "      <td>Iftikhar Ahmed</td>\n",
       "      <td>Umar Amin</td>\n",
       "      <td>Shoaib Malik</td>\n",
       "      <td>Yasir Shah</td>\n",
       "      <td>0.0</td>\n",
       "    </tr>\n",
       "    <tr>\n",
       "      <th>2</th>\n",
       "      <td>Iftikhar Ahmed</td>\n",
       "      <td>Shoaib Malik</td>\n",
       "      <td>Yasir Shah</td>\n",
       "      <td>Shadab Khan</td>\n",
       "      <td>0.0</td>\n",
       "    </tr>\n",
       "    <tr>\n",
       "      <th>3</th>\n",
       "      <td>Iftikhar Ahmed</td>\n",
       "      <td>Shoaib Malik</td>\n",
       "      <td>Yasir Shah</td>\n",
       "      <td>Saad Ali</td>\n",
       "      <td>0.0</td>\n",
       "    </tr>\n",
       "    <tr>\n",
       "      <th>4</th>\n",
       "      <td>Iftikhar Ahmed</td>\n",
       "      <td>Shoaib Malik</td>\n",
       "      <td>Yasir Shah</td>\n",
       "      <td>Bilal Asif</td>\n",
       "      <td>0.0</td>\n",
       "    </tr>\n",
       "  </tbody>\n",
       "</table>\n",
       "</div>"
      ],
      "text/plain": [
       "         player-1      player-2      player-3        player-4   avg\n",
       "0  Iftikhar Ahmed  Shoaib Malik    Yasir Shah  Sarfaraz Ahmed  98.0\n",
       "1  Iftikhar Ahmed     Umar Amin  Shoaib Malik      Yasir Shah   0.0\n",
       "2  Iftikhar Ahmed  Shoaib Malik    Yasir Shah     Shadab Khan   0.0\n",
       "3  Iftikhar Ahmed  Shoaib Malik    Yasir Shah        Saad Ali   0.0\n",
       "4  Iftikhar Ahmed  Shoaib Malik    Yasir Shah      Bilal Asif   0.0"
      ]
     },
     "execution_count": 39,
     "metadata": {},
     "output_type": "execute_result"
    }
   ],
   "source": [
    "data4grams.head()"
   ]
  },
  {
   "cell_type": "code",
   "execution_count": 40,
   "metadata": {},
   "outputs": [
    {
     "data": {
      "text/plain": [
       "(424270, 5)"
      ]
     },
     "execution_count": 40,
     "metadata": {},
     "output_type": "execute_result"
    }
   ],
   "source": [
    "data4grams.shape"
   ]
  },
  {
   "cell_type": "code",
   "execution_count": 41,
   "metadata": {},
   "outputs": [],
   "source": [
    "data4grams = data4grams[data4grams.avg != 0.0]"
   ]
  },
  {
   "cell_type": "code",
   "execution_count": 42,
   "metadata": {},
   "outputs": [
    {
     "data": {
      "text/plain": [
       "(10175, 5)"
      ]
     },
     "execution_count": 42,
     "metadata": {},
     "output_type": "execute_result"
    }
   ],
   "source": [
    "data4grams.shape"
   ]
  },
  {
   "cell_type": "code",
   "execution_count": 43,
   "metadata": {},
   "outputs": [],
   "source": [
    "data4grams = data4grams.reset_index(drop=True)"
   ]
  },
  {
   "cell_type": "code",
   "execution_count": 44,
   "metadata": {},
   "outputs": [],
   "source": [
    "new_column_names = [\"player-1\", \"player-2\", \"player-3\", \"player-4\", \"combined_avg\",\"sum_of_individual\"]\n",
    "\n",
    "pak_beautiful4grams = pd.DataFrame(columns = new_column_names)"
   ]
  },
  {
   "cell_type": "code",
   "execution_count": 45,
   "metadata": {},
   "outputs": [],
   "source": [
    "for index, row in data4grams.iterrows():\n",
    "    player1 = data4grams.iloc[index]['player-1']\n",
    "    player2 = data4grams.iloc[index]['player-2']\n",
    "    player3 = data4grams.iloc[index]['player-3']\n",
    "    player4 = data4grams.iloc[index]['player-4']\n",
    "    combined = data4grams.iloc[index]['avg']\n",
    "    individual_avg_sum = dictionary.get(player1)+dictionary.get(player2)+dictionary.get(player3)+dictionary.get(player4)\n",
    "    if(combined > individual_avg_sum):\n",
    "        pak_beautiful4grams = pak_beautiful4grams.append({'player-1':player1, 'player-2':player2,'player-3':player3, 'player-4':player4,'combined_avg': combined, 'sum_of_individual':individual_avg_sum}, ignore_index=True)"
   ]
  },
  {
   "cell_type": "code",
   "execution_count": 46,
   "metadata": {},
   "outputs": [
    {
     "data": {
      "text/html": [
       "<div>\n",
       "<style scoped>\n",
       "    .dataframe tbody tr th:only-of-type {\n",
       "        vertical-align: middle;\n",
       "    }\n",
       "\n",
       "    .dataframe tbody tr th {\n",
       "        vertical-align: top;\n",
       "    }\n",
       "\n",
       "    .dataframe thead th {\n",
       "        text-align: right;\n",
       "    }\n",
       "</style>\n",
       "<table border=\"1\" class=\"dataframe\">\n",
       "  <thead>\n",
       "    <tr style=\"text-align: right;\">\n",
       "      <th></th>\n",
       "      <th>player-1</th>\n",
       "      <th>player-2</th>\n",
       "      <th>player-3</th>\n",
       "      <th>player-4</th>\n",
       "      <th>combined_avg</th>\n",
       "      <th>sum_of_individual</th>\n",
       "    </tr>\n",
       "  </thead>\n",
       "  <tbody>\n",
       "    <tr>\n",
       "      <th>0</th>\n",
       "      <td>Iftikhar Ahmed</td>\n",
       "      <td>Shoaib Malik</td>\n",
       "      <td>Yasir Shah</td>\n",
       "      <td>Sarfaraz Ahmed</td>\n",
       "      <td>98.0</td>\n",
       "      <td>75.49</td>\n",
       "    </tr>\n",
       "    <tr>\n",
       "      <th>1</th>\n",
       "      <td>Iftikhar Ahmed</td>\n",
       "      <td>Shoaib Malik</td>\n",
       "      <td>Wahab Riaz</td>\n",
       "      <td>Sarfaraz Ahmed</td>\n",
       "      <td>83.5</td>\n",
       "      <td>78.40</td>\n",
       "    </tr>\n",
       "    <tr>\n",
       "      <th>2</th>\n",
       "      <td>Iftikhar Ahmed</td>\n",
       "      <td>Yasir Shah</td>\n",
       "      <td>Wahab Riaz</td>\n",
       "      <td>Sarfaraz Ahmed</td>\n",
       "      <td>90.0</td>\n",
       "      <td>54.30</td>\n",
       "    </tr>\n",
       "    <tr>\n",
       "      <th>3</th>\n",
       "      <td>Iftikhar Ahmed</td>\n",
       "      <td>Yasir Shah</td>\n",
       "      <td>Mohammad Hafeez</td>\n",
       "      <td>Sarfaraz Ahmed</td>\n",
       "      <td>85.0</td>\n",
       "      <td>78.55</td>\n",
       "    </tr>\n",
       "    <tr>\n",
       "      <th>4</th>\n",
       "      <td>Iftikhar Ahmed</td>\n",
       "      <td>Yasir Shah</td>\n",
       "      <td>Mohammad Irfan</td>\n",
       "      <td>Sarfaraz Ahmed</td>\n",
       "      <td>85.0</td>\n",
       "      <td>46.30</td>\n",
       "    </tr>\n",
       "  </tbody>\n",
       "</table>\n",
       "</div>"
      ],
      "text/plain": [
       "         player-1      player-2         player-3        player-4  \\\n",
       "0  Iftikhar Ahmed  Shoaib Malik       Yasir Shah  Sarfaraz Ahmed   \n",
       "1  Iftikhar Ahmed  Shoaib Malik       Wahab Riaz  Sarfaraz Ahmed   \n",
       "2  Iftikhar Ahmed    Yasir Shah       Wahab Riaz  Sarfaraz Ahmed   \n",
       "3  Iftikhar Ahmed    Yasir Shah  Mohammad Hafeez  Sarfaraz Ahmed   \n",
       "4  Iftikhar Ahmed    Yasir Shah   Mohammad Irfan  Sarfaraz Ahmed   \n",
       "\n",
       "   combined_avg  sum_of_individual  \n",
       "0          98.0              75.49  \n",
       "1          83.5              78.40  \n",
       "2          90.0              54.30  \n",
       "3          85.0              78.55  \n",
       "4          85.0              46.30  "
      ]
     },
     "execution_count": 46,
     "metadata": {},
     "output_type": "execute_result"
    }
   ],
   "source": [
    "pak_beautiful4grams.head()"
   ]
  },
  {
   "cell_type": "code",
   "execution_count": 47,
   "metadata": {},
   "outputs": [
    {
     "data": {
      "text/plain": [
       "(4975, 6)"
      ]
     },
     "execution_count": 47,
     "metadata": {},
     "output_type": "execute_result"
    }
   ],
   "source": [
    "pak_beautiful4grams.shape"
   ]
  },
  {
   "cell_type": "code",
   "execution_count": 48,
   "metadata": {},
   "outputs": [],
   "source": [
    "pak_beautiful4grams.to_csv('pak_beautiful4grams.csv')"
   ]
  },
  {
   "cell_type": "code",
   "execution_count": null,
   "metadata": {},
   "outputs": [],
   "source": []
  }
 ],
 "metadata": {
  "kernelspec": {
   "display_name": "Python 3",
   "language": "python",
   "name": "python3"
  },
  "language_info": {
   "codemirror_mode": {
    "name": "ipython",
    "version": 3
   },
   "file_extension": ".py",
   "mimetype": "text/x-python",
   "name": "python",
   "nbconvert_exporter": "python",
   "pygments_lexer": "ipython3",
   "version": "3.8.1"
  }
 },
 "nbformat": 4,
 "nbformat_minor": 4
}
