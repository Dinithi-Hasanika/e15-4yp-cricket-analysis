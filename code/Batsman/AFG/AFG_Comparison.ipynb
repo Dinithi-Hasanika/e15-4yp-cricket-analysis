{
 "cells": [
  {
   "cell_type": "code",
   "execution_count": 1,
   "metadata": {},
   "outputs": [],
   "source": [
    "import numpy as np\n",
    "import pandas as pd\n",
    "import matplotlib.pyplot as plt\n",
    "import seaborn as sns\n",
    "%matplotlib inline"
   ]
  },
  {
   "cell_type": "code",
   "execution_count": 2,
   "metadata": {},
   "outputs": [],
   "source": [
    "#load data file\n",
    "data = pd.read_csv('afg.csv')"
   ]
  },
  {
   "cell_type": "code",
   "execution_count": 3,
   "metadata": {},
   "outputs": [
    {
     "data": {
      "text/html": [
       "<div>\n",
       "<style scoped>\n",
       "    .dataframe tbody tr th:only-of-type {\n",
       "        vertical-align: middle;\n",
       "    }\n",
       "\n",
       "    .dataframe tbody tr th {\n",
       "        vertical-align: top;\n",
       "    }\n",
       "\n",
       "    .dataframe thead th {\n",
       "        text-align: right;\n",
       "    }\n",
       "</style>\n",
       "<table border=\"1\" class=\"dataframe\">\n",
       "  <thead>\n",
       "    <tr style=\"text-align: right;\">\n",
       "      <th></th>\n",
       "      <th>p1</th>\n",
       "      <th>p1-s</th>\n",
       "      <th>p2</th>\n",
       "      <th>p2-s</th>\n",
       "      <th>p3</th>\n",
       "      <th>p3-s</th>\n",
       "      <th>p4</th>\n",
       "      <th>p4-s</th>\n",
       "      <th>p5</th>\n",
       "      <th>p5-s</th>\n",
       "      <th>...</th>\n",
       "      <th>p7</th>\n",
       "      <th>p7-s</th>\n",
       "      <th>p8</th>\n",
       "      <th>p8-s</th>\n",
       "      <th>p9</th>\n",
       "      <th>p9-s</th>\n",
       "      <th>p10</th>\n",
       "      <th>p10-s</th>\n",
       "      <th>p11</th>\n",
       "      <th>p11-s</th>\n",
       "    </tr>\n",
       "  </thead>\n",
       "  <tbody>\n",
       "    <tr>\n",
       "      <th>0</th>\n",
       "      <td>Javed Ahmadi</td>\n",
       "      <td>81</td>\n",
       "      <td>Usman Ghani</td>\n",
       "      <td>1</td>\n",
       "      <td>Afsar Zazai</td>\n",
       "      <td>1</td>\n",
       "      <td>Nasir Jamal</td>\n",
       "      <td>8</td>\n",
       "      <td>Asghar Afghan</td>\n",
       "      <td>8</td>\n",
       "      <td>...</td>\n",
       "      <td>Najibullah Zadran</td>\n",
       "      <td>45</td>\n",
       "      <td>Mirwais Ashraf</td>\n",
       "      <td>12</td>\n",
       "      <td>Dawlat Zadran</td>\n",
       "      <td>11</td>\n",
       "      <td>Hamid Hassan</td>\n",
       "      <td>0</td>\n",
       "      <td>Aftab Alam</td>\n",
       "      <td>0</td>\n",
       "    </tr>\n",
       "    <tr>\n",
       "      <th>1</th>\n",
       "      <td>Javed Ahmadi</td>\n",
       "      <td>13</td>\n",
       "      <td>Usman Ghani</td>\n",
       "      <td>6</td>\n",
       "      <td>Asghar Afghan</td>\n",
       "      <td>44</td>\n",
       "      <td>Samiullah Shinwari</td>\n",
       "      <td>50</td>\n",
       "      <td>Mohammad Nabi</td>\n",
       "      <td>9</td>\n",
       "      <td>...</td>\n",
       "      <td>Afsar Zazai</td>\n",
       "      <td>18</td>\n",
       "      <td>Mirwais Ashraf</td>\n",
       "      <td>5</td>\n",
       "      <td>Dawlat Zadran</td>\n",
       "      <td>2</td>\n",
       "      <td>Aftab Alam</td>\n",
       "      <td>2</td>\n",
       "      <td>Hamid Hassan</td>\n",
       "      <td>0</td>\n",
       "    </tr>\n",
       "    <tr>\n",
       "      <th>2</th>\n",
       "      <td>Javed Ahmadi</td>\n",
       "      <td>1</td>\n",
       "      <td>Afsar Zazai</td>\n",
       "      <td>1</td>\n",
       "      <td>Nawroz Mangal</td>\n",
       "      <td>27</td>\n",
       "      <td>Asghar Afghan</td>\n",
       "      <td>1</td>\n",
       "      <td>Samiullah Shinwari</td>\n",
       "      <td>42</td>\n",
       "      <td>...</td>\n",
       "      <td>Najibullah Zadran</td>\n",
       "      <td>17</td>\n",
       "      <td>Mirwais Ashraf</td>\n",
       "      <td>10</td>\n",
       "      <td>Aftab Alam</td>\n",
       "      <td>14</td>\n",
       "      <td>Hamid Hassan</td>\n",
       "      <td>0</td>\n",
       "      <td>Shapoor Zadran</td>\n",
       "      <td>2</td>\n",
       "    </tr>\n",
       "    <tr>\n",
       "      <th>3</th>\n",
       "      <td>Javed Ahmadi</td>\n",
       "      <td>24</td>\n",
       "      <td>Nawroz Mangal</td>\n",
       "      <td>10</td>\n",
       "      <td>Asghar Afghan</td>\n",
       "      <td>54</td>\n",
       "      <td>Samiullah Shinwari</td>\n",
       "      <td>38</td>\n",
       "      <td>Mohammad Nabi</td>\n",
       "      <td>21</td>\n",
       "      <td>...</td>\n",
       "      <td>Afsar Zazai</td>\n",
       "      <td>19</td>\n",
       "      <td>Mirwais Ashraf</td>\n",
       "      <td>28</td>\n",
       "      <td>Dawlat Zadran</td>\n",
       "      <td>4</td>\n",
       "      <td>Hamid Hassan</td>\n",
       "      <td>0</td>\n",
       "      <td>Shapoor Zadran</td>\n",
       "      <td>1</td>\n",
       "    </tr>\n",
       "    <tr>\n",
       "      <th>4</th>\n",
       "      <td>Javed Ahmadi</td>\n",
       "      <td>13</td>\n",
       "      <td>Usman Ghani</td>\n",
       "      <td>12</td>\n",
       "      <td>Nawroz Mangal</td>\n",
       "      <td>33</td>\n",
       "      <td>Asghar Afghan</td>\n",
       "      <td>4</td>\n",
       "      <td>Samiullah Shinwari</td>\n",
       "      <td>17</td>\n",
       "      <td>...</td>\n",
       "      <td>Najibullah Zadran</td>\n",
       "      <td>24</td>\n",
       "      <td>Afsar Zazai</td>\n",
       "      <td>10</td>\n",
       "      <td>Dawlat Zadran</td>\n",
       "      <td>0</td>\n",
       "      <td>Hamid Hassan</td>\n",
       "      <td>7</td>\n",
       "      <td>Shapoor Zadran</td>\n",
       "      <td>0</td>\n",
       "    </tr>\n",
       "  </tbody>\n",
       "</table>\n",
       "<p>5 rows × 22 columns</p>\n",
       "</div>"
      ],
      "text/plain": [
       "             p1  p1-s             p2  p2-s             p3  p3-s  \\\n",
       "0  Javed Ahmadi    81    Usman Ghani     1    Afsar Zazai     1   \n",
       "1  Javed Ahmadi    13    Usman Ghani     6  Asghar Afghan    44   \n",
       "2  Javed Ahmadi     1    Afsar Zazai     1  Nawroz Mangal    27   \n",
       "3  Javed Ahmadi    24  Nawroz Mangal    10  Asghar Afghan    54   \n",
       "4  Javed Ahmadi    13    Usman Ghani    12  Nawroz Mangal    33   \n",
       "\n",
       "                   p4  p4-s                  p5  p5-s  ...                 p7  \\\n",
       "0         Nasir Jamal     8       Asghar Afghan     8  ...  Najibullah Zadran   \n",
       "1  Samiullah Shinwari    50       Mohammad Nabi     9  ...        Afsar Zazai   \n",
       "2       Asghar Afghan     1  Samiullah Shinwari    42  ...  Najibullah Zadran   \n",
       "3  Samiullah Shinwari    38       Mohammad Nabi    21  ...        Afsar Zazai   \n",
       "4       Asghar Afghan     4  Samiullah Shinwari    17  ...  Najibullah Zadran   \n",
       "\n",
       "   p7-s              p8  p8-s             p9  p9-s           p10  p10-s  \\\n",
       "0    45  Mirwais Ashraf    12  Dawlat Zadran    11  Hamid Hassan      0   \n",
       "1    18  Mirwais Ashraf     5  Dawlat Zadran     2    Aftab Alam      2   \n",
       "2    17  Mirwais Ashraf    10     Aftab Alam    14  Hamid Hassan      0   \n",
       "3    19  Mirwais Ashraf    28  Dawlat Zadran     4  Hamid Hassan      0   \n",
       "4    24     Afsar Zazai    10  Dawlat Zadran     0  Hamid Hassan      7   \n",
       "\n",
       "              p11  p11-s  \n",
       "0      Aftab Alam      0  \n",
       "1    Hamid Hassan      0  \n",
       "2  Shapoor Zadran      2  \n",
       "3  Shapoor Zadran      1  \n",
       "4  Shapoor Zadran      0  \n",
       "\n",
       "[5 rows x 22 columns]"
      ]
     },
     "execution_count": 3,
     "metadata": {},
     "output_type": "execute_result"
    }
   ],
   "source": [
    "data.head()"
   ]
  },
  {
   "cell_type": "code",
   "execution_count": 4,
   "metadata": {},
   "outputs": [],
   "source": [
    "players = ['p1','p2','p3','p4','p5','p6','p7','p8','p9','p10','p11']\n",
    "player_scores = ['p1-s','p2-s','p3-s','p4-s','p5-s','p6-s','p7-s','p8-s','p9-s','p10-s','p11-s']"
   ]
  },
  {
   "cell_type": "code",
   "execution_count": 5,
   "metadata": {},
   "outputs": [],
   "source": [
    "x = set()"
   ]
  },
  {
   "cell_type": "code",
   "execution_count": 6,
   "metadata": {},
   "outputs": [],
   "source": [
    "for i in players:\n",
    "    for j in range(len(data[i].unique())):\n",
    "        x.add(data[i].unique()[j])"
   ]
  },
  {
   "cell_type": "code",
   "execution_count": 7,
   "metadata": {},
   "outputs": [
    {
     "name": "stdout",
     "output_type": "stream",
     "text": [
      "{'Ihsanullah', 'Asghar Afghan', 'Hamid Hassan', 'Rahmat Shah', 'Shabir Noori', 'Sharafuddin Ashraf', 'Gulbadin Naib', 'Usman Ghani', 'Javed Ahmadi', 'Rashid Khan', 'Shapoor Zadran', 'Mohammad Shahzad', 'Dawlat Zadran', 'Najeeb Tarakai', 'Karim Janat', 'Zahir Khan', 'Mirwais Ashraf', 'Fareed Ahmad', 'Mohammad Nabi', 'Hashmatullah Shahidi', 'Najibullah Zadran', 'Rokhan Barakzai', 'Samiullah Shinwari', 'Amir Hamza', 'Yamin Ahmadzai', 'Afsar Zazai', 'Naveen-ul-Haq', 'Ibrahim Zadran', 'Ikram Alikhil', 'Nasir Jamal', 'Nawroz Mangal', 'Karim Sadiq', 'Aftab Alam', 'Mujeeb Ur Rahman', 'Shafiqullah', 'Noor Ali Zadran', 'Hazratullah Zazai', 'Sayed Shirzad'}\n"
     ]
    }
   ],
   "source": [
    "print(x)"
   ]
  },
  {
   "cell_type": "code",
   "execution_count": 8,
   "metadata": {},
   "outputs": [
    {
     "data": {
      "text/plain": [
       "38"
      ]
     },
     "execution_count": 8,
     "metadata": {},
     "output_type": "execute_result"
    }
   ],
   "source": [
    "len(x)"
   ]
  },
  {
   "cell_type": "code",
   "execution_count": 9,
   "metadata": {},
   "outputs": [
    {
     "name": "stdout",
     "output_type": "stream",
     "text": [
      "['Ihsanullah', 'Asghar Afghan', 'Hamid Hassan', 'Rahmat Shah', 'Shabir Noori', 'Sharafuddin Ashraf', 'Gulbadin Naib', 'Usman Ghani', 'Javed Ahmadi', 'Rashid Khan', 'Shapoor Zadran', 'Mohammad Shahzad', 'Dawlat Zadran', 'Najeeb Tarakai', 'Karim Janat', 'Zahir Khan', 'Mirwais Ashraf', 'Fareed Ahmad', 'Mohammad Nabi', 'Hashmatullah Shahidi', 'Najibullah Zadran', 'Rokhan Barakzai', 'Samiullah Shinwari', 'Amir Hamza', 'Yamin Ahmadzai', 'Afsar Zazai', 'Naveen-ul-Haq', 'Ibrahim Zadran', 'Ikram Alikhil', 'Nasir Jamal', 'Nawroz Mangal', 'Karim Sadiq', 'Aftab Alam', 'Mujeeb Ur Rahman', 'Shafiqullah', 'Noor Ali Zadran', 'Hazratullah Zazai', 'Sayed Shirzad']\n"
     ]
    }
   ],
   "source": [
    "unique_list = list(x)\n",
    "print(unique_list)    "
   ]
  },
  {
   "cell_type": "code",
   "execution_count": 10,
   "metadata": {},
   "outputs": [],
   "source": [
    "column_names = [\"player_name\", \"sum\", \"avg\"]\n",
    "\n",
    "result = pd.DataFrame(columns = column_names)"
   ]
  },
  {
   "cell_type": "code",
   "execution_count": 11,
   "metadata": {},
   "outputs": [
    {
     "name": "stdout",
     "output_type": "stream",
     "text": [
      "Ihsanullah  : sum= 287  , count= 14  , average= 20.5\n",
      "Asghar Afghan  : sum= 1513  , count= 67  , average= 22.58\n",
      "Hamid Hassan  : sum= 44  , count= 13  , average= 3.38\n",
      "Rahmat Shah  : sum= 1897  , count= 56  , average= 33.88\n",
      "Shabir Noori  : sum= 9  , count= 1  , average= 9.0\n",
      "Sharafuddin Ashraf  : sum= 41  , count= 8  , average= 5.12\n",
      "Gulbadin Naib  : sum= 786  , count= 44  , average= 17.86\n",
      "Usman Ghani  : sum= 22  , count= 5  , average= 4.4\n",
      "Javed Ahmadi  : sum= 489  , count= 20  , average= 24.45\n",
      "Rashid Khan  : sum= 868  , count= 63  , average= 13.78\n",
      "Shapoor Zadran  : sum= 14  , count= 12  , average= 1.17\n",
      "Mohammad Shahzad  : sum= 1521  , count= 49  , average= 31.04\n",
      "Dawlat Zadran  : sum= 321  , count= 51  , average= 6.29\n",
      "Najeeb Tarakai  : sum= 5  , count= 1  , average= 5.0\n",
      "Karim Janat  : sum= 9  , count= 1  , average= 9.0\n",
      "Zahir Khan  : sum= 0  , count= 1  , average= 0.0\n",
      "Mirwais Ashraf  : sum= 175  , count= 18  , average= 9.72\n",
      "Fareed Ahmad  : sum= 1  , count= 3  , average= 0.33\n",
      "Mohammad Nabi  : sum= 1485  , count= 72  , average= 20.62\n",
      "Hashmatullah Shahidi  : sum= 871  , count= 30  , average= 29.03\n",
      "Najibullah Zadran  : sum= 1238  , count= 51  , average= 24.27\n",
      "Rokhan Barakzai  : sum= 0  , count= 1  , average= 0.0\n",
      "Samiullah Shinwari  : sum= 736  , count= 38  , average= 19.37\n",
      "Amir Hamza  : sum= 19  , count= 19  , average= 1.0\n",
      "Yamin Ahmadzai  : sum= 3  , count= 4  , average= 0.75\n",
      "Afsar Zazai  : sum= 77  , count= 9  , average= 8.56\n",
      "Naveen-ul-Haq  : sum= 9  , count= 4  , average= 2.25\n",
      "Ibrahim Zadran  : sum= 2  , count= 1  , average= 2.0\n",
      "Ikram Alikhil  : sum= 229  , count= 11  , average= 20.82\n",
      "Nasir Jamal  : sum= 218  , count= 11  , average= 19.82\n",
      "Nawroz Mangal  : sum= 172  , count= 14  , average= 12.29\n",
      "Karim Sadiq  : sum= 5  , count= 1  , average= 5.0\n",
      "Aftab Alam  : sum= 70  , count= 20  , average= 3.5\n",
      "Mujeeb Ur Rahman  : sum= 68  , count= 35  , average= 1.94\n",
      "Shafiqullah  : sum= 251  , count= 14  , average= 17.93\n",
      "Noor Ali Zadran  : sum= 615  , count= 26  , average= 23.65\n",
      "Hazratullah Zazai  : sum= 280  , count= 14  , average= 20.0\n",
      "Sayed Shirzad  : sum= 25  , count= 1  , average= 25.0\n",
      "{'Ihsanullah': 20.5, 'Asghar Afghan': 22.58, 'Hamid Hassan': 3.38, 'Rahmat Shah': 33.88, 'Shabir Noori': 9.0, 'Sharafuddin Ashraf': 5.12, 'Gulbadin Naib': 17.86, 'Usman Ghani': 4.4, 'Javed Ahmadi': 24.45, 'Rashid Khan': 13.78, 'Shapoor Zadran': 1.17, 'Mohammad Shahzad': 31.04, 'Dawlat Zadran': 6.29, 'Najeeb Tarakai': 5.0, 'Karim Janat': 9.0, 'Zahir Khan': 0.0, 'Mirwais Ashraf': 9.72, 'Fareed Ahmad': 0.33, 'Mohammad Nabi': 20.62, 'Hashmatullah Shahidi': 29.03, 'Najibullah Zadran': 24.27, 'Rokhan Barakzai': 0.0, 'Samiullah Shinwari': 19.37, 'Amir Hamza': 1.0, 'Yamin Ahmadzai': 0.75, 'Afsar Zazai': 8.56, 'Naveen-ul-Haq': 2.25, 'Ibrahim Zadran': 2.0, 'Ikram Alikhil': 20.82, 'Nasir Jamal': 19.82, 'Nawroz Mangal': 12.29, 'Karim Sadiq': 5.0, 'Aftab Alam': 3.5, 'Mujeeb Ur Rahman': 1.94, 'Shafiqullah': 17.93, 'Noor Ali Zadran': 23.65, 'Hazratullah Zazai': 20.0, 'Sayed Shirzad': 25.0}\n"
     ]
    }
   ],
   "source": [
    "dictionary = dict()\n",
    "\n",
    "for indx, name in enumerate(unique_list):\n",
    "    count = 0\n",
    "    sum = 0\n",
    "    for index, row in data.iterrows():\n",
    "        for ind, p in enumerate(players):\n",
    "                if(data.iloc[index][p] == name ):\n",
    "#                     print(name)\n",
    "                    sum = sum + data.iloc[index][player_scores[ind]] \n",
    "                    count += 1\n",
    "    avg = round((sum/count),2)\n",
    "    print(name,\" : sum=\",sum,\" , count=\",count,\" , average=\",round(avg,2))    \n",
    "    dictionary[name] = avg\n",
    "    result = result.append({'player_name':name, 'sum':sum, 'avg':avg}, ignore_index=True)\n",
    "    \n",
    "print(dictionary)"
   ]
  },
  {
   "cell_type": "code",
   "execution_count": 12,
   "metadata": {},
   "outputs": [],
   "source": [
    "# 2 grams - find beautiful combinations"
   ]
  },
  {
   "cell_type": "code",
   "execution_count": 13,
   "metadata": {},
   "outputs": [],
   "source": [
    "#load data file\n",
    "data2grams = pd.read_csv('afg2grams.csv')"
   ]
  },
  {
   "cell_type": "code",
   "execution_count": 14,
   "metadata": {},
   "outputs": [
    {
     "data": {
      "text/html": [
       "<div>\n",
       "<style scoped>\n",
       "    .dataframe tbody tr th:only-of-type {\n",
       "        vertical-align: middle;\n",
       "    }\n",
       "\n",
       "    .dataframe tbody tr th {\n",
       "        vertical-align: top;\n",
       "    }\n",
       "\n",
       "    .dataframe thead th {\n",
       "        text-align: right;\n",
       "    }\n",
       "</style>\n",
       "<table border=\"1\" class=\"dataframe\">\n",
       "  <thead>\n",
       "    <tr style=\"text-align: right;\">\n",
       "      <th></th>\n",
       "      <th>player-1</th>\n",
       "      <th>player-2</th>\n",
       "      <th>avg</th>\n",
       "    </tr>\n",
       "  </thead>\n",
       "  <tbody>\n",
       "    <tr>\n",
       "      <th>0</th>\n",
       "      <td>Najeeb Tarakai</td>\n",
       "      <td>Mirwais Ashraf</td>\n",
       "      <td>0.0</td>\n",
       "    </tr>\n",
       "    <tr>\n",
       "      <th>1</th>\n",
       "      <td>Najeeb Tarakai</td>\n",
       "      <td>Zahir Khan</td>\n",
       "      <td>0.0</td>\n",
       "    </tr>\n",
       "    <tr>\n",
       "      <th>2</th>\n",
       "      <td>Najeeb Tarakai</td>\n",
       "      <td>Najibullah Zadran</td>\n",
       "      <td>0.0</td>\n",
       "    </tr>\n",
       "    <tr>\n",
       "      <th>3</th>\n",
       "      <td>Najeeb Tarakai</td>\n",
       "      <td>Karim Sadiq</td>\n",
       "      <td>0.0</td>\n",
       "    </tr>\n",
       "    <tr>\n",
       "      <th>4</th>\n",
       "      <td>Najeeb Tarakai</td>\n",
       "      <td>Rokhan Barakzai</td>\n",
       "      <td>0.0</td>\n",
       "    </tr>\n",
       "  </tbody>\n",
       "</table>\n",
       "</div>"
      ],
      "text/plain": [
       "         player-1           player-2  avg\n",
       "0  Najeeb Tarakai     Mirwais Ashraf  0.0\n",
       "1  Najeeb Tarakai         Zahir Khan  0.0\n",
       "2  Najeeb Tarakai  Najibullah Zadran  0.0\n",
       "3  Najeeb Tarakai        Karim Sadiq  0.0\n",
       "4  Najeeb Tarakai    Rokhan Barakzai  0.0"
      ]
     },
     "execution_count": 14,
     "metadata": {},
     "output_type": "execute_result"
    }
   ],
   "source": [
    "data2grams.head()"
   ]
  },
  {
   "cell_type": "code",
   "execution_count": 15,
   "metadata": {},
   "outputs": [
    {
     "data": {
      "text/plain": [
       "(703, 3)"
      ]
     },
     "execution_count": 15,
     "metadata": {},
     "output_type": "execute_result"
    }
   ],
   "source": [
    "data2grams.shape"
   ]
  },
  {
   "cell_type": "code",
   "execution_count": 16,
   "metadata": {},
   "outputs": [],
   "source": [
    "data2grams = data2grams[data2grams.avg != 0.0]"
   ]
  },
  {
   "cell_type": "code",
   "execution_count": 17,
   "metadata": {},
   "outputs": [
    {
     "data": {
      "text/html": [
       "<div>\n",
       "<style scoped>\n",
       "    .dataframe tbody tr th:only-of-type {\n",
       "        vertical-align: middle;\n",
       "    }\n",
       "\n",
       "    .dataframe tbody tr th {\n",
       "        vertical-align: top;\n",
       "    }\n",
       "\n",
       "    .dataframe thead th {\n",
       "        text-align: right;\n",
       "    }\n",
       "</style>\n",
       "<table border=\"1\" class=\"dataframe\">\n",
       "  <thead>\n",
       "    <tr style=\"text-align: right;\">\n",
       "      <th></th>\n",
       "      <th>player-1</th>\n",
       "      <th>player-2</th>\n",
       "      <th>avg</th>\n",
       "    </tr>\n",
       "  </thead>\n",
       "  <tbody>\n",
       "    <tr>\n",
       "      <th>10</th>\n",
       "      <td>Najeeb Tarakai</td>\n",
       "      <td>Fareed Ahmad</td>\n",
       "      <td>5.0</td>\n",
       "    </tr>\n",
       "    <tr>\n",
       "      <th>12</th>\n",
       "      <td>Najeeb Tarakai</td>\n",
       "      <td>Samiullah Shinwari</td>\n",
       "      <td>67.0</td>\n",
       "    </tr>\n",
       "    <tr>\n",
       "      <th>13</th>\n",
       "      <td>Najeeb Tarakai</td>\n",
       "      <td>Asghar Afghan</td>\n",
       "      <td>44.0</td>\n",
       "    </tr>\n",
       "    <tr>\n",
       "      <th>19</th>\n",
       "      <td>Najeeb Tarakai</td>\n",
       "      <td>Rashid Khan</td>\n",
       "      <td>5.0</td>\n",
       "    </tr>\n",
       "    <tr>\n",
       "      <th>20</th>\n",
       "      <td>Najeeb Tarakai</td>\n",
       "      <td>Rahmat Shah</td>\n",
       "      <td>113.0</td>\n",
       "    </tr>\n",
       "  </tbody>\n",
       "</table>\n",
       "</div>"
      ],
      "text/plain": [
       "          player-1            player-2    avg\n",
       "10  Najeeb Tarakai        Fareed Ahmad    5.0\n",
       "12  Najeeb Tarakai  Samiullah Shinwari   67.0\n",
       "13  Najeeb Tarakai       Asghar Afghan   44.0\n",
       "19  Najeeb Tarakai         Rashid Khan    5.0\n",
       "20  Najeeb Tarakai         Rahmat Shah  113.0"
      ]
     },
     "execution_count": 17,
     "metadata": {},
     "output_type": "execute_result"
    }
   ],
   "source": [
    "data2grams.head()"
   ]
  },
  {
   "cell_type": "code",
   "execution_count": 18,
   "metadata": {},
   "outputs": [
    {
     "data": {
      "text/plain": [
       "(421, 3)"
      ]
     },
     "execution_count": 18,
     "metadata": {},
     "output_type": "execute_result"
    }
   ],
   "source": [
    "data2grams.shape"
   ]
  },
  {
   "cell_type": "code",
   "execution_count": 19,
   "metadata": {},
   "outputs": [],
   "source": [
    "data2grams = data2grams.reset_index(drop=True)"
   ]
  },
  {
   "cell_type": "code",
   "execution_count": 20,
   "metadata": {},
   "outputs": [],
   "source": [
    "new_column_names = [\"player-1\", \"player-2\", \"combined_avg\",\"sum_of_individual\"]\n",
    "\n",
    "afg_beautiful2grams = pd.DataFrame(columns = new_column_names)"
   ]
  },
  {
   "cell_type": "code",
   "execution_count": 21,
   "metadata": {},
   "outputs": [],
   "source": [
    "for index, row in data2grams.iterrows():\n",
    "    player1 = data2grams.iloc[index]['player-1']\n",
    "    player2 = data2grams.iloc[index]['player-2']\n",
    "    combined = data2grams.iloc[index]['avg']\n",
    "    individual_avg_sum = dictionary.get(player1)+dictionary.get(player2)\n",
    "    if(combined > individual_avg_sum):\n",
    "        afg_beautiful2grams = afg_beautiful2grams.append({'player-1':player1, 'player-2':player2, 'combined_avg': combined, 'sum_of_individual':individual_avg_sum}, ignore_index=True)"
   ]
  },
  {
   "cell_type": "code",
   "execution_count": 22,
   "metadata": {},
   "outputs": [
    {
     "data": {
      "text/html": [
       "<div>\n",
       "<style scoped>\n",
       "    .dataframe tbody tr th:only-of-type {\n",
       "        vertical-align: middle;\n",
       "    }\n",
       "\n",
       "    .dataframe tbody tr th {\n",
       "        vertical-align: top;\n",
       "    }\n",
       "\n",
       "    .dataframe thead th {\n",
       "        text-align: right;\n",
       "    }\n",
       "</style>\n",
       "<table border=\"1\" class=\"dataframe\">\n",
       "  <thead>\n",
       "    <tr style=\"text-align: right;\">\n",
       "      <th></th>\n",
       "      <th>player-1</th>\n",
       "      <th>player-2</th>\n",
       "      <th>combined_avg</th>\n",
       "      <th>sum_of_individual</th>\n",
       "    </tr>\n",
       "  </thead>\n",
       "  <tbody>\n",
       "    <tr>\n",
       "      <th>0</th>\n",
       "      <td>Najeeb Tarakai</td>\n",
       "      <td>Samiullah Shinwari</td>\n",
       "      <td>67.000000</td>\n",
       "      <td>24.37</td>\n",
       "    </tr>\n",
       "    <tr>\n",
       "      <th>1</th>\n",
       "      <td>Najeeb Tarakai</td>\n",
       "      <td>Asghar Afghan</td>\n",
       "      <td>44.000000</td>\n",
       "      <td>27.58</td>\n",
       "    </tr>\n",
       "    <tr>\n",
       "      <th>2</th>\n",
       "      <td>Najeeb Tarakai</td>\n",
       "      <td>Rahmat Shah</td>\n",
       "      <td>113.000000</td>\n",
       "      <td>38.88</td>\n",
       "    </tr>\n",
       "    <tr>\n",
       "      <th>3</th>\n",
       "      <td>Mirwais Ashraf</td>\n",
       "      <td>Najibullah Zadran</td>\n",
       "      <td>36.928571</td>\n",
       "      <td>33.99</td>\n",
       "    </tr>\n",
       "    <tr>\n",
       "      <th>4</th>\n",
       "      <td>Mirwais Ashraf</td>\n",
       "      <td>Karim Sadiq</td>\n",
       "      <td>23.000000</td>\n",
       "      <td>14.72</td>\n",
       "    </tr>\n",
       "  </tbody>\n",
       "</table>\n",
       "</div>"
      ],
      "text/plain": [
       "         player-1            player-2  combined_avg  sum_of_individual\n",
       "0  Najeeb Tarakai  Samiullah Shinwari     67.000000              24.37\n",
       "1  Najeeb Tarakai       Asghar Afghan     44.000000              27.58\n",
       "2  Najeeb Tarakai         Rahmat Shah    113.000000              38.88\n",
       "3  Mirwais Ashraf   Najibullah Zadran     36.928571              33.99\n",
       "4  Mirwais Ashraf         Karim Sadiq     23.000000              14.72"
      ]
     },
     "execution_count": 22,
     "metadata": {},
     "output_type": "execute_result"
    }
   ],
   "source": [
    "afg_beautiful2grams.head()"
   ]
  },
  {
   "cell_type": "code",
   "execution_count": 23,
   "metadata": {},
   "outputs": [
    {
     "data": {
      "text/plain": [
       "(192, 4)"
      ]
     },
     "execution_count": 23,
     "metadata": {},
     "output_type": "execute_result"
    }
   ],
   "source": [
    "afg_beautiful2grams.shape"
   ]
  },
  {
   "cell_type": "code",
   "execution_count": 24,
   "metadata": {},
   "outputs": [],
   "source": [
    "afg_beautiful2grams.to_csv('afg_beautiful2grams.csv')"
   ]
  },
  {
   "cell_type": "code",
   "execution_count": 25,
   "metadata": {},
   "outputs": [],
   "source": [
    "# 3 grams - find beautiful combinations"
   ]
  },
  {
   "cell_type": "code",
   "execution_count": 26,
   "metadata": {},
   "outputs": [],
   "source": [
    "#load data file\n",
    "data3grams = pd.read_csv('afg3grams.csv')"
   ]
  },
  {
   "cell_type": "code",
   "execution_count": 27,
   "metadata": {},
   "outputs": [
    {
     "data": {
      "text/html": [
       "<div>\n",
       "<style scoped>\n",
       "    .dataframe tbody tr th:only-of-type {\n",
       "        vertical-align: middle;\n",
       "    }\n",
       "\n",
       "    .dataframe tbody tr th {\n",
       "        vertical-align: top;\n",
       "    }\n",
       "\n",
       "    .dataframe thead th {\n",
       "        text-align: right;\n",
       "    }\n",
       "</style>\n",
       "<table border=\"1\" class=\"dataframe\">\n",
       "  <thead>\n",
       "    <tr style=\"text-align: right;\">\n",
       "      <th></th>\n",
       "      <th>player-1</th>\n",
       "      <th>player-2</th>\n",
       "      <th>player-3</th>\n",
       "      <th>avg</th>\n",
       "    </tr>\n",
       "  </thead>\n",
       "  <tbody>\n",
       "    <tr>\n",
       "      <th>0</th>\n",
       "      <td>Najeeb Tarakai</td>\n",
       "      <td>Mirwais Ashraf</td>\n",
       "      <td>Zahir Khan</td>\n",
       "      <td>0.0</td>\n",
       "    </tr>\n",
       "    <tr>\n",
       "      <th>1</th>\n",
       "      <td>Najeeb Tarakai</td>\n",
       "      <td>Mirwais Ashraf</td>\n",
       "      <td>Najibullah Zadran</td>\n",
       "      <td>0.0</td>\n",
       "    </tr>\n",
       "    <tr>\n",
       "      <th>2</th>\n",
       "      <td>Najeeb Tarakai</td>\n",
       "      <td>Mirwais Ashraf</td>\n",
       "      <td>Karim Sadiq</td>\n",
       "      <td>0.0</td>\n",
       "    </tr>\n",
       "    <tr>\n",
       "      <th>3</th>\n",
       "      <td>Najeeb Tarakai</td>\n",
       "      <td>Mirwais Ashraf</td>\n",
       "      <td>Rokhan Barakzai</td>\n",
       "      <td>0.0</td>\n",
       "    </tr>\n",
       "    <tr>\n",
       "      <th>4</th>\n",
       "      <td>Najeeb Tarakai</td>\n",
       "      <td>Shabir Noori</td>\n",
       "      <td>Mirwais Ashraf</td>\n",
       "      <td>0.0</td>\n",
       "    </tr>\n",
       "  </tbody>\n",
       "</table>\n",
       "</div>"
      ],
      "text/plain": [
       "         player-1        player-2           player-3  avg\n",
       "0  Najeeb Tarakai  Mirwais Ashraf         Zahir Khan  0.0\n",
       "1  Najeeb Tarakai  Mirwais Ashraf  Najibullah Zadran  0.0\n",
       "2  Najeeb Tarakai  Mirwais Ashraf        Karim Sadiq  0.0\n",
       "3  Najeeb Tarakai  Mirwais Ashraf    Rokhan Barakzai  0.0\n",
       "4  Najeeb Tarakai    Shabir Noori     Mirwais Ashraf  0.0"
      ]
     },
     "execution_count": 27,
     "metadata": {},
     "output_type": "execute_result"
    }
   ],
   "source": [
    "data3grams.head()"
   ]
  },
  {
   "cell_type": "code",
   "execution_count": 28,
   "metadata": {},
   "outputs": [
    {
     "data": {
      "text/plain": [
       "(8436, 4)"
      ]
     },
     "execution_count": 28,
     "metadata": {},
     "output_type": "execute_result"
    }
   ],
   "source": [
    "data3grams.shape"
   ]
  },
  {
   "cell_type": "code",
   "execution_count": 29,
   "metadata": {},
   "outputs": [],
   "source": [
    "data3grams = data3grams[data3grams.avg != 0.0]"
   ]
  },
  {
   "cell_type": "code",
   "execution_count": 30,
   "metadata": {},
   "outputs": [
    {
     "data": {
      "text/plain": [
       "(2286, 4)"
      ]
     },
     "execution_count": 30,
     "metadata": {},
     "output_type": "execute_result"
    }
   ],
   "source": [
    "data3grams.shape"
   ]
  },
  {
   "cell_type": "code",
   "execution_count": 31,
   "metadata": {},
   "outputs": [],
   "source": [
    "data3grams = data3grams.reset_index(drop=True)"
   ]
  },
  {
   "cell_type": "code",
   "execution_count": 32,
   "metadata": {},
   "outputs": [],
   "source": [
    "new_column_names = [\"player-1\", \"player-2\", \"player-3\", \"combined_avg\",\"sum_of_individual\"]\n",
    "\n",
    "afg_beautiful3grams = pd.DataFrame(columns = new_column_names)"
   ]
  },
  {
   "cell_type": "code",
   "execution_count": 33,
   "metadata": {},
   "outputs": [],
   "source": [
    "for index, row in data3grams.iterrows():\n",
    "    player1 = data3grams.iloc[index]['player-1']\n",
    "    player2 = data3grams.iloc[index]['player-2']\n",
    "    player3 = data3grams.iloc[index]['player-3']\n",
    "    combined = data3grams.iloc[index]['avg']\n",
    "    individual_avg_sum = dictionary.get(player1)+dictionary.get(player2)+dictionary.get(player3)\n",
    "    if(combined > individual_avg_sum):\n",
    "        afg_beautiful3grams = afg_beautiful3grams.append({'player-1':player1, 'player-2':player2,'player-3':player3, 'combined_avg': combined, 'sum_of_individual':individual_avg_sum}, ignore_index=True)"
   ]
  },
  {
   "cell_type": "code",
   "execution_count": 34,
   "metadata": {},
   "outputs": [
    {
     "data": {
      "text/html": [
       "<div>\n",
       "<style scoped>\n",
       "    .dataframe tbody tr th:only-of-type {\n",
       "        vertical-align: middle;\n",
       "    }\n",
       "\n",
       "    .dataframe tbody tr th {\n",
       "        vertical-align: top;\n",
       "    }\n",
       "\n",
       "    .dataframe thead th {\n",
       "        text-align: right;\n",
       "    }\n",
       "</style>\n",
       "<table border=\"1\" class=\"dataframe\">\n",
       "  <thead>\n",
       "    <tr style=\"text-align: right;\">\n",
       "      <th></th>\n",
       "      <th>player-1</th>\n",
       "      <th>player-2</th>\n",
       "      <th>player-3</th>\n",
       "      <th>combined_avg</th>\n",
       "      <th>sum_of_individual</th>\n",
       "    </tr>\n",
       "  </thead>\n",
       "  <tbody>\n",
       "    <tr>\n",
       "      <th>0</th>\n",
       "      <td>Najeeb Tarakai</td>\n",
       "      <td>Fareed Ahmad</td>\n",
       "      <td>Samiullah Shinwari</td>\n",
       "      <td>67.0</td>\n",
       "      <td>24.70</td>\n",
       "    </tr>\n",
       "    <tr>\n",
       "      <th>1</th>\n",
       "      <td>Najeeb Tarakai</td>\n",
       "      <td>Fareed Ahmad</td>\n",
       "      <td>Asghar Afghan</td>\n",
       "      <td>44.0</td>\n",
       "      <td>27.91</td>\n",
       "    </tr>\n",
       "    <tr>\n",
       "      <th>2</th>\n",
       "      <td>Najeeb Tarakai</td>\n",
       "      <td>Fareed Ahmad</td>\n",
       "      <td>Rahmat Shah</td>\n",
       "      <td>113.0</td>\n",
       "      <td>39.21</td>\n",
       "    </tr>\n",
       "    <tr>\n",
       "      <th>3</th>\n",
       "      <td>Najeeb Tarakai</td>\n",
       "      <td>Samiullah Shinwari</td>\n",
       "      <td>Asghar Afghan</td>\n",
       "      <td>106.0</td>\n",
       "      <td>46.95</td>\n",
       "    </tr>\n",
       "    <tr>\n",
       "      <th>4</th>\n",
       "      <td>Najeeb Tarakai</td>\n",
       "      <td>Samiullah Shinwari</td>\n",
       "      <td>Rashid Khan</td>\n",
       "      <td>67.0</td>\n",
       "      <td>38.15</td>\n",
       "    </tr>\n",
       "  </tbody>\n",
       "</table>\n",
       "</div>"
      ],
      "text/plain": [
       "         player-1            player-2            player-3  combined_avg  \\\n",
       "0  Najeeb Tarakai        Fareed Ahmad  Samiullah Shinwari          67.0   \n",
       "1  Najeeb Tarakai        Fareed Ahmad       Asghar Afghan          44.0   \n",
       "2  Najeeb Tarakai        Fareed Ahmad         Rahmat Shah         113.0   \n",
       "3  Najeeb Tarakai  Samiullah Shinwari       Asghar Afghan         106.0   \n",
       "4  Najeeb Tarakai  Samiullah Shinwari         Rashid Khan          67.0   \n",
       "\n",
       "   sum_of_individual  \n",
       "0              24.70  \n",
       "1              27.91  \n",
       "2              39.21  \n",
       "3              46.95  \n",
       "4              38.15  "
      ]
     },
     "execution_count": 34,
     "metadata": {},
     "output_type": "execute_result"
    }
   ],
   "source": [
    "afg_beautiful3grams.head()"
   ]
  },
  {
   "cell_type": "code",
   "execution_count": 35,
   "metadata": {},
   "outputs": [
    {
     "data": {
      "text/plain": [
       "(1025, 5)"
      ]
     },
     "execution_count": 35,
     "metadata": {},
     "output_type": "execute_result"
    }
   ],
   "source": [
    "afg_beautiful3grams.shape"
   ]
  },
  {
   "cell_type": "code",
   "execution_count": 36,
   "metadata": {},
   "outputs": [],
   "source": [
    "afg_beautiful3grams.to_csv('afg_beautiful3grams.csv')"
   ]
  },
  {
   "cell_type": "code",
   "execution_count": 37,
   "metadata": {},
   "outputs": [],
   "source": [
    "# 4 grams - find beautiful combinations"
   ]
  },
  {
   "cell_type": "code",
   "execution_count": 38,
   "metadata": {},
   "outputs": [],
   "source": [
    "#load data file\n",
    "data4grams = pd.read_csv('afg4grams.csv')"
   ]
  },
  {
   "cell_type": "code",
   "execution_count": 39,
   "metadata": {},
   "outputs": [
    {
     "data": {
      "text/html": [
       "<div>\n",
       "<style scoped>\n",
       "    .dataframe tbody tr th:only-of-type {\n",
       "        vertical-align: middle;\n",
       "    }\n",
       "\n",
       "    .dataframe tbody tr th {\n",
       "        vertical-align: top;\n",
       "    }\n",
       "\n",
       "    .dataframe thead th {\n",
       "        text-align: right;\n",
       "    }\n",
       "</style>\n",
       "<table border=\"1\" class=\"dataframe\">\n",
       "  <thead>\n",
       "    <tr style=\"text-align: right;\">\n",
       "      <th></th>\n",
       "      <th>player-1</th>\n",
       "      <th>player-2</th>\n",
       "      <th>player-3</th>\n",
       "      <th>player-4</th>\n",
       "      <th>avg</th>\n",
       "    </tr>\n",
       "  </thead>\n",
       "  <tbody>\n",
       "    <tr>\n",
       "      <th>0</th>\n",
       "      <td>Najeeb Tarakai</td>\n",
       "      <td>Mirwais Ashraf</td>\n",
       "      <td>Zahir Khan</td>\n",
       "      <td>Najibullah Zadran</td>\n",
       "      <td>0.0</td>\n",
       "    </tr>\n",
       "    <tr>\n",
       "      <th>1</th>\n",
       "      <td>Najeeb Tarakai</td>\n",
       "      <td>Karim Sadiq</td>\n",
       "      <td>Mirwais Ashraf</td>\n",
       "      <td>Zahir Khan</td>\n",
       "      <td>0.0</td>\n",
       "    </tr>\n",
       "    <tr>\n",
       "      <th>2</th>\n",
       "      <td>Najeeb Tarakai</td>\n",
       "      <td>Mirwais Ashraf</td>\n",
       "      <td>Zahir Khan</td>\n",
       "      <td>Rokhan Barakzai</td>\n",
       "      <td>0.0</td>\n",
       "    </tr>\n",
       "    <tr>\n",
       "      <th>3</th>\n",
       "      <td>Najeeb Tarakai</td>\n",
       "      <td>Shabir Noori</td>\n",
       "      <td>Mirwais Ashraf</td>\n",
       "      <td>Zahir Khan</td>\n",
       "      <td>0.0</td>\n",
       "    </tr>\n",
       "    <tr>\n",
       "      <th>4</th>\n",
       "      <td>Najeeb Tarakai</td>\n",
       "      <td>Afsar Zazai</td>\n",
       "      <td>Mirwais Ashraf</td>\n",
       "      <td>Zahir Khan</td>\n",
       "      <td>0.0</td>\n",
       "    </tr>\n",
       "  </tbody>\n",
       "</table>\n",
       "</div>"
      ],
      "text/plain": [
       "         player-1        player-2        player-3           player-4  avg\n",
       "0  Najeeb Tarakai  Mirwais Ashraf      Zahir Khan  Najibullah Zadran  0.0\n",
       "1  Najeeb Tarakai     Karim Sadiq  Mirwais Ashraf         Zahir Khan  0.0\n",
       "2  Najeeb Tarakai  Mirwais Ashraf      Zahir Khan    Rokhan Barakzai  0.0\n",
       "3  Najeeb Tarakai    Shabir Noori  Mirwais Ashraf         Zahir Khan  0.0\n",
       "4  Najeeb Tarakai     Afsar Zazai  Mirwais Ashraf         Zahir Khan  0.0"
      ]
     },
     "execution_count": 39,
     "metadata": {},
     "output_type": "execute_result"
    }
   ],
   "source": [
    "data4grams.head()"
   ]
  },
  {
   "cell_type": "code",
   "execution_count": 40,
   "metadata": {},
   "outputs": [
    {
     "data": {
      "text/plain": [
       "(73815, 5)"
      ]
     },
     "execution_count": 40,
     "metadata": {},
     "output_type": "execute_result"
    }
   ],
   "source": [
    "data4grams.shape"
   ]
  },
  {
   "cell_type": "code",
   "execution_count": 41,
   "metadata": {},
   "outputs": [],
   "source": [
    "data4grams = data4grams[data4grams.avg != 0.0]"
   ]
  },
  {
   "cell_type": "code",
   "execution_count": 42,
   "metadata": {},
   "outputs": [
    {
     "data": {
      "text/plain": [
       "(6956, 5)"
      ]
     },
     "execution_count": 42,
     "metadata": {},
     "output_type": "execute_result"
    }
   ],
   "source": [
    "data4grams.shape"
   ]
  },
  {
   "cell_type": "code",
   "execution_count": 43,
   "metadata": {},
   "outputs": [],
   "source": [
    "data4grams = data4grams.reset_index(drop=True)"
   ]
  },
  {
   "cell_type": "code",
   "execution_count": 44,
   "metadata": {},
   "outputs": [],
   "source": [
    "new_column_names = [\"player-1\", \"player-2\", \"player-3\", \"player-4\", \"combined_avg\",\"sum_of_individual\"]\n",
    "\n",
    "afg_beautiful4grams = pd.DataFrame(columns = new_column_names)"
   ]
  },
  {
   "cell_type": "code",
   "execution_count": 45,
   "metadata": {},
   "outputs": [],
   "source": [
    "for index, row in data4grams.iterrows():\n",
    "    player1 = data4grams.iloc[index]['player-1']\n",
    "    player2 = data4grams.iloc[index]['player-2']\n",
    "    player3 = data4grams.iloc[index]['player-3']\n",
    "    player4 = data4grams.iloc[index]['player-4']\n",
    "    combined = data4grams.iloc[index]['avg']\n",
    "    individual_avg_sum = dictionary.get(player1)+dictionary.get(player2)+dictionary.get(player3)+dictionary.get(player4)\n",
    "    if(combined > individual_avg_sum):\n",
    "        afg_beautiful4grams = afg_beautiful4grams.append({'player-1':player1, 'player-2':player2,'player-3':player3, 'player-4':player4,'combined_avg': combined, 'sum_of_individual':individual_avg_sum}, ignore_index=True)"
   ]
  },
  {
   "cell_type": "code",
   "execution_count": 46,
   "metadata": {},
   "outputs": [
    {
     "data": {
      "text/html": [
       "<div>\n",
       "<style scoped>\n",
       "    .dataframe tbody tr th:only-of-type {\n",
       "        vertical-align: middle;\n",
       "    }\n",
       "\n",
       "    .dataframe tbody tr th {\n",
       "        vertical-align: top;\n",
       "    }\n",
       "\n",
       "    .dataframe thead th {\n",
       "        text-align: right;\n",
       "    }\n",
       "</style>\n",
       "<table border=\"1\" class=\"dataframe\">\n",
       "  <thead>\n",
       "    <tr style=\"text-align: right;\">\n",
       "      <th></th>\n",
       "      <th>player-1</th>\n",
       "      <th>player-2</th>\n",
       "      <th>player-3</th>\n",
       "      <th>player-4</th>\n",
       "      <th>combined_avg</th>\n",
       "      <th>sum_of_individual</th>\n",
       "    </tr>\n",
       "  </thead>\n",
       "  <tbody>\n",
       "    <tr>\n",
       "      <th>0</th>\n",
       "      <td>Najeeb Tarakai</td>\n",
       "      <td>Fareed Ahmad</td>\n",
       "      <td>Samiullah Shinwari</td>\n",
       "      <td>Asghar Afghan</td>\n",
       "      <td>106.0</td>\n",
       "      <td>47.28</td>\n",
       "    </tr>\n",
       "    <tr>\n",
       "      <th>1</th>\n",
       "      <td>Najeeb Tarakai</td>\n",
       "      <td>Fareed Ahmad</td>\n",
       "      <td>Samiullah Shinwari</td>\n",
       "      <td>Rashid Khan</td>\n",
       "      <td>67.0</td>\n",
       "      <td>38.48</td>\n",
       "    </tr>\n",
       "    <tr>\n",
       "      <th>2</th>\n",
       "      <td>Najeeb Tarakai</td>\n",
       "      <td>Fareed Ahmad</td>\n",
       "      <td>Samiullah Shinwari</td>\n",
       "      <td>Rahmat Shah</td>\n",
       "      <td>175.0</td>\n",
       "      <td>58.58</td>\n",
       "    </tr>\n",
       "    <tr>\n",
       "      <th>3</th>\n",
       "      <td>Najeeb Tarakai</td>\n",
       "      <td>Fareed Ahmad</td>\n",
       "      <td>Samiullah Shinwari</td>\n",
       "      <td>Dawlat Zadran</td>\n",
       "      <td>67.0</td>\n",
       "      <td>30.99</td>\n",
       "    </tr>\n",
       "    <tr>\n",
       "      <th>4</th>\n",
       "      <td>Najeeb Tarakai</td>\n",
       "      <td>Fareed Ahmad</td>\n",
       "      <td>Samiullah Shinwari</td>\n",
       "      <td>Gulbadin Naib</td>\n",
       "      <td>67.0</td>\n",
       "      <td>42.56</td>\n",
       "    </tr>\n",
       "  </tbody>\n",
       "</table>\n",
       "</div>"
      ],
      "text/plain": [
       "         player-1      player-2            player-3       player-4  \\\n",
       "0  Najeeb Tarakai  Fareed Ahmad  Samiullah Shinwari  Asghar Afghan   \n",
       "1  Najeeb Tarakai  Fareed Ahmad  Samiullah Shinwari    Rashid Khan   \n",
       "2  Najeeb Tarakai  Fareed Ahmad  Samiullah Shinwari    Rahmat Shah   \n",
       "3  Najeeb Tarakai  Fareed Ahmad  Samiullah Shinwari  Dawlat Zadran   \n",
       "4  Najeeb Tarakai  Fareed Ahmad  Samiullah Shinwari  Gulbadin Naib   \n",
       "\n",
       "   combined_avg  sum_of_individual  \n",
       "0         106.0              47.28  \n",
       "1          67.0              38.48  \n",
       "2         175.0              58.58  \n",
       "3          67.0              30.99  \n",
       "4          67.0              42.56  "
      ]
     },
     "execution_count": 46,
     "metadata": {},
     "output_type": "execute_result"
    }
   ],
   "source": [
    "afg_beautiful4grams.head()"
   ]
  },
  {
   "cell_type": "code",
   "execution_count": 47,
   "metadata": {},
   "outputs": [
    {
     "data": {
      "text/plain": [
       "(3205, 6)"
      ]
     },
     "execution_count": 47,
     "metadata": {},
     "output_type": "execute_result"
    }
   ],
   "source": [
    "afg_beautiful4grams.shape"
   ]
  },
  {
   "cell_type": "code",
   "execution_count": 48,
   "metadata": {},
   "outputs": [],
   "source": [
    "afg_beautiful4grams.to_csv('afg_beautiful4grams.csv')"
   ]
  },
  {
   "cell_type": "code",
   "execution_count": 49,
   "metadata": {},
   "outputs": [],
   "source": [
    "# 5 grams - find beautiful combinations"
   ]
  },
  {
   "cell_type": "code",
   "execution_count": 51,
   "metadata": {},
   "outputs": [],
   "source": [
    "#load data file\n",
    "data5grams = pd.read_csv('afg5grams.csv')"
   ]
  },
  {
   "cell_type": "code",
   "execution_count": 52,
   "metadata": {},
   "outputs": [
    {
     "data": {
      "text/html": [
       "<div>\n",
       "<style scoped>\n",
       "    .dataframe tbody tr th:only-of-type {\n",
       "        vertical-align: middle;\n",
       "    }\n",
       "\n",
       "    .dataframe tbody tr th {\n",
       "        vertical-align: top;\n",
       "    }\n",
       "\n",
       "    .dataframe thead th {\n",
       "        text-align: right;\n",
       "    }\n",
       "</style>\n",
       "<table border=\"1\" class=\"dataframe\">\n",
       "  <thead>\n",
       "    <tr style=\"text-align: right;\">\n",
       "      <th></th>\n",
       "      <th>player-1</th>\n",
       "      <th>player-2</th>\n",
       "      <th>player-3</th>\n",
       "      <th>player-4</th>\n",
       "      <th>player-5</th>\n",
       "      <th>avg</th>\n",
       "    </tr>\n",
       "  </thead>\n",
       "  <tbody>\n",
       "    <tr>\n",
       "      <th>0</th>\n",
       "      <td>Najeeb Tarakai</td>\n",
       "      <td>Mirwais Ashraf</td>\n",
       "      <td>Zahir Khan</td>\n",
       "      <td>Najibullah Zadran</td>\n",
       "      <td>Karim Sadiq</td>\n",
       "      <td>0.0</td>\n",
       "    </tr>\n",
       "    <tr>\n",
       "      <th>1</th>\n",
       "      <td>Najeeb Tarakai</td>\n",
       "      <td>Mirwais Ashraf</td>\n",
       "      <td>Zahir Khan</td>\n",
       "      <td>Najibullah Zadran</td>\n",
       "      <td>Rokhan Barakzai</td>\n",
       "      <td>0.0</td>\n",
       "    </tr>\n",
       "    <tr>\n",
       "      <th>2</th>\n",
       "      <td>Najeeb Tarakai</td>\n",
       "      <td>Mirwais Ashraf</td>\n",
       "      <td>Zahir Khan</td>\n",
       "      <td>Najibullah Zadran</td>\n",
       "      <td>Shabir Noori</td>\n",
       "      <td>0.0</td>\n",
       "    </tr>\n",
       "    <tr>\n",
       "      <th>3</th>\n",
       "      <td>Najeeb Tarakai</td>\n",
       "      <td>Mirwais Ashraf</td>\n",
       "      <td>Zahir Khan</td>\n",
       "      <td>Najibullah Zadran</td>\n",
       "      <td>Afsar Zazai</td>\n",
       "      <td>0.0</td>\n",
       "    </tr>\n",
       "    <tr>\n",
       "      <th>4</th>\n",
       "      <td>Najeeb Tarakai</td>\n",
       "      <td>Hamid Hassan</td>\n",
       "      <td>Mirwais Ashraf</td>\n",
       "      <td>Zahir Khan</td>\n",
       "      <td>Najibullah Zadran</td>\n",
       "      <td>0.0</td>\n",
       "    </tr>\n",
       "  </tbody>\n",
       "</table>\n",
       "</div>"
      ],
      "text/plain": [
       "         player-1        player-2        player-3           player-4  \\\n",
       "0  Najeeb Tarakai  Mirwais Ashraf      Zahir Khan  Najibullah Zadran   \n",
       "1  Najeeb Tarakai  Mirwais Ashraf      Zahir Khan  Najibullah Zadran   \n",
       "2  Najeeb Tarakai  Mirwais Ashraf      Zahir Khan  Najibullah Zadran   \n",
       "3  Najeeb Tarakai  Mirwais Ashraf      Zahir Khan  Najibullah Zadran   \n",
       "4  Najeeb Tarakai    Hamid Hassan  Mirwais Ashraf         Zahir Khan   \n",
       "\n",
       "            player-5  avg  \n",
       "0        Karim Sadiq  0.0  \n",
       "1    Rokhan Barakzai  0.0  \n",
       "2       Shabir Noori  0.0  \n",
       "3        Afsar Zazai  0.0  \n",
       "4  Najibullah Zadran  0.0  "
      ]
     },
     "execution_count": 52,
     "metadata": {},
     "output_type": "execute_result"
    }
   ],
   "source": [
    "data5grams.head()"
   ]
  },
  {
   "cell_type": "code",
   "execution_count": 53,
   "metadata": {},
   "outputs": [
    {
     "data": {
      "text/plain": [
       "(501942, 6)"
      ]
     },
     "execution_count": 53,
     "metadata": {},
     "output_type": "execute_result"
    }
   ],
   "source": [
    "data5grams.shape"
   ]
  },
  {
   "cell_type": "code",
   "execution_count": 54,
   "metadata": {},
   "outputs": [],
   "source": [
    "data5grams = data5grams[data5grams.avg != 0.0]"
   ]
  },
  {
   "cell_type": "code",
   "execution_count": 55,
   "metadata": {},
   "outputs": [
    {
     "data": {
      "text/plain": [
       "(13239, 6)"
      ]
     },
     "execution_count": 55,
     "metadata": {},
     "output_type": "execute_result"
    }
   ],
   "source": [
    "data5grams.shape"
   ]
  },
  {
   "cell_type": "code",
   "execution_count": 57,
   "metadata": {},
   "outputs": [],
   "source": [
    "data5grams = data5grams.reset_index(drop=True)"
   ]
  },
  {
   "cell_type": "code",
   "execution_count": 59,
   "metadata": {},
   "outputs": [],
   "source": [
    "new_column_names = [\"player-1\", \"player-2\", \"player-3\", \"player-4\", \"player-5\", \"combined_avg\",\"sum_of_individual\"]\n",
    "\n",
    "afg_beautiful5grams = pd.DataFrame(columns = new_column_names)"
   ]
  },
  {
   "cell_type": "code",
   "execution_count": 61,
   "metadata": {},
   "outputs": [],
   "source": [
    "for index, row in data5grams.iterrows():\n",
    "    player1 = data5grams.iloc[index]['player-1']\n",
    "    player2 = data5grams.iloc[index]['player-2']\n",
    "    player3 = data5grams.iloc[index]['player-3']\n",
    "    player4 = data5grams.iloc[index]['player-4']\n",
    "    player5 = data5grams.iloc[index]['player-5']\n",
    "    combined = data5grams.iloc[index]['avg']\n",
    "    individual_avg_sum = dictionary.get(player1)+dictionary.get(player2)+dictionary.get(player3)+dictionary.get(player4)+dictionary.get(player5)\n",
    "    if(combined > individual_avg_sum):\n",
    "        afg_beautiful5grams = afg_beautiful5grams.append({'player-1':player1, 'player-2':player2,'player-3':player3, 'player-4':player4, 'player-5':player5,'combined_avg': combined, 'sum_of_individual':individual_avg_sum}, ignore_index=True)"
   ]
  },
  {
   "cell_type": "code",
   "execution_count": 62,
   "metadata": {},
   "outputs": [
    {
     "data": {
      "text/plain": [
       "(6235, 7)"
      ]
     },
     "execution_count": 62,
     "metadata": {},
     "output_type": "execute_result"
    }
   ],
   "source": [
    "afg_beautiful5grams.shape"
   ]
  },
  {
   "cell_type": "code",
   "execution_count": 63,
   "metadata": {},
   "outputs": [
    {
     "data": {
      "text/html": [
       "<div>\n",
       "<style scoped>\n",
       "    .dataframe tbody tr th:only-of-type {\n",
       "        vertical-align: middle;\n",
       "    }\n",
       "\n",
       "    .dataframe tbody tr th {\n",
       "        vertical-align: top;\n",
       "    }\n",
       "\n",
       "    .dataframe thead th {\n",
       "        text-align: right;\n",
       "    }\n",
       "</style>\n",
       "<table border=\"1\" class=\"dataframe\">\n",
       "  <thead>\n",
       "    <tr style=\"text-align: right;\">\n",
       "      <th></th>\n",
       "      <th>player-1</th>\n",
       "      <th>player-2</th>\n",
       "      <th>player-3</th>\n",
       "      <th>player-4</th>\n",
       "      <th>player-5</th>\n",
       "      <th>combined_avg</th>\n",
       "      <th>sum_of_individual</th>\n",
       "    </tr>\n",
       "  </thead>\n",
       "  <tbody>\n",
       "    <tr>\n",
       "      <th>0</th>\n",
       "      <td>Najeeb Tarakai</td>\n",
       "      <td>Fareed Ahmad</td>\n",
       "      <td>Samiullah Shinwari</td>\n",
       "      <td>Asghar Afghan</td>\n",
       "      <td>Rashid Khan</td>\n",
       "      <td>106.0</td>\n",
       "      <td>61.06</td>\n",
       "    </tr>\n",
       "    <tr>\n",
       "      <th>1</th>\n",
       "      <td>Najeeb Tarakai</td>\n",
       "      <td>Fareed Ahmad</td>\n",
       "      <td>Rahmat Shah</td>\n",
       "      <td>Samiullah Shinwari</td>\n",
       "      <td>Asghar Afghan</td>\n",
       "      <td>214.0</td>\n",
       "      <td>81.16</td>\n",
       "    </tr>\n",
       "    <tr>\n",
       "      <th>2</th>\n",
       "      <td>Najeeb Tarakai</td>\n",
       "      <td>Fareed Ahmad</td>\n",
       "      <td>Samiullah Shinwari</td>\n",
       "      <td>Asghar Afghan</td>\n",
       "      <td>Dawlat Zadran</td>\n",
       "      <td>106.0</td>\n",
       "      <td>53.57</td>\n",
       "    </tr>\n",
       "    <tr>\n",
       "      <th>3</th>\n",
       "      <td>Najeeb Tarakai</td>\n",
       "      <td>Fareed Ahmad</td>\n",
       "      <td>Samiullah Shinwari</td>\n",
       "      <td>Asghar Afghan</td>\n",
       "      <td>Gulbadin Naib</td>\n",
       "      <td>106.0</td>\n",
       "      <td>65.14</td>\n",
       "    </tr>\n",
       "    <tr>\n",
       "      <th>4</th>\n",
       "      <td>Najeeb Tarakai</td>\n",
       "      <td>Fareed Ahmad</td>\n",
       "      <td>Mohammad Nabi</td>\n",
       "      <td>Samiullah Shinwari</td>\n",
       "      <td>Asghar Afghan</td>\n",
       "      <td>106.0</td>\n",
       "      <td>67.90</td>\n",
       "    </tr>\n",
       "  </tbody>\n",
       "</table>\n",
       "</div>"
      ],
      "text/plain": [
       "         player-1      player-2            player-3            player-4  \\\n",
       "0  Najeeb Tarakai  Fareed Ahmad  Samiullah Shinwari       Asghar Afghan   \n",
       "1  Najeeb Tarakai  Fareed Ahmad         Rahmat Shah  Samiullah Shinwari   \n",
       "2  Najeeb Tarakai  Fareed Ahmad  Samiullah Shinwari       Asghar Afghan   \n",
       "3  Najeeb Tarakai  Fareed Ahmad  Samiullah Shinwari       Asghar Afghan   \n",
       "4  Najeeb Tarakai  Fareed Ahmad       Mohammad Nabi  Samiullah Shinwari   \n",
       "\n",
       "        player-5  combined_avg  sum_of_individual  \n",
       "0    Rashid Khan         106.0              61.06  \n",
       "1  Asghar Afghan         214.0              81.16  \n",
       "2  Dawlat Zadran         106.0              53.57  \n",
       "3  Gulbadin Naib         106.0              65.14  \n",
       "4  Asghar Afghan         106.0              67.90  "
      ]
     },
     "execution_count": 63,
     "metadata": {},
     "output_type": "execute_result"
    }
   ],
   "source": [
    "afg_beautiful5grams.head()"
   ]
  },
  {
   "cell_type": "code",
   "execution_count": 64,
   "metadata": {},
   "outputs": [],
   "source": [
    "afg_beautiful5grams.to_csv('afg_beautiful5grams.csv')"
   ]
  },
  {
   "cell_type": "code",
   "execution_count": null,
   "metadata": {},
   "outputs": [],
   "source": []
  }
 ],
 "metadata": {
  "kernelspec": {
   "display_name": "Python 3",
   "language": "python",
   "name": "python3"
  },
  "language_info": {
   "codemirror_mode": {
    "name": "ipython",
    "version": 3
   },
   "file_extension": ".py",
   "mimetype": "text/x-python",
   "name": "python",
   "nbconvert_exporter": "python",
   "pygments_lexer": "ipython3",
   "version": "3.8.1"
  }
 },
 "nbformat": 4,
 "nbformat_minor": 4
}
