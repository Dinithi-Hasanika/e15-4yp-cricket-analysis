{
 "cells": [
  {
   "cell_type": "code",
   "execution_count": 1,
   "metadata": {},
   "outputs": [],
   "source": [
    "import numpy as np\n",
    "import pandas as pd\n",
    "import matplotlib.pyplot as plt\n",
    "import seaborn as sns\n",
    "%matplotlib inline"
   ]
  },
  {
   "cell_type": "code",
   "execution_count": 2,
   "metadata": {},
   "outputs": [],
   "source": [
    "#load data file\n",
    "data = pd.read_csv('aus.csv')"
   ]
  },
  {
   "cell_type": "code",
   "execution_count": 3,
   "metadata": {},
   "outputs": [
    {
     "data": {
      "text/html": [
       "<div>\n",
       "<style scoped>\n",
       "    .dataframe tbody tr th:only-of-type {\n",
       "        vertical-align: middle;\n",
       "    }\n",
       "\n",
       "    .dataframe tbody tr th {\n",
       "        vertical-align: top;\n",
       "    }\n",
       "\n",
       "    .dataframe thead th {\n",
       "        text-align: right;\n",
       "    }\n",
       "</style>\n",
       "<table border=\"1\" class=\"dataframe\">\n",
       "  <thead>\n",
       "    <tr style=\"text-align: right;\">\n",
       "      <th></th>\n",
       "      <th>p1</th>\n",
       "      <th>p1-s</th>\n",
       "      <th>p2</th>\n",
       "      <th>p2-s</th>\n",
       "      <th>p3</th>\n",
       "      <th>p3-s</th>\n",
       "      <th>p4</th>\n",
       "      <th>p4-s</th>\n",
       "      <th>p5</th>\n",
       "      <th>p5-s</th>\n",
       "      <th>...</th>\n",
       "      <th>p7</th>\n",
       "      <th>p7-s</th>\n",
       "      <th>p8</th>\n",
       "      <th>p8-s</th>\n",
       "      <th>p9</th>\n",
       "      <th>p9-s</th>\n",
       "      <th>p10</th>\n",
       "      <th>p10-s</th>\n",
       "      <th>p11</th>\n",
       "      <th>p11-s</th>\n",
       "    </tr>\n",
       "  </thead>\n",
       "  <tbody>\n",
       "    <tr>\n",
       "      <th>0</th>\n",
       "      <td>DA Warner</td>\n",
       "      <td>127</td>\n",
       "      <td>AJ Finch</td>\n",
       "      <td>15</td>\n",
       "      <td>SR Watson</td>\n",
       "      <td>16</td>\n",
       "      <td>SPD Smith</td>\n",
       "      <td>37</td>\n",
       "      <td>GJ Bailey</td>\n",
       "      <td>10</td>\n",
       "      <td>...</td>\n",
       "      <td>BJ Haddin</td>\n",
       "      <td>16</td>\n",
       "      <td>JP Faulkner</td>\n",
       "      <td>6</td>\n",
       "      <td>MA Starc</td>\n",
       "      <td>0</td>\n",
       "      <td>PJ Cummins</td>\n",
       "      <td>0</td>\n",
       "      <td>XJ Doherty</td>\n",
       "      <td>0</td>\n",
       "    </tr>\n",
       "    <tr>\n",
       "      <th>1</th>\n",
       "      <td>AJ Finch</td>\n",
       "      <td>96</td>\n",
       "      <td>DA Warner</td>\n",
       "      <td>24</td>\n",
       "      <td>SR Watson</td>\n",
       "      <td>41</td>\n",
       "      <td>SPD Smith</td>\n",
       "      <td>47</td>\n",
       "      <td>GJ Maxwell</td>\n",
       "      <td>20</td>\n",
       "      <td>...</td>\n",
       "      <td>BJ Haddin</td>\n",
       "      <td>13</td>\n",
       "      <td>JP Faulkner</td>\n",
       "      <td>9</td>\n",
       "      <td>MA Starc</td>\n",
       "      <td>0</td>\n",
       "      <td>PJ Cummins</td>\n",
       "      <td>0</td>\n",
       "      <td>GS Sandhu</td>\n",
       "      <td>0</td>\n",
       "    </tr>\n",
       "    <tr>\n",
       "      <th>2</th>\n",
       "      <td>AJ Finch</td>\n",
       "      <td>32</td>\n",
       "      <td>SE Marsh</td>\n",
       "      <td>45</td>\n",
       "      <td>SPD Smith</td>\n",
       "      <td>102</td>\n",
       "      <td>CL White</td>\n",
       "      <td>0</td>\n",
       "      <td>GJ Maxwell</td>\n",
       "      <td>37</td>\n",
       "      <td>...</td>\n",
       "      <td>BJ Haddin</td>\n",
       "      <td>42</td>\n",
       "      <td>MC Henriques</td>\n",
       "      <td>4</td>\n",
       "      <td>MA Starc</td>\n",
       "      <td>1</td>\n",
       "      <td>PJ Cummins</td>\n",
       "      <td>0</td>\n",
       "      <td>GS Sandhu</td>\n",
       "      <td>0</td>\n",
       "    </tr>\n",
       "    <tr>\n",
       "      <th>3</th>\n",
       "      <td>AJ Finch</td>\n",
       "      <td>0</td>\n",
       "      <td>DA Warner</td>\n",
       "      <td>12</td>\n",
       "      <td>SPD Smith</td>\n",
       "      <td>40</td>\n",
       "      <td>GJ Bailey</td>\n",
       "      <td>2</td>\n",
       "      <td>GJ Maxwell</td>\n",
       "      <td>95</td>\n",
       "      <td>...</td>\n",
       "      <td>BJ Haddin</td>\n",
       "      <td>9</td>\n",
       "      <td>JP Faulkner</td>\n",
       "      <td>50</td>\n",
       "      <td>MG Johnson</td>\n",
       "      <td>3</td>\n",
       "      <td>MA Starc</td>\n",
       "      <td>0</td>\n",
       "      <td>JR Hazlewood</td>\n",
       "      <td>0</td>\n",
       "    </tr>\n",
       "    <tr>\n",
       "      <th>4</th>\n",
       "      <td>DA Warner</td>\n",
       "      <td>22</td>\n",
       "      <td>AJ Finch</td>\n",
       "      <td>135</td>\n",
       "      <td>SR Watson</td>\n",
       "      <td>0</td>\n",
       "      <td>SPD Smith</td>\n",
       "      <td>5</td>\n",
       "      <td>GJ Bailey</td>\n",
       "      <td>55</td>\n",
       "      <td>...</td>\n",
       "      <td>MR Marsh</td>\n",
       "      <td>23</td>\n",
       "      <td>BJ Haddin</td>\n",
       "      <td>31</td>\n",
       "      <td>MG Johnson</td>\n",
       "      <td>0</td>\n",
       "      <td>MA Starc</td>\n",
       "      <td>0</td>\n",
       "      <td>JR Hazlewood</td>\n",
       "      <td>0</td>\n",
       "    </tr>\n",
       "  </tbody>\n",
       "</table>\n",
       "<p>5 rows × 22 columns</p>\n",
       "</div>"
      ],
      "text/plain": [
       "          p1  p1-s         p2  p2-s         p3  p3-s         p4  p4-s  \\\n",
       "0  DA Warner   127   AJ Finch    15  SR Watson    16  SPD Smith    37   \n",
       "1   AJ Finch    96  DA Warner    24  SR Watson    41  SPD Smith    47   \n",
       "2   AJ Finch    32   SE Marsh    45  SPD Smith   102   CL White     0   \n",
       "3   AJ Finch     0  DA Warner    12  SPD Smith    40  GJ Bailey     2   \n",
       "4  DA Warner    22   AJ Finch   135  SR Watson     0  SPD Smith     5   \n",
       "\n",
       "           p5  p5-s  ...         p7  p7-s            p8  p8-s          p9  \\\n",
       "0   GJ Bailey    10  ...  BJ Haddin    16   JP Faulkner     6    MA Starc   \n",
       "1  GJ Maxwell    20  ...  BJ Haddin    13   JP Faulkner     9    MA Starc   \n",
       "2  GJ Maxwell    37  ...  BJ Haddin    42  MC Henriques     4    MA Starc   \n",
       "3  GJ Maxwell    95  ...  BJ Haddin     9   JP Faulkner    50  MG Johnson   \n",
       "4   GJ Bailey    55  ...   MR Marsh    23     BJ Haddin    31  MG Johnson   \n",
       "\n",
       "   p9-s         p10  p10-s           p11  p11-s  \n",
       "0     0  PJ Cummins      0    XJ Doherty      0  \n",
       "1     0  PJ Cummins      0     GS Sandhu      0  \n",
       "2     1  PJ Cummins      0     GS Sandhu      0  \n",
       "3     3    MA Starc      0  JR Hazlewood      0  \n",
       "4     0    MA Starc      0  JR Hazlewood      0  \n",
       "\n",
       "[5 rows x 22 columns]"
      ]
     },
     "execution_count": 3,
     "metadata": {},
     "output_type": "execute_result"
    }
   ],
   "source": [
    "data.head()"
   ]
  },
  {
   "cell_type": "code",
   "execution_count": 4,
   "metadata": {},
   "outputs": [],
   "source": [
    "players = ['p1','p2','p3','p4','p5','p6','p7','p8','p9','p10','p11']\n",
    "player_scores = ['p1-s','p2-s','p3-s','p4-s','p5-s','p6-s','p7-s','p8-s','p9-s','p10-s','p11-s']"
   ]
  },
  {
   "cell_type": "code",
   "execution_count": 5,
   "metadata": {},
   "outputs": [],
   "source": [
    "x = set()"
   ]
  },
  {
   "cell_type": "code",
   "execution_count": 6,
   "metadata": {},
   "outputs": [],
   "source": [
    "for i in players:\n",
    "    for j in range(len(data[i].unique())):\n",
    "        x.add(data[i].unique()[j])"
   ]
  },
  {
   "cell_type": "code",
   "execution_count": 7,
   "metadata": {},
   "outputs": [
    {
     "name": "stdout",
     "output_type": "stream",
     "text": [
      "{'JM Mennie', 'CP Tremain', 'NM Coulter-Nile', 'AT Carey', 'SPD Smith', 'AC Agar', 'MS Wade', 'SD Heazlett', 'JA Richardson', 'MR Marsh', 'M Labuschagne', 'DJ Worrall', 'SR Watson', 'PM Siddle', 'AJ Finch', 'GS Sandhu', 'MG Neser', 'MP Stoinis', 'PJ Cummins', 'CA Lynn', 'B Stanlake', 'JW Hastings', 'XJ Doherty', 'JL Pattinson', 'MJ Clarke', 'UT Khawaja', 'AJ Turner', 'A Zampa', 'JR Hazlewood', 'NM Lyon', 'CL White', 'AJ Tye', 'JA Burns', 'MC Henriques', 'JP Faulkner', 'DA Warner', 'MA Starc', 'HWR Cartwright', 'GJ Maxwell', 'PSP Handscomb', 'SM Boland', 'JS Paris', 'JP Behrendorff', 'SE Marsh', 'TD Paine', 'BJ Haddin', 'KW Richardson', 'DJM Short', 'MG Johnson', 'TM Head', 'GJ Bailey'}\n"
     ]
    }
   ],
   "source": [
    "print(x)"
   ]
  },
  {
   "cell_type": "code",
   "execution_count": 8,
   "metadata": {},
   "outputs": [
    {
     "data": {
      "text/plain": [
       "51"
      ]
     },
     "execution_count": 8,
     "metadata": {},
     "output_type": "execute_result"
    }
   ],
   "source": [
    "len(x)"
   ]
  },
  {
   "cell_type": "code",
   "execution_count": 9,
   "metadata": {},
   "outputs": [
    {
     "name": "stdout",
     "output_type": "stream",
     "text": [
      "['JM Mennie', 'CP Tremain', 'NM Coulter-Nile', 'AT Carey', 'SPD Smith', 'AC Agar', 'MS Wade', 'SD Heazlett', 'JA Richardson', 'MR Marsh', 'M Labuschagne', 'DJ Worrall', 'SR Watson', 'PM Siddle', 'AJ Finch', 'GS Sandhu', 'MG Neser', 'MP Stoinis', 'PJ Cummins', 'CA Lynn', 'B Stanlake', 'JW Hastings', 'XJ Doherty', 'JL Pattinson', 'MJ Clarke', 'UT Khawaja', 'AJ Turner', 'A Zampa', 'JR Hazlewood', 'NM Lyon', 'CL White', 'AJ Tye', 'JA Burns', 'MC Henriques', 'JP Faulkner', 'DA Warner', 'MA Starc', 'HWR Cartwright', 'GJ Maxwell', 'PSP Handscomb', 'SM Boland', 'JS Paris', 'JP Behrendorff', 'SE Marsh', 'TD Paine', 'BJ Haddin', 'KW Richardson', 'DJM Short', 'MG Johnson', 'TM Head', 'GJ Bailey']\n"
     ]
    }
   ],
   "source": [
    "unique_list = list(x)\n",
    "print(unique_list)    "
   ]
  },
  {
   "cell_type": "code",
   "execution_count": 10,
   "metadata": {},
   "outputs": [],
   "source": [
    "column_names = [\"player_name\", \"sum\", \"avg\"]\n",
    "\n",
    "result = pd.DataFrame(columns = column_names)"
   ]
  },
  {
   "cell_type": "code",
   "execution_count": 11,
   "metadata": {},
   "outputs": [
    {
     "name": "stdout",
     "output_type": "stream",
     "text": [
      "JM Mennie  : sum= 1  , count= 2  , average= 0.5\n",
      "CP Tremain  : sum= 23  , count= 4  , average= 5.75\n",
      "NM Coulter-Nile  : sum= 192  , count= 22  , average= 8.73\n",
      "AT Carey  : sum= 1015  , count= 39  , average= 26.03\n",
      "SPD Smith  : sum= 3211  , count= 75  , average= 42.81\n",
      "AC Agar  : sum= 189  , count= 13  , average= 14.54\n",
      "MS Wade  : sum= 868  , count= 44  , average= 19.73\n",
      "SD Heazlett  : sum= 4  , count= 1  , average= 4.0\n",
      "JA Richardson  : sum= 92  , count= 13  , average= 7.08\n",
      "MR Marsh  : sum= 1255  , count= 46  , average= 27.28\n",
      "M Labuschagne  : sum= 394  , count= 10  , average= 39.4\n",
      "DJ Worrall  : sum= 6  , count= 3  , average= 2.0\n",
      "SR Watson  : sum= 312  , count= 11  , average= 28.36\n",
      "PM Siddle  : sum= 10  , count= 3  , average= 3.33\n",
      "AJ Finch  : sum= 3505  , count= 88  , average= 39.83\n",
      "GS Sandhu  : sum= 0  , count= 2  , average= 0.0\n",
      "MG Neser  : sum= 8  , count= 2  , average= 4.0\n",
      "MP Stoinis  : sum= 1106  , count= 44  , average= 25.14\n",
      "PJ Cummins  : sum= 262  , count= 56  , average= 4.68\n",
      "CA Lynn  : sum= 75  , count= 4  , average= 18.75\n",
      "B Stanlake  : sum= 4  , count= 7  , average= 0.57\n",
      "JW Hastings  : sum= 189  , count= 17  , average= 11.12\n",
      "XJ Doherty  : sum= 0  , count= 2  , average= 0.0\n",
      "JL Pattinson  : sum= 2  , count= 2  , average= 1.0\n",
      "MJ Clarke  : sum= 172  , count= 6  , average= 28.67\n",
      "UT Khawaja  : sum= 1540  , count= 36  , average= 42.78\n",
      "AJ Turner  : sum= 79  , count= 6  , average= 13.17\n",
      "A Zampa  : sum= 124  , count= 57  , average= 2.18\n",
      "JR Hazlewood  : sum= 46  , count= 41  , average= 1.12\n",
      "NM Lyon  : sum= 65  , count= 21  , average= 3.1\n",
      "CL White  : sum= 35  , count= 4  , average= 8.75\n",
      "AJ Tye  : sum= 57  , count= 7  , average= 8.14\n",
      "JA Burns  : sum= 146  , count= 6  , average= 24.33\n",
      "MC Henriques  : sum= 31  , count= 4  , average= 7.75\n",
      "JP Faulkner  : sum= 346  , count= 33  , average= 10.48\n",
      "DA Warner  : sum= 3812  , count= 72  , average= 52.94\n",
      "MA Starc  : sum= 240  , count= 61  , average= 3.93\n",
      "HWR Cartwright  : sum= 2  , count= 2  , average= 1.0\n",
      "GJ Maxwell  : sum= 2149  , count= 71  , average= 30.27\n",
      "PSP Handscomb  : sum= 716  , count= 23  , average= 31.13\n",
      "SM Boland  : sum= 9  , count= 13  , average= 0.69\n",
      "JS Paris  : sum= 0  , count= 2  , average= 0.0\n",
      "JP Behrendorff  : sum= 19  , count= 11  , average= 1.73\n",
      "SE Marsh  : sum= 1129  , count= 29  , average= 38.93\n",
      "TD Paine  : sum= 153  , count= 9  , average= 17.0\n",
      "BJ Haddin  : sum= 206  , count= 11  , average= 18.73\n",
      "KW Richardson  : sum= 64  , count= 17  , average= 3.76\n",
      "DJM Short  : sum= 211  , count= 8  , average= 26.38\n",
      "MG Johnson  : sum= 34  , count= 8  , average= 4.25\n",
      "TM Head  : sum= 1273  , count= 40  , average= 31.82\n",
      "GJ Bailey  : sum= 1099  , count= 36  , average= 30.53\n",
      "{'JM Mennie': 0.5, 'CP Tremain': 5.75, 'NM Coulter-Nile': 8.73, 'AT Carey': 26.03, 'SPD Smith': 42.81, 'AC Agar': 14.54, 'MS Wade': 19.73, 'SD Heazlett': 4.0, 'JA Richardson': 7.08, 'MR Marsh': 27.28, 'M Labuschagne': 39.4, 'DJ Worrall': 2.0, 'SR Watson': 28.36, 'PM Siddle': 3.33, 'AJ Finch': 39.83, 'GS Sandhu': 0.0, 'MG Neser': 4.0, 'MP Stoinis': 25.14, 'PJ Cummins': 4.68, 'CA Lynn': 18.75, 'B Stanlake': 0.57, 'JW Hastings': 11.12, 'XJ Doherty': 0.0, 'JL Pattinson': 1.0, 'MJ Clarke': 28.67, 'UT Khawaja': 42.78, 'AJ Turner': 13.17, 'A Zampa': 2.18, 'JR Hazlewood': 1.12, 'NM Lyon': 3.1, 'CL White': 8.75, 'AJ Tye': 8.14, 'JA Burns': 24.33, 'MC Henriques': 7.75, 'JP Faulkner': 10.48, 'DA Warner': 52.94, 'MA Starc': 3.93, 'HWR Cartwright': 1.0, 'GJ Maxwell': 30.27, 'PSP Handscomb': 31.13, 'SM Boland': 0.69, 'JS Paris': 0.0, 'JP Behrendorff': 1.73, 'SE Marsh': 38.93, 'TD Paine': 17.0, 'BJ Haddin': 18.73, 'KW Richardson': 3.76, 'DJM Short': 26.38, 'MG Johnson': 4.25, 'TM Head': 31.82, 'GJ Bailey': 30.53}\n"
     ]
    }
   ],
   "source": [
    "dictionary = dict()\n",
    "\n",
    "for indx, name in enumerate(unique_list):\n",
    "    count = 0\n",
    "    sum = 0\n",
    "    for index, row in data.iterrows():\n",
    "        for ind, p in enumerate(players):\n",
    "                if(data.iloc[index][p] == name ):\n",
    "#                     print(name)\n",
    "                    sum = sum + data.iloc[index][player_scores[ind]] \n",
    "                    count += 1\n",
    "    avg = round((sum/count),2)\n",
    "    print(name,\" : sum=\",sum,\" , count=\",count,\" , average=\",round(avg,2))    \n",
    "    dictionary[name] = avg\n",
    "    result = result.append({'player_name':name, 'sum':sum, 'avg':avg}, ignore_index=True)\n",
    "    \n",
    "print(dictionary)"
   ]
  },
  {
   "cell_type": "code",
   "execution_count": 12,
   "metadata": {},
   "outputs": [],
   "source": [
    "# 2 grams - find beautiful combinations"
   ]
  },
  {
   "cell_type": "code",
   "execution_count": 13,
   "metadata": {},
   "outputs": [],
   "source": [
    "#load data file\n",
    "data2grams = pd.read_csv('aus2grams.csv')"
   ]
  },
  {
   "cell_type": "code",
   "execution_count": 14,
   "metadata": {},
   "outputs": [
    {
     "data": {
      "text/html": [
       "<div>\n",
       "<style scoped>\n",
       "    .dataframe tbody tr th:only-of-type {\n",
       "        vertical-align: middle;\n",
       "    }\n",
       "\n",
       "    .dataframe tbody tr th {\n",
       "        vertical-align: top;\n",
       "    }\n",
       "\n",
       "    .dataframe thead th {\n",
       "        text-align: right;\n",
       "    }\n",
       "</style>\n",
       "<table border=\"1\" class=\"dataframe\">\n",
       "  <thead>\n",
       "    <tr style=\"text-align: right;\">\n",
       "      <th></th>\n",
       "      <th>player-1</th>\n",
       "      <th>player-2</th>\n",
       "      <th>avg</th>\n",
       "    </tr>\n",
       "  </thead>\n",
       "  <tbody>\n",
       "    <tr>\n",
       "      <th>0</th>\n",
       "      <td>XJ Doherty</td>\n",
       "      <td>JR Hazlewood</td>\n",
       "      <td>0.0</td>\n",
       "    </tr>\n",
       "    <tr>\n",
       "      <th>1</th>\n",
       "      <td>XJ Doherty</td>\n",
       "      <td>PM Siddle</td>\n",
       "      <td>0.0</td>\n",
       "    </tr>\n",
       "    <tr>\n",
       "      <th>2</th>\n",
       "      <td>XJ Doherty</td>\n",
       "      <td>SR Watson</td>\n",
       "      <td>41.5</td>\n",
       "    </tr>\n",
       "    <tr>\n",
       "      <th>3</th>\n",
       "      <td>XJ Doherty</td>\n",
       "      <td>M Labuschagne</td>\n",
       "      <td>0.0</td>\n",
       "    </tr>\n",
       "    <tr>\n",
       "      <th>4</th>\n",
       "      <td>XJ Doherty</td>\n",
       "      <td>TD Paine</td>\n",
       "      <td>0.0</td>\n",
       "    </tr>\n",
       "  </tbody>\n",
       "</table>\n",
       "</div>"
      ],
      "text/plain": [
       "     player-1       player-2   avg\n",
       "0  XJ Doherty   JR Hazlewood   0.0\n",
       "1  XJ Doherty      PM Siddle   0.0\n",
       "2  XJ Doherty      SR Watson  41.5\n",
       "3  XJ Doherty  M Labuschagne   0.0\n",
       "4  XJ Doherty       TD Paine   0.0"
      ]
     },
     "execution_count": 14,
     "metadata": {},
     "output_type": "execute_result"
    }
   ],
   "source": [
    "data2grams.head()"
   ]
  },
  {
   "cell_type": "code",
   "execution_count": 15,
   "metadata": {},
   "outputs": [
    {
     "data": {
      "text/plain": [
       "(1275, 3)"
      ]
     },
     "execution_count": 15,
     "metadata": {},
     "output_type": "execute_result"
    }
   ],
   "source": [
    "data2grams.shape"
   ]
  },
  {
   "cell_type": "code",
   "execution_count": 16,
   "metadata": {},
   "outputs": [],
   "source": [
    "data2grams = data2grams[data2grams.avg != 0.0]"
   ]
  },
  {
   "cell_type": "code",
   "execution_count": 17,
   "metadata": {},
   "outputs": [
    {
     "data": {
      "text/plain": [
       "(636, 3)"
      ]
     },
     "execution_count": 17,
     "metadata": {},
     "output_type": "execute_result"
    }
   ],
   "source": [
    "data2grams.shape"
   ]
  },
  {
   "cell_type": "code",
   "execution_count": 18,
   "metadata": {},
   "outputs": [],
   "source": [
    "data2grams = data2grams.reset_index(drop=True)"
   ]
  },
  {
   "cell_type": "code",
   "execution_count": 19,
   "metadata": {},
   "outputs": [],
   "source": [
    "new_column_names = [\"player-1\", \"player-2\", \"combined_avg\",\"sum_of_individual\"]\n",
    "\n",
    "aus_beautiful2grams = pd.DataFrame(columns = new_column_names)"
   ]
  },
  {
   "cell_type": "code",
   "execution_count": 20,
   "metadata": {},
   "outputs": [],
   "source": [
    "for index, row in data2grams.iterrows():\n",
    "    player1 = data2grams.iloc[index]['player-1']\n",
    "    player2 = data2grams.iloc[index]['player-2']\n",
    "    combined = data2grams.iloc[index]['avg']\n",
    "    individual_avg_sum = dictionary.get(player1)+dictionary.get(player2)\n",
    "    if(combined > individual_avg_sum):\n",
    "        aus_beautiful2grams = aus_beautiful2grams.append({'player-1':player1, 'player-2':player2, 'combined_avg': combined, 'sum_of_individual':individual_avg_sum}, ignore_index=True)"
   ]
  },
  {
   "cell_type": "code",
   "execution_count": 21,
   "metadata": {},
   "outputs": [
    {
     "data": {
      "text/html": [
       "<div>\n",
       "<style scoped>\n",
       "    .dataframe tbody tr th:only-of-type {\n",
       "        vertical-align: middle;\n",
       "    }\n",
       "\n",
       "    .dataframe tbody tr th {\n",
       "        vertical-align: top;\n",
       "    }\n",
       "\n",
       "    .dataframe thead th {\n",
       "        text-align: right;\n",
       "    }\n",
       "</style>\n",
       "<table border=\"1\" class=\"dataframe\">\n",
       "  <thead>\n",
       "    <tr style=\"text-align: right;\">\n",
       "      <th></th>\n",
       "      <th>player-1</th>\n",
       "      <th>player-2</th>\n",
       "      <th>combined_avg</th>\n",
       "      <th>sum_of_individual</th>\n",
       "    </tr>\n",
       "  </thead>\n",
       "  <tbody>\n",
       "    <tr>\n",
       "      <th>0</th>\n",
       "      <td>XJ Doherty</td>\n",
       "      <td>SR Watson</td>\n",
       "      <td>41.5</td>\n",
       "      <td>28.36</td>\n",
       "    </tr>\n",
       "    <tr>\n",
       "      <th>1</th>\n",
       "      <td>XJ Doherty</td>\n",
       "      <td>DA Warner</td>\n",
       "      <td>68.0</td>\n",
       "      <td>52.94</td>\n",
       "    </tr>\n",
       "    <tr>\n",
       "      <th>2</th>\n",
       "      <td>XJ Doherty</td>\n",
       "      <td>MJ Clarke</td>\n",
       "      <td>68.0</td>\n",
       "      <td>28.67</td>\n",
       "    </tr>\n",
       "    <tr>\n",
       "      <th>3</th>\n",
       "      <td>XJ Doherty</td>\n",
       "      <td>SPD Smith</td>\n",
       "      <td>54.5</td>\n",
       "      <td>42.81</td>\n",
       "    </tr>\n",
       "    <tr>\n",
       "      <th>4</th>\n",
       "      <td>XJ Doherty</td>\n",
       "      <td>GJ Maxwell</td>\n",
       "      <td>51.0</td>\n",
       "      <td>30.27</td>\n",
       "    </tr>\n",
       "  </tbody>\n",
       "</table>\n",
       "</div>"
      ],
      "text/plain": [
       "     player-1    player-2  combined_avg  sum_of_individual\n",
       "0  XJ Doherty   SR Watson          41.5              28.36\n",
       "1  XJ Doherty   DA Warner          68.0              52.94\n",
       "2  XJ Doherty   MJ Clarke          68.0              28.67\n",
       "3  XJ Doherty   SPD Smith          54.5              42.81\n",
       "4  XJ Doherty  GJ Maxwell          51.0              30.27"
      ]
     },
     "execution_count": 21,
     "metadata": {},
     "output_type": "execute_result"
    }
   ],
   "source": [
    "aus_beautiful2grams.head()"
   ]
  },
  {
   "cell_type": "code",
   "execution_count": 22,
   "metadata": {},
   "outputs": [
    {
     "data": {
      "text/plain": [
       "(302, 4)"
      ]
     },
     "execution_count": 22,
     "metadata": {},
     "output_type": "execute_result"
    }
   ],
   "source": [
    "aus_beautiful2grams.shape"
   ]
  },
  {
   "cell_type": "code",
   "execution_count": 23,
   "metadata": {},
   "outputs": [],
   "source": [
    "aus_beautiful2grams.to_csv('aus_beautiful2grams.csv')"
   ]
  },
  {
   "cell_type": "code",
   "execution_count": 24,
   "metadata": {},
   "outputs": [],
   "source": [
    "# 3 grams - find beautiful combinations"
   ]
  },
  {
   "cell_type": "code",
   "execution_count": 26,
   "metadata": {},
   "outputs": [],
   "source": [
    "#load data file\n",
    "data3grams = pd.read_csv('aus3grams.csv')"
   ]
  },
  {
   "cell_type": "code",
   "execution_count": 27,
   "metadata": {},
   "outputs": [
    {
     "data": {
      "text/html": [
       "<div>\n",
       "<style scoped>\n",
       "    .dataframe tbody tr th:only-of-type {\n",
       "        vertical-align: middle;\n",
       "    }\n",
       "\n",
       "    .dataframe tbody tr th {\n",
       "        vertical-align: top;\n",
       "    }\n",
       "\n",
       "    .dataframe thead th {\n",
       "        text-align: right;\n",
       "    }\n",
       "</style>\n",
       "<table border=\"1\" class=\"dataframe\">\n",
       "  <thead>\n",
       "    <tr style=\"text-align: right;\">\n",
       "      <th></th>\n",
       "      <th>player-1</th>\n",
       "      <th>player-2</th>\n",
       "      <th>player-3</th>\n",
       "      <th>avg</th>\n",
       "    </tr>\n",
       "  </thead>\n",
       "  <tbody>\n",
       "    <tr>\n",
       "      <th>0</th>\n",
       "      <td>XJ Doherty</td>\n",
       "      <td>JR Hazlewood</td>\n",
       "      <td>PM Siddle</td>\n",
       "      <td>0.0</td>\n",
       "    </tr>\n",
       "    <tr>\n",
       "      <th>1</th>\n",
       "      <td>XJ Doherty</td>\n",
       "      <td>JR Hazlewood</td>\n",
       "      <td>SR Watson</td>\n",
       "      <td>0.0</td>\n",
       "    </tr>\n",
       "    <tr>\n",
       "      <th>2</th>\n",
       "      <td>XJ Doherty</td>\n",
       "      <td>JR Hazlewood</td>\n",
       "      <td>M Labuschagne</td>\n",
       "      <td>0.0</td>\n",
       "    </tr>\n",
       "    <tr>\n",
       "      <th>3</th>\n",
       "      <td>XJ Doherty</td>\n",
       "      <td>JR Hazlewood</td>\n",
       "      <td>TD Paine</td>\n",
       "      <td>0.0</td>\n",
       "    </tr>\n",
       "    <tr>\n",
       "      <th>4</th>\n",
       "      <td>XJ Doherty</td>\n",
       "      <td>JR Hazlewood</td>\n",
       "      <td>CA Lynn</td>\n",
       "      <td>0.0</td>\n",
       "    </tr>\n",
       "  </tbody>\n",
       "</table>\n",
       "</div>"
      ],
      "text/plain": [
       "     player-1      player-2       player-3  avg\n",
       "0  XJ Doherty  JR Hazlewood      PM Siddle  0.0\n",
       "1  XJ Doherty  JR Hazlewood      SR Watson  0.0\n",
       "2  XJ Doherty  JR Hazlewood  M Labuschagne  0.0\n",
       "3  XJ Doherty  JR Hazlewood       TD Paine  0.0\n",
       "4  XJ Doherty  JR Hazlewood        CA Lynn  0.0"
      ]
     },
     "execution_count": 27,
     "metadata": {},
     "output_type": "execute_result"
    }
   ],
   "source": [
    "data3grams.head()"
   ]
  },
  {
   "cell_type": "code",
   "execution_count": 28,
   "metadata": {},
   "outputs": [
    {
     "data": {
      "text/plain": [
       "(20825, 4)"
      ]
     },
     "execution_count": 28,
     "metadata": {},
     "output_type": "execute_result"
    }
   ],
   "source": [
    "data3grams.shape"
   ]
  },
  {
   "cell_type": "code",
   "execution_count": 29,
   "metadata": {},
   "outputs": [],
   "source": [
    "data3grams = data3grams[data3grams.avg != 0.0]"
   ]
  },
  {
   "cell_type": "code",
   "execution_count": 30,
   "metadata": {},
   "outputs": [
    {
     "data": {
      "text/plain": [
       "(3612, 4)"
      ]
     },
     "execution_count": 30,
     "metadata": {},
     "output_type": "execute_result"
    }
   ],
   "source": [
    "data3grams.shape"
   ]
  },
  {
   "cell_type": "code",
   "execution_count": 31,
   "metadata": {},
   "outputs": [],
   "source": [
    "data3grams = data3grams.reset_index(drop=True)"
   ]
  },
  {
   "cell_type": "code",
   "execution_count": 32,
   "metadata": {},
   "outputs": [],
   "source": [
    "new_column_names = [\"player-1\", \"player-2\", \"player-3\", \"combined_avg\",\"sum_of_individual\"]\n",
    "\n",
    "aus_beautiful3grams = pd.DataFrame(columns = new_column_names)"
   ]
  },
  {
   "cell_type": "code",
   "execution_count": 33,
   "metadata": {},
   "outputs": [],
   "source": [
    "for index, row in data3grams.iterrows():\n",
    "    player1 = data3grams.iloc[index]['player-1']\n",
    "    player2 = data3grams.iloc[index]['player-2']\n",
    "    player3 = data3grams.iloc[index]['player-3']\n",
    "    combined = data3grams.iloc[index]['avg']\n",
    "    individual_avg_sum = dictionary.get(player1)+dictionary.get(player2)+dictionary.get(player3)\n",
    "    if(combined > individual_avg_sum):\n",
    "        aus_beautiful3grams = aus_beautiful3grams.append({'player-1':player1, 'player-2':player2,'player-3':player3, 'combined_avg': combined, 'sum_of_individual':individual_avg_sum}, ignore_index=True)"
   ]
  },
  {
   "cell_type": "code",
   "execution_count": 34,
   "metadata": {},
   "outputs": [
    {
     "data": {
      "text/html": [
       "<div>\n",
       "<style scoped>\n",
       "    .dataframe tbody tr th:only-of-type {\n",
       "        vertical-align: middle;\n",
       "    }\n",
       "\n",
       "    .dataframe tbody tr th {\n",
       "        vertical-align: top;\n",
       "    }\n",
       "\n",
       "    .dataframe thead th {\n",
       "        text-align: right;\n",
       "    }\n",
       "</style>\n",
       "<table border=\"1\" class=\"dataframe\">\n",
       "  <thead>\n",
       "    <tr style=\"text-align: right;\">\n",
       "      <th></th>\n",
       "      <th>player-1</th>\n",
       "      <th>player-2</th>\n",
       "      <th>player-3</th>\n",
       "      <th>combined_avg</th>\n",
       "      <th>sum_of_individual</th>\n",
       "    </tr>\n",
       "  </thead>\n",
       "  <tbody>\n",
       "    <tr>\n",
       "      <th>0</th>\n",
       "      <td>XJ Doherty</td>\n",
       "      <td>SR Watson</td>\n",
       "      <td>MA Starc</td>\n",
       "      <td>41.5</td>\n",
       "      <td>32.29</td>\n",
       "    </tr>\n",
       "    <tr>\n",
       "      <th>1</th>\n",
       "      <td>XJ Doherty</td>\n",
       "      <td>DA Warner</td>\n",
       "      <td>SR Watson</td>\n",
       "      <td>109.5</td>\n",
       "      <td>81.30</td>\n",
       "    </tr>\n",
       "    <tr>\n",
       "      <th>2</th>\n",
       "      <td>XJ Doherty</td>\n",
       "      <td>MJ Clarke</td>\n",
       "      <td>SR Watson</td>\n",
       "      <td>135.0</td>\n",
       "      <td>57.03</td>\n",
       "    </tr>\n",
       "    <tr>\n",
       "      <th>3</th>\n",
       "      <td>XJ Doherty</td>\n",
       "      <td>MG Johnson</td>\n",
       "      <td>SR Watson</td>\n",
       "      <td>70.0</td>\n",
       "      <td>32.61</td>\n",
       "    </tr>\n",
       "    <tr>\n",
       "      <th>4</th>\n",
       "      <td>XJ Doherty</td>\n",
       "      <td>SPD Smith</td>\n",
       "      <td>SR Watson</td>\n",
       "      <td>96.0</td>\n",
       "      <td>71.17</td>\n",
       "    </tr>\n",
       "  </tbody>\n",
       "</table>\n",
       "</div>"
      ],
      "text/plain": [
       "     player-1    player-2   player-3  combined_avg  sum_of_individual\n",
       "0  XJ Doherty   SR Watson   MA Starc          41.5              32.29\n",
       "1  XJ Doherty   DA Warner  SR Watson         109.5              81.30\n",
       "2  XJ Doherty   MJ Clarke  SR Watson         135.0              57.03\n",
       "3  XJ Doherty  MG Johnson  SR Watson          70.0              32.61\n",
       "4  XJ Doherty   SPD Smith  SR Watson          96.0              71.17"
      ]
     },
     "execution_count": 34,
     "metadata": {},
     "output_type": "execute_result"
    }
   ],
   "source": [
    "aus_beautiful3grams.head()"
   ]
  },
  {
   "cell_type": "code",
   "execution_count": 35,
   "metadata": {},
   "outputs": [
    {
     "data": {
      "text/plain": [
       "(1708, 5)"
      ]
     },
     "execution_count": 35,
     "metadata": {},
     "output_type": "execute_result"
    }
   ],
   "source": [
    "aus_beautiful3grams.shape"
   ]
  },
  {
   "cell_type": "code",
   "execution_count": 36,
   "metadata": {},
   "outputs": [],
   "source": [
    "aus_beautiful3grams.to_csv('aus_beautiful3grams.csv')"
   ]
  },
  {
   "cell_type": "code",
   "execution_count": 37,
   "metadata": {},
   "outputs": [],
   "source": [
    "# 4 grams - find beautiful combinations"
   ]
  },
  {
   "cell_type": "code",
   "execution_count": 38,
   "metadata": {},
   "outputs": [],
   "source": [
    "#load data file\n",
    "data4grams = pd.read_csv('aus4grams.csv')"
   ]
  },
  {
   "cell_type": "code",
   "execution_count": 39,
   "metadata": {},
   "outputs": [
    {
     "data": {
      "text/html": [
       "<div>\n",
       "<style scoped>\n",
       "    .dataframe tbody tr th:only-of-type {\n",
       "        vertical-align: middle;\n",
       "    }\n",
       "\n",
       "    .dataframe tbody tr th {\n",
       "        vertical-align: top;\n",
       "    }\n",
       "\n",
       "    .dataframe thead th {\n",
       "        text-align: right;\n",
       "    }\n",
       "</style>\n",
       "<table border=\"1\" class=\"dataframe\">\n",
       "  <thead>\n",
       "    <tr style=\"text-align: right;\">\n",
       "      <th></th>\n",
       "      <th>player-1</th>\n",
       "      <th>player-2</th>\n",
       "      <th>player-3</th>\n",
       "      <th>player-4</th>\n",
       "      <th>avg</th>\n",
       "    </tr>\n",
       "  </thead>\n",
       "  <tbody>\n",
       "    <tr>\n",
       "      <th>0</th>\n",
       "      <td>SE Marsh</td>\n",
       "      <td>SPD Smith</td>\n",
       "      <td>MS Wade</td>\n",
       "      <td>JS Paris</td>\n",
       "      <td>117.0</td>\n",
       "    </tr>\n",
       "    <tr>\n",
       "      <th>1</th>\n",
       "      <td>SE Marsh</td>\n",
       "      <td>SPD Smith</td>\n",
       "      <td>JS Paris</td>\n",
       "      <td>MG Neser</td>\n",
       "      <td>0.0</td>\n",
       "    </tr>\n",
       "    <tr>\n",
       "      <th>2</th>\n",
       "      <td>SE Marsh</td>\n",
       "      <td>SPD Smith</td>\n",
       "      <td>UT Khawaja</td>\n",
       "      <td>JS Paris</td>\n",
       "      <td>0.0</td>\n",
       "    </tr>\n",
       "    <tr>\n",
       "      <th>3</th>\n",
       "      <td>SE Marsh</td>\n",
       "      <td>SPD Smith</td>\n",
       "      <td>JP Faulkner</td>\n",
       "      <td>JS Paris</td>\n",
       "      <td>117.0</td>\n",
       "    </tr>\n",
       "    <tr>\n",
       "      <th>4</th>\n",
       "      <td>SE Marsh</td>\n",
       "      <td>SPD Smith</td>\n",
       "      <td>JS Paris</td>\n",
       "      <td>SM Boland</td>\n",
       "      <td>117.0</td>\n",
       "    </tr>\n",
       "  </tbody>\n",
       "</table>\n",
       "</div>"
      ],
      "text/plain": [
       "   player-1   player-2     player-3   player-4    avg\n",
       "0  SE Marsh  SPD Smith      MS Wade   JS Paris  117.0\n",
       "1  SE Marsh  SPD Smith     JS Paris   MG Neser    0.0\n",
       "2  SE Marsh  SPD Smith   UT Khawaja   JS Paris    0.0\n",
       "3  SE Marsh  SPD Smith  JP Faulkner   JS Paris  117.0\n",
       "4  SE Marsh  SPD Smith     JS Paris  SM Boland  117.0"
      ]
     },
     "execution_count": 39,
     "metadata": {},
     "output_type": "execute_result"
    }
   ],
   "source": [
    "data4grams.head()"
   ]
  },
  {
   "cell_type": "code",
   "execution_count": 40,
   "metadata": {},
   "outputs": [
    {
     "data": {
      "text/plain": [
       "(249900, 5)"
      ]
     },
     "execution_count": 40,
     "metadata": {},
     "output_type": "execute_result"
    }
   ],
   "source": [
    "data4grams.shape"
   ]
  },
  {
   "cell_type": "code",
   "execution_count": 41,
   "metadata": {},
   "outputs": [],
   "source": [
    "data4grams = data4grams[data4grams.avg != 0.0]"
   ]
  },
  {
   "cell_type": "code",
   "execution_count": 42,
   "metadata": {},
   "outputs": [
    {
     "data": {
      "text/plain": [
       "(11106, 5)"
      ]
     },
     "execution_count": 42,
     "metadata": {},
     "output_type": "execute_result"
    }
   ],
   "source": [
    "data4grams.shape"
   ]
  },
  {
   "cell_type": "code",
   "execution_count": 43,
   "metadata": {},
   "outputs": [],
   "source": [
    "data4grams = data4grams.reset_index(drop=True)"
   ]
  },
  {
   "cell_type": "code",
   "execution_count": 44,
   "metadata": {},
   "outputs": [],
   "source": [
    "new_column_names = [\"player-1\", \"player-2\", \"player-3\", \"player-4\", \"combined_avg\",\"sum_of_individual\"]\n",
    "\n",
    "aus_beautiful4grams = pd.DataFrame(columns = new_column_names)"
   ]
  },
  {
   "cell_type": "code",
   "execution_count": 46,
   "metadata": {},
   "outputs": [],
   "source": [
    "for index, row in data4grams.iterrows():\n",
    "    player1 = data4grams.iloc[index]['player-1']\n",
    "    player2 = data4grams.iloc[index]['player-2']\n",
    "    player3 = data4grams.iloc[index]['player-3']\n",
    "    player4 = data4grams.iloc[index]['player-4']\n",
    "    combined = data4grams.iloc[index]['avg']\n",
    "    individual_avg_sum = dictionary.get(player1)+dictionary.get(player2)+dictionary.get(player3)+dictionary.get(player4)\n",
    "    if(combined > individual_avg_sum):\n",
    "        aus_beautiful4grams = aus_beautiful4grams.append({'player-1':player1, 'player-2':player2,'player-3':player3, 'player-4':player4,'combined_avg': combined, 'sum_of_individual':individual_avg_sum}, ignore_index=True)"
   ]
  },
  {
   "cell_type": "code",
   "execution_count": 47,
   "metadata": {},
   "outputs": [
    {
     "data": {
      "text/html": [
       "<div>\n",
       "<style scoped>\n",
       "    .dataframe tbody tr th:only-of-type {\n",
       "        vertical-align: middle;\n",
       "    }\n",
       "\n",
       "    .dataframe tbody tr th {\n",
       "        vertical-align: top;\n",
       "    }\n",
       "\n",
       "    .dataframe thead th {\n",
       "        text-align: right;\n",
       "    }\n",
       "</style>\n",
       "<table border=\"1\" class=\"dataframe\">\n",
       "  <thead>\n",
       "    <tr style=\"text-align: right;\">\n",
       "      <th></th>\n",
       "      <th>player-1</th>\n",
       "      <th>player-2</th>\n",
       "      <th>player-3</th>\n",
       "      <th>player-4</th>\n",
       "      <th>combined_avg</th>\n",
       "      <th>sum_of_individual</th>\n",
       "    </tr>\n",
       "  </thead>\n",
       "  <tbody>\n",
       "    <tr>\n",
       "      <th>0</th>\n",
       "      <td>SE Marsh</td>\n",
       "      <td>SPD Smith</td>\n",
       "      <td>MS Wade</td>\n",
       "      <td>JS Paris</td>\n",
       "      <td>117.0</td>\n",
       "      <td>101.47</td>\n",
       "    </tr>\n",
       "    <tr>\n",
       "      <th>1</th>\n",
       "      <td>SE Marsh</td>\n",
       "      <td>SPD Smith</td>\n",
       "      <td>JP Faulkner</td>\n",
       "      <td>JS Paris</td>\n",
       "      <td>117.0</td>\n",
       "      <td>92.22</td>\n",
       "    </tr>\n",
       "    <tr>\n",
       "      <th>2</th>\n",
       "      <td>SE Marsh</td>\n",
       "      <td>SPD Smith</td>\n",
       "      <td>JS Paris</td>\n",
       "      <td>SM Boland</td>\n",
       "      <td>117.0</td>\n",
       "      <td>82.43</td>\n",
       "    </tr>\n",
       "    <tr>\n",
       "      <th>3</th>\n",
       "      <td>SE Marsh</td>\n",
       "      <td>SPD Smith</td>\n",
       "      <td>GJ Maxwell</td>\n",
       "      <td>JS Paris</td>\n",
       "      <td>143.0</td>\n",
       "      <td>112.01</td>\n",
       "    </tr>\n",
       "    <tr>\n",
       "      <th>4</th>\n",
       "      <td>SE Marsh</td>\n",
       "      <td>SPD Smith</td>\n",
       "      <td>GJ Bailey</td>\n",
       "      <td>JS Paris</td>\n",
       "      <td>193.0</td>\n",
       "      <td>112.27</td>\n",
       "    </tr>\n",
       "  </tbody>\n",
       "</table>\n",
       "</div>"
      ],
      "text/plain": [
       "   player-1   player-2     player-3   player-4  combined_avg  \\\n",
       "0  SE Marsh  SPD Smith      MS Wade   JS Paris         117.0   \n",
       "1  SE Marsh  SPD Smith  JP Faulkner   JS Paris         117.0   \n",
       "2  SE Marsh  SPD Smith     JS Paris  SM Boland         117.0   \n",
       "3  SE Marsh  SPD Smith   GJ Maxwell   JS Paris         143.0   \n",
       "4  SE Marsh  SPD Smith    GJ Bailey   JS Paris         193.0   \n",
       "\n",
       "   sum_of_individual  \n",
       "0             101.47  \n",
       "1              92.22  \n",
       "2              82.43  \n",
       "3             112.01  \n",
       "4             112.27  "
      ]
     },
     "execution_count": 47,
     "metadata": {},
     "output_type": "execute_result"
    }
   ],
   "source": [
    "aus_beautiful4grams.head()"
   ]
  },
  {
   "cell_type": "code",
   "execution_count": 48,
   "metadata": {},
   "outputs": [
    {
     "data": {
      "text/plain": [
       "(5219, 6)"
      ]
     },
     "execution_count": 48,
     "metadata": {},
     "output_type": "execute_result"
    }
   ],
   "source": [
    "aus_beautiful4grams.shape"
   ]
  },
  {
   "cell_type": "code",
   "execution_count": 49,
   "metadata": {},
   "outputs": [],
   "source": [
    "aus_beautiful4grams.to_csv('aus_beautiful4grams.csv')"
   ]
  },
  {
   "cell_type": "code",
   "execution_count": null,
   "metadata": {},
   "outputs": [],
   "source": []
  }
 ],
 "metadata": {
  "kernelspec": {
   "display_name": "Python 3",
   "language": "python",
   "name": "python3"
  },
  "language_info": {
   "codemirror_mode": {
    "name": "ipython",
    "version": 3
   },
   "file_extension": ".py",
   "mimetype": "text/x-python",
   "name": "python",
   "nbconvert_exporter": "python",
   "pygments_lexer": "ipython3",
   "version": "3.8.1"
  }
 },
 "nbformat": 4,
 "nbformat_minor": 4
}
